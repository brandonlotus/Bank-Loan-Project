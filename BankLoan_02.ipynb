{
 "cells": [
  {
   "cell_type": "markdown",
   "metadata": {},
   "source": [
    "# Bank Loan Status Prediction\n",
    "\n",
    "### Brandon Lotus\n",
    "#### - _Machine Learning and Evaluation_\n",
    "\n",
    "_Sumber dataset: https://www.kaggle.com/zaurbegiev/my-dataset_"
   ]
  },
  {
   "cell_type": "code",
   "execution_count": 121,
   "metadata": {},
   "outputs": [],
   "source": [
    "import pandas as pd\n",
    "import numpy as np\n",
    "import matplotlib.pyplot as plt\n",
    "import seaborn as sns\n",
    "import sidetable\n",
    "import warnings\n",
    "from sklearn.model_selection import train_test_split\n",
    "from sklearn.metrics import roc_curve,auc,roc_auc_score,accuracy_score,f1_score,recall_score,precision_score,classification_report,confusion_matrix\n",
    "from sklearn.preprocessing import RobustScaler,StandardScaler,MinMaxScaler\n",
    "from sklearn.preprocessing import LabelEncoder, OneHotEncoder\n",
    "from sklearn.linear_model import LogisticRegression\n",
    "from imblearn.over_sampling import SMOTE\n",
    "from sklearn.neighbors import KNeighborsClassifier\n",
    "from sklearn.ensemble import RandomForestClassifier, GradientBoostingClassifier\n",
    "from xgboost import XGBClassifier\n",
    "from sklearn.svm import SVC\n",
    "from sklearn.model_selection import RandomizedSearchCV, GridSearchCV\n",
    "from sklearn.pipeline import Pipeline\n",
    "import joblib\n",
    "import pickle\n",
    "warnings.filterwarnings('ignore')\n",
    "\n",
    "%matplotlib inline"
   ]
  },
  {
   "cell_type": "code",
   "execution_count": 2,
   "metadata": {},
   "outputs": [
    {
     "data": {
      "text/html": [
       "<div>\n",
       "<style scoped>\n",
       "    .dataframe tbody tr th:only-of-type {\n",
       "        vertical-align: middle;\n",
       "    }\n",
       "\n",
       "    .dataframe tbody tr th {\n",
       "        vertical-align: top;\n",
       "    }\n",
       "\n",
       "    .dataframe thead th {\n",
       "        text-align: right;\n",
       "    }\n",
       "</style>\n",
       "<table border=\"1\" class=\"dataframe\">\n",
       "  <thead>\n",
       "    <tr style=\"text-align: right;\">\n",
       "      <th></th>\n",
       "      <th>Loan Status</th>\n",
       "      <th>Current Loan Amount</th>\n",
       "      <th>Term</th>\n",
       "      <th>Credit Score</th>\n",
       "      <th>Annual Income</th>\n",
       "      <th>Years in current job</th>\n",
       "      <th>Home Ownership</th>\n",
       "      <th>Purpose</th>\n",
       "      <th>Monthly Debt</th>\n",
       "      <th>Years of Credit History</th>\n",
       "      <th>Number of Open Accounts</th>\n",
       "      <th>Credit Problems</th>\n",
       "      <th>Current Credit Balance</th>\n",
       "      <th>Maximum Open Credit</th>\n",
       "      <th>Bankruptcies</th>\n",
       "      <th>Tax Liens</th>\n",
       "    </tr>\n",
       "  </thead>\n",
       "  <tbody>\n",
       "    <tr>\n",
       "      <th>0</th>\n",
       "      <td>Fully Paid</td>\n",
       "      <td>445412.0</td>\n",
       "      <td>Short Term</td>\n",
       "      <td>709.0</td>\n",
       "      <td>1167493.0</td>\n",
       "      <td>8</td>\n",
       "      <td>Home Mortgage</td>\n",
       "      <td>Home Improvements</td>\n",
       "      <td>5214.74</td>\n",
       "      <td>17.2</td>\n",
       "      <td>6.0</td>\n",
       "      <td>1</td>\n",
       "      <td>228190.0</td>\n",
       "      <td>416746.0</td>\n",
       "      <td>1</td>\n",
       "      <td>0</td>\n",
       "    </tr>\n",
       "    <tr>\n",
       "      <th>1</th>\n",
       "      <td>Fully Paid</td>\n",
       "      <td>262328.0</td>\n",
       "      <td>Short Term</td>\n",
       "      <td>726.0</td>\n",
       "      <td>1172718.0</td>\n",
       "      <td>10</td>\n",
       "      <td>Home Mortgage</td>\n",
       "      <td>Debt Consolidation</td>\n",
       "      <td>33295.98</td>\n",
       "      <td>21.1</td>\n",
       "      <td>35.0</td>\n",
       "      <td>0</td>\n",
       "      <td>229976.0</td>\n",
       "      <td>850784.0</td>\n",
       "      <td>0</td>\n",
       "      <td>0</td>\n",
       "    </tr>\n",
       "    <tr>\n",
       "      <th>2</th>\n",
       "      <td>Fully Paid</td>\n",
       "      <td>347666.0</td>\n",
       "      <td>Long Term</td>\n",
       "      <td>721.0</td>\n",
       "      <td>806949.0</td>\n",
       "      <td>3</td>\n",
       "      <td>Own Home</td>\n",
       "      <td>Debt Consolidation</td>\n",
       "      <td>8741.90</td>\n",
       "      <td>12.0</td>\n",
       "      <td>9.0</td>\n",
       "      <td>0</td>\n",
       "      <td>256329.0</td>\n",
       "      <td>386958.0</td>\n",
       "      <td>0</td>\n",
       "      <td>0</td>\n",
       "    </tr>\n",
       "    <tr>\n",
       "      <th>3</th>\n",
       "      <td>Fully Paid</td>\n",
       "      <td>176220.0</td>\n",
       "      <td>Short Term</td>\n",
       "      <td>726.0</td>\n",
       "      <td>1172718.0</td>\n",
       "      <td>5</td>\n",
       "      <td>Rent</td>\n",
       "      <td>Debt Consolidation</td>\n",
       "      <td>20639.70</td>\n",
       "      <td>6.1</td>\n",
       "      <td>15.0</td>\n",
       "      <td>0</td>\n",
       "      <td>253460.0</td>\n",
       "      <td>427174.0</td>\n",
       "      <td>0</td>\n",
       "      <td>0</td>\n",
       "    </tr>\n",
       "    <tr>\n",
       "      <th>4</th>\n",
       "      <td>Fully Paid</td>\n",
       "      <td>217646.0</td>\n",
       "      <td>Short Term</td>\n",
       "      <td>730.0</td>\n",
       "      <td>1184194.0</td>\n",
       "      <td>0</td>\n",
       "      <td>Home Mortgage</td>\n",
       "      <td>Debt Consolidation</td>\n",
       "      <td>10855.08</td>\n",
       "      <td>19.6</td>\n",
       "      <td>13.0</td>\n",
       "      <td>1</td>\n",
       "      <td>122170.0</td>\n",
       "      <td>272052.0</td>\n",
       "      <td>1</td>\n",
       "      <td>0</td>\n",
       "    </tr>\n",
       "  </tbody>\n",
       "</table>\n",
       "</div>"
      ],
      "text/plain": [
       "  Loan Status  Current Loan Amount        Term  Credit Score  Annual Income  \\\n",
       "0  Fully Paid             445412.0  Short Term         709.0      1167493.0   \n",
       "1  Fully Paid             262328.0  Short Term         726.0      1172718.0   \n",
       "2  Fully Paid             347666.0   Long Term         721.0       806949.0   \n",
       "3  Fully Paid             176220.0  Short Term         726.0      1172718.0   \n",
       "4  Fully Paid             217646.0  Short Term         730.0      1184194.0   \n",
       "\n",
       "   Years in current job Home Ownership             Purpose  Monthly Debt  \\\n",
       "0                     8  Home Mortgage   Home Improvements       5214.74   \n",
       "1                    10  Home Mortgage  Debt Consolidation      33295.98   \n",
       "2                     3       Own Home  Debt Consolidation       8741.90   \n",
       "3                     5           Rent  Debt Consolidation      20639.70   \n",
       "4                     0  Home Mortgage  Debt Consolidation      10855.08   \n",
       "\n",
       "   Years of Credit History  Number of Open Accounts  Credit Problems  \\\n",
       "0                     17.2                      6.0                1   \n",
       "1                     21.1                     35.0                0   \n",
       "2                     12.0                      9.0                0   \n",
       "3                      6.1                     15.0                0   \n",
       "4                     19.6                     13.0                1   \n",
       "\n",
       "   Current Credit Balance  Maximum Open Credit  Bankruptcies  Tax Liens  \n",
       "0                228190.0             416746.0             1          0  \n",
       "1                229976.0             850784.0             0          0  \n",
       "2                256329.0             386958.0             0          0  \n",
       "3                253460.0             427174.0             0          0  \n",
       "4                122170.0             272052.0             1          0  "
      ]
     },
     "execution_count": 2,
     "metadata": {},
     "output_type": "execute_result"
    }
   ],
   "source": [
    "df = pd.read_csv('credit_clean.csv')\n",
    "df.drop(['Unnamed: 0'],axis=1,inplace=True)\n",
    "df.head()"
   ]
  },
  {
   "cell_type": "markdown",
   "metadata": {},
   "source": [
    "## Feature Engineering"
   ]
  },
  {
   "cell_type": "code",
   "execution_count": 5,
   "metadata": {},
   "outputs": [],
   "source": [
    "# df['Number of Credit Problems'] = np.where(df['Number of Credit Problems'] == 0, 0, 1)\n",
    "# df['Bankruptcies'] = np.where(df['Bankruptcies'] == 0, 0, 1)\n",
    "# df['Tax Liens'] = np.where(df['Tax Liens'] == 0, 0, 1)\n",
    "\n",
    "# kolom 'Number of Credit Problems', 'Bankruptcies' dan 'Tax Liens' sebelumnya sudah dibuat menjadi binari(0/1)\n",
    "# karena nilai 0 jauh mendominasi jumlah data dibanding yang lain (sekitar 90% data)"
   ]
  },
  {
   "cell_type": "code",
   "execution_count": 3,
   "metadata": {},
   "outputs": [
    {
     "data": {
      "text/html": [
       "<div>\n",
       "<style scoped>\n",
       "    .dataframe tbody tr th:only-of-type {\n",
       "        vertical-align: middle;\n",
       "    }\n",
       "\n",
       "    .dataframe tbody tr th {\n",
       "        vertical-align: top;\n",
       "    }\n",
       "\n",
       "    .dataframe thead th {\n",
       "        text-align: right;\n",
       "    }\n",
       "</style>\n",
       "<table border=\"1\" class=\"dataframe\">\n",
       "  <thead>\n",
       "    <tr style=\"text-align: right;\">\n",
       "      <th></th>\n",
       "      <th>Purpose</th>\n",
       "      <th>count</th>\n",
       "      <th>percent</th>\n",
       "    </tr>\n",
       "  </thead>\n",
       "  <tbody>\n",
       "    <tr>\n",
       "      <th>0</th>\n",
       "      <td>Debt Consolidation</td>\n",
       "      <td>53473</td>\n",
       "      <td>79.084523</td>\n",
       "    </tr>\n",
       "    <tr>\n",
       "      <th>1</th>\n",
       "      <td>Other</td>\n",
       "      <td>6045</td>\n",
       "      <td>8.940324</td>\n",
       "    </tr>\n",
       "    <tr>\n",
       "      <th>2</th>\n",
       "      <td>Home Improvements</td>\n",
       "      <td>3944</td>\n",
       "      <td>5.833025</td>\n",
       "    </tr>\n",
       "    <tr>\n",
       "      <th>3</th>\n",
       "      <td>Business Loan</td>\n",
       "      <td>1220</td>\n",
       "      <td>1.804333</td>\n",
       "    </tr>\n",
       "    <tr>\n",
       "      <th>4</th>\n",
       "      <td>Buy a Car</td>\n",
       "      <td>871</td>\n",
       "      <td>1.288176</td>\n",
       "    </tr>\n",
       "    <tr>\n",
       "      <th>5</th>\n",
       "      <td>Medical Bills</td>\n",
       "      <td>719</td>\n",
       "      <td>1.063374</td>\n",
       "    </tr>\n",
       "    <tr>\n",
       "      <th>6</th>\n",
       "      <td>Buy House</td>\n",
       "      <td>431</td>\n",
       "      <td>0.637433</td>\n",
       "    </tr>\n",
       "    <tr>\n",
       "      <th>7</th>\n",
       "      <td>vacation</td>\n",
       "      <td>429</td>\n",
       "      <td>0.634475</td>\n",
       "    </tr>\n",
       "    <tr>\n",
       "      <th>8</th>\n",
       "      <td>major_purchase</td>\n",
       "      <td>247</td>\n",
       "      <td>0.365304</td>\n",
       "    </tr>\n",
       "    <tr>\n",
       "      <th>9</th>\n",
       "      <td>moving</td>\n",
       "      <td>93</td>\n",
       "      <td>0.137543</td>\n",
       "    </tr>\n",
       "    <tr>\n",
       "      <th>10</th>\n",
       "      <td>wedding</td>\n",
       "      <td>73</td>\n",
       "      <td>0.107964</td>\n",
       "    </tr>\n",
       "    <tr>\n",
       "      <th>11</th>\n",
       "      <td>Educational Expenses</td>\n",
       "      <td>63</td>\n",
       "      <td>0.093175</td>\n",
       "    </tr>\n",
       "    <tr>\n",
       "      <th>12</th>\n",
       "      <td>renewable_energy</td>\n",
       "      <td>7</td>\n",
       "      <td>0.010353</td>\n",
       "    </tr>\n",
       "  </tbody>\n",
       "</table>\n",
       "</div>"
      ],
      "text/plain": [
       "                 Purpose  count    percent\n",
       "0     Debt Consolidation  53473  79.084523\n",
       "1                  Other   6045   8.940324\n",
       "2      Home Improvements   3944   5.833025\n",
       "3          Business Loan   1220   1.804333\n",
       "4              Buy a Car    871   1.288176\n",
       "5          Medical Bills    719   1.063374\n",
       "6              Buy House    431   0.637433\n",
       "7               vacation    429   0.634475\n",
       "8         major_purchase    247   0.365304\n",
       "9                 moving     93   0.137543\n",
       "10               wedding     73   0.107964\n",
       "11  Educational Expenses     63   0.093175\n",
       "12      renewable_energy      7   0.010353"
      ]
     },
     "execution_count": 3,
     "metadata": {},
     "output_type": "execute_result"
    }
   ],
   "source": [
    "df.stb.freq(['Purpose'], cum_cols = False)\n",
    "\n",
    "# dari perbandingan tujuan peminjaman, terlihat debt consolidation jauh mendominasi (79%)"
   ]
  },
  {
   "cell_type": "code",
   "execution_count": 4,
   "metadata": {},
   "outputs": [
    {
     "data": {
      "text/html": [
       "<div>\n",
       "<style scoped>\n",
       "    .dataframe tbody tr th:only-of-type {\n",
       "        vertical-align: middle;\n",
       "    }\n",
       "\n",
       "    .dataframe tbody tr th {\n",
       "        vertical-align: top;\n",
       "    }\n",
       "\n",
       "    .dataframe thead th {\n",
       "        text-align: right;\n",
       "    }\n",
       "</style>\n",
       "<table border=\"1\" class=\"dataframe\">\n",
       "  <thead>\n",
       "    <tr style=\"text-align: right;\">\n",
       "      <th></th>\n",
       "      <th>Purpose</th>\n",
       "      <th>count</th>\n",
       "      <th>percent</th>\n",
       "    </tr>\n",
       "  </thead>\n",
       "  <tbody>\n",
       "    <tr>\n",
       "      <th>0</th>\n",
       "      <td>Debt Consolidation</td>\n",
       "      <td>53473</td>\n",
       "      <td>79.084523</td>\n",
       "    </tr>\n",
       "    <tr>\n",
       "      <th>1</th>\n",
       "      <td>Other</td>\n",
       "      <td>14142</td>\n",
       "      <td>20.915477</td>\n",
       "    </tr>\n",
       "  </tbody>\n",
       "</table>\n",
       "</div>"
      ],
      "text/plain": [
       "              Purpose  count    percent\n",
       "0  Debt Consolidation  53473  79.084523\n",
       "1               Other  14142  20.915477"
      ]
     },
     "execution_count": 4,
     "metadata": {},
     "output_type": "execute_result"
    }
   ],
   "source": [
    "df['Purpose'] = np.where(df['Purpose'] == 'Debt Consolidation', 'Debt Consolidation', 'Other')\n",
    "df.stb.freq(['Purpose'], cum_cols = False)\n",
    "\n",
    "# kolom purpose dibuat menjadi 2 kategori (debt consolidation dan other)"
   ]
  },
  {
   "cell_type": "markdown",
   "metadata": {},
   "source": [
    "### Encoding"
   ]
  },
  {
   "cell_type": "code",
   "execution_count": 6,
   "metadata": {},
   "outputs": [],
   "source": [
    "df['Loan Status'] = df['Loan Status'].map({'Charged Off': 0, 'Fully Paid': 1})\n",
    "df['Term'] = df['Term'].map({'Short Term': 0, 'Long Term': 1})\n",
    "\n",
    "# dilakukan label encoding untuk kolom loan status dan term karena data binary"
   ]
  },
  {
   "cell_type": "code",
   "execution_count": 7,
   "metadata": {},
   "outputs": [],
   "source": [
    "df = pd.get_dummies(data = df, columns = ['Home Ownership'])\n",
    "df = pd.get_dummies(data = df, columns = ['Purpose'])\n",
    "\n",
    "# dilakukan one hot encoding dengan get_dummies untuk kolom home ownership dan purpose karena data bersifat nominal"
   ]
  },
  {
   "cell_type": "code",
   "execution_count": 8,
   "metadata": {},
   "outputs": [
    {
     "data": {
      "text/html": [
       "<div>\n",
       "<style scoped>\n",
       "    .dataframe tbody tr th:only-of-type {\n",
       "        vertical-align: middle;\n",
       "    }\n",
       "\n",
       "    .dataframe tbody tr th {\n",
       "        vertical-align: top;\n",
       "    }\n",
       "\n",
       "    .dataframe thead th {\n",
       "        text-align: right;\n",
       "    }\n",
       "</style>\n",
       "<table border=\"1\" class=\"dataframe\">\n",
       "  <thead>\n",
       "    <tr style=\"text-align: right;\">\n",
       "      <th></th>\n",
       "      <th>Loan Status</th>\n",
       "      <th>Current Loan Amount</th>\n",
       "      <th>Term</th>\n",
       "      <th>Credit Score</th>\n",
       "      <th>Annual Income</th>\n",
       "      <th>Years in current job</th>\n",
       "      <th>Monthly Debt</th>\n",
       "      <th>Years of Credit History</th>\n",
       "      <th>Number of Open Accounts</th>\n",
       "      <th>Credit Problems</th>\n",
       "      <th>Current Credit Balance</th>\n",
       "      <th>Maximum Open Credit</th>\n",
       "      <th>Bankruptcies</th>\n",
       "      <th>Tax Liens</th>\n",
       "      <th>Home Ownership_Home Mortgage</th>\n",
       "      <th>Home Ownership_Own Home</th>\n",
       "      <th>Home Ownership_Rent</th>\n",
       "      <th>Purpose_Debt Consolidation</th>\n",
       "      <th>Purpose_Other</th>\n",
       "    </tr>\n",
       "  </thead>\n",
       "  <tbody>\n",
       "    <tr>\n",
       "      <th>0</th>\n",
       "      <td>1</td>\n",
       "      <td>445412.0</td>\n",
       "      <td>0</td>\n",
       "      <td>709.0</td>\n",
       "      <td>1167493.0</td>\n",
       "      <td>8</td>\n",
       "      <td>5214.74</td>\n",
       "      <td>17.2</td>\n",
       "      <td>6.0</td>\n",
       "      <td>1</td>\n",
       "      <td>228190.0</td>\n",
       "      <td>416746.0</td>\n",
       "      <td>1</td>\n",
       "      <td>0</td>\n",
       "      <td>1</td>\n",
       "      <td>0</td>\n",
       "      <td>0</td>\n",
       "      <td>0</td>\n",
       "      <td>1</td>\n",
       "    </tr>\n",
       "    <tr>\n",
       "      <th>1</th>\n",
       "      <td>1</td>\n",
       "      <td>262328.0</td>\n",
       "      <td>0</td>\n",
       "      <td>726.0</td>\n",
       "      <td>1172718.0</td>\n",
       "      <td>10</td>\n",
       "      <td>33295.98</td>\n",
       "      <td>21.1</td>\n",
       "      <td>35.0</td>\n",
       "      <td>0</td>\n",
       "      <td>229976.0</td>\n",
       "      <td>850784.0</td>\n",
       "      <td>0</td>\n",
       "      <td>0</td>\n",
       "      <td>1</td>\n",
       "      <td>0</td>\n",
       "      <td>0</td>\n",
       "      <td>1</td>\n",
       "      <td>0</td>\n",
       "    </tr>\n",
       "    <tr>\n",
       "      <th>2</th>\n",
       "      <td>1</td>\n",
       "      <td>347666.0</td>\n",
       "      <td>1</td>\n",
       "      <td>721.0</td>\n",
       "      <td>806949.0</td>\n",
       "      <td>3</td>\n",
       "      <td>8741.90</td>\n",
       "      <td>12.0</td>\n",
       "      <td>9.0</td>\n",
       "      <td>0</td>\n",
       "      <td>256329.0</td>\n",
       "      <td>386958.0</td>\n",
       "      <td>0</td>\n",
       "      <td>0</td>\n",
       "      <td>0</td>\n",
       "      <td>1</td>\n",
       "      <td>0</td>\n",
       "      <td>1</td>\n",
       "      <td>0</td>\n",
       "    </tr>\n",
       "    <tr>\n",
       "      <th>3</th>\n",
       "      <td>1</td>\n",
       "      <td>176220.0</td>\n",
       "      <td>0</td>\n",
       "      <td>726.0</td>\n",
       "      <td>1172718.0</td>\n",
       "      <td>5</td>\n",
       "      <td>20639.70</td>\n",
       "      <td>6.1</td>\n",
       "      <td>15.0</td>\n",
       "      <td>0</td>\n",
       "      <td>253460.0</td>\n",
       "      <td>427174.0</td>\n",
       "      <td>0</td>\n",
       "      <td>0</td>\n",
       "      <td>0</td>\n",
       "      <td>0</td>\n",
       "      <td>1</td>\n",
       "      <td>1</td>\n",
       "      <td>0</td>\n",
       "    </tr>\n",
       "    <tr>\n",
       "      <th>4</th>\n",
       "      <td>1</td>\n",
       "      <td>217646.0</td>\n",
       "      <td>0</td>\n",
       "      <td>730.0</td>\n",
       "      <td>1184194.0</td>\n",
       "      <td>0</td>\n",
       "      <td>10855.08</td>\n",
       "      <td>19.6</td>\n",
       "      <td>13.0</td>\n",
       "      <td>1</td>\n",
       "      <td>122170.0</td>\n",
       "      <td>272052.0</td>\n",
       "      <td>1</td>\n",
       "      <td>0</td>\n",
       "      <td>1</td>\n",
       "      <td>0</td>\n",
       "      <td>0</td>\n",
       "      <td>1</td>\n",
       "      <td>0</td>\n",
       "    </tr>\n",
       "  </tbody>\n",
       "</table>\n",
       "</div>"
      ],
      "text/plain": [
       "   Loan Status  Current Loan Amount  Term  Credit Score  Annual Income  \\\n",
       "0            1             445412.0     0         709.0      1167493.0   \n",
       "1            1             262328.0     0         726.0      1172718.0   \n",
       "2            1             347666.0     1         721.0       806949.0   \n",
       "3            1             176220.0     0         726.0      1172718.0   \n",
       "4            1             217646.0     0         730.0      1184194.0   \n",
       "\n",
       "   Years in current job  Monthly Debt  Years of Credit History  \\\n",
       "0                     8       5214.74                     17.2   \n",
       "1                    10      33295.98                     21.1   \n",
       "2                     3       8741.90                     12.0   \n",
       "3                     5      20639.70                      6.1   \n",
       "4                     0      10855.08                     19.6   \n",
       "\n",
       "   Number of Open Accounts  Credit Problems  Current Credit Balance  \\\n",
       "0                      6.0                1                228190.0   \n",
       "1                     35.0                0                229976.0   \n",
       "2                      9.0                0                256329.0   \n",
       "3                     15.0                0                253460.0   \n",
       "4                     13.0                1                122170.0   \n",
       "\n",
       "   Maximum Open Credit  Bankruptcies  Tax Liens  Home Ownership_Home Mortgage  \\\n",
       "0             416746.0             1          0                             1   \n",
       "1             850784.0             0          0                             1   \n",
       "2             386958.0             0          0                             0   \n",
       "3             427174.0             0          0                             0   \n",
       "4             272052.0             1          0                             1   \n",
       "\n",
       "   Home Ownership_Own Home  Home Ownership_Rent  Purpose_Debt Consolidation  \\\n",
       "0                        0                    0                           0   \n",
       "1                        0                    0                           1   \n",
       "2                        1                    0                           1   \n",
       "3                        0                    1                           1   \n",
       "4                        0                    0                           1   \n",
       "\n",
       "   Purpose_Other  \n",
       "0              1  \n",
       "1              0  \n",
       "2              0  \n",
       "3              0  \n",
       "4              0  "
      ]
     },
     "execution_count": 8,
     "metadata": {},
     "output_type": "execute_result"
    }
   ],
   "source": [
    "df.head()"
   ]
  },
  {
   "cell_type": "markdown",
   "metadata": {},
   "source": [
    "### Feature Selection"
   ]
  },
  {
   "cell_type": "code",
   "execution_count": 9,
   "metadata": {},
   "outputs": [
    {
     "data": {
      "image/png": "[encoded data removed]",
      "text/plain": [
       "<Figure size 1440x720 with 2 Axes>"
      ]
     },
     "metadata": {
      "needs_background": "light"
     },
     "output_type": "display_data"
    }
   ],
   "source": [
    "plt.figure(figsize = (20, 10))\n",
    "sns.heatmap(df.corr(), annot=True)\n",
    "plt.show()\n",
    "\n",
    "# setelah encode data, dapat dilihat korelasi antar kolom untuk feature selection"
   ]
  },
  {
   "cell_type": "code",
   "execution_count": 10,
   "metadata": {},
   "outputs": [
    {
     "data": {
      "text/plain": [
       "Credit Score                    0.144282\n",
       "Annual Income                   0.072041\n",
       "Home Ownership_Home Mortgage    0.060584\n",
       "Years of Credit History         0.031073\n",
       "Current Credit Balance          0.011675\n",
       "Maximum Open Credit             0.010621\n",
       "Purpose_Debt Consolidation      0.003008\n",
       "Bankruptcies                   -0.000891\n",
       "Home Ownership_Own Home        -0.002419\n",
       "Purpose_Other                  -0.003008\n",
       "Years in current job           -0.005253\n",
       "Credit Problems                -0.010465\n",
       "Tax Liens                      -0.014191\n",
       "Number of Open Accounts        -0.015310\n",
       "Monthly Debt                   -0.015416\n",
       "Current Loan Amount            -0.057251\n",
       "Home Ownership_Rent            -0.059945\n",
       "Term                           -0.156395\n",
       "Name: Loan Status, dtype: float64"
      ]
     },
     "execution_count": 10,
     "metadata": {},
     "output_type": "execute_result"
    }
   ],
   "source": [
    "df.corr()['Loan Status'].sort_values(ascending = False)[1:]\n",
    "\n",
    "# korelasi antara features dan kolom target (loan status) tertinggi credit score (0,144) dan term (-0,156)\n",
    "# features yang hanya memiliki korelasi sekitar 0.01 atau dibawahnya tidak digunakan dalam ml"
   ]
  },
  {
   "cell_type": "code",
   "execution_count": 11,
   "metadata": {
    "scrolled": true
   },
   "outputs": [
    {
     "data": {
      "text/html": [
       "<div>\n",
       "<style scoped>\n",
       "    .dataframe tbody tr th:only-of-type {\n",
       "        vertical-align: middle;\n",
       "    }\n",
       "\n",
       "    .dataframe tbody tr th {\n",
       "        vertical-align: top;\n",
       "    }\n",
       "\n",
       "    .dataframe thead th {\n",
       "        text-align: right;\n",
       "    }\n",
       "</style>\n",
       "<table border=\"1\" class=\"dataframe\">\n",
       "  <thead>\n",
       "    <tr style=\"text-align: right;\">\n",
       "      <th></th>\n",
       "      <th>Loan Status</th>\n",
       "      <th>Current Loan Amount</th>\n",
       "      <th>Term</th>\n",
       "      <th>Credit Score</th>\n",
       "      <th>Annual Income</th>\n",
       "      <th>Years of Credit History</th>\n",
       "      <th>Home Ownership_Home Mortgage</th>\n",
       "      <th>Home Ownership_Own Home</th>\n",
       "      <th>Home Ownership_Rent</th>\n",
       "    </tr>\n",
       "  </thead>\n",
       "  <tbody>\n",
       "    <tr>\n",
       "      <th>0</th>\n",
       "      <td>1</td>\n",
       "      <td>445412.0</td>\n",
       "      <td>0</td>\n",
       "      <td>709.0</td>\n",
       "      <td>1167493.0</td>\n",
       "      <td>17.2</td>\n",
       "      <td>1</td>\n",
       "      <td>0</td>\n",
       "      <td>0</td>\n",
       "    </tr>\n",
       "    <tr>\n",
       "      <th>1</th>\n",
       "      <td>1</td>\n",
       "      <td>262328.0</td>\n",
       "      <td>0</td>\n",
       "      <td>726.0</td>\n",
       "      <td>1172718.0</td>\n",
       "      <td>21.1</td>\n",
       "      <td>1</td>\n",
       "      <td>0</td>\n",
       "      <td>0</td>\n",
       "    </tr>\n",
       "    <tr>\n",
       "      <th>2</th>\n",
       "      <td>1</td>\n",
       "      <td>347666.0</td>\n",
       "      <td>1</td>\n",
       "      <td>721.0</td>\n",
       "      <td>806949.0</td>\n",
       "      <td>12.0</td>\n",
       "      <td>0</td>\n",
       "      <td>1</td>\n",
       "      <td>0</td>\n",
       "    </tr>\n",
       "    <tr>\n",
       "      <th>3</th>\n",
       "      <td>1</td>\n",
       "      <td>176220.0</td>\n",
       "      <td>0</td>\n",
       "      <td>726.0</td>\n",
       "      <td>1172718.0</td>\n",
       "      <td>6.1</td>\n",
       "      <td>0</td>\n",
       "      <td>0</td>\n",
       "      <td>1</td>\n",
       "    </tr>\n",
       "    <tr>\n",
       "      <th>4</th>\n",
       "      <td>1</td>\n",
       "      <td>217646.0</td>\n",
       "      <td>0</td>\n",
       "      <td>730.0</td>\n",
       "      <td>1184194.0</td>\n",
       "      <td>19.6</td>\n",
       "      <td>1</td>\n",
       "      <td>0</td>\n",
       "      <td>0</td>\n",
       "    </tr>\n",
       "  </tbody>\n",
       "</table>\n",
       "</div>"
      ],
      "text/plain": [
       "   Loan Status  Current Loan Amount  Term  Credit Score  Annual Income  \\\n",
       "0            1             445412.0     0         709.0      1167493.0   \n",
       "1            1             262328.0     0         726.0      1172718.0   \n",
       "2            1             347666.0     1         721.0       806949.0   \n",
       "3            1             176220.0     0         726.0      1172718.0   \n",
       "4            1             217646.0     0         730.0      1184194.0   \n",
       "\n",
       "   Years of Credit History  Home Ownership_Home Mortgage  \\\n",
       "0                     17.2                             1   \n",
       "1                     21.1                             1   \n",
       "2                     12.0                             0   \n",
       "3                      6.1                             0   \n",
       "4                     19.6                             1   \n",
       "\n",
       "   Home Ownership_Own Home  Home Ownership_Rent  \n",
       "0                        0                    0  \n",
       "1                        0                    0  \n",
       "2                        1                    0  \n",
       "3                        0                    1  \n",
       "4                        0                    0  "
      ]
     },
     "execution_count": 11,
     "metadata": {},
     "output_type": "execute_result"
    }
   ],
   "source": [
    "df.drop(['Current Credit Balance','Maximum Open Credit','Purpose_Debt Consolidation','Purpose_Other','Bankruptcies',\n",
    "         'Years in current job','Credit Problems','Tax Liens','Number of Open Accounts','Monthly Debt'],axis=1,inplace=True)\n",
    "df.head()"
   ]
  },
  {
   "cell_type": "markdown",
   "metadata": {},
   "source": [
    "### Data Split"
   ]
  },
  {
   "cell_type": "code",
   "execution_count": 12,
   "metadata": {},
   "outputs": [],
   "source": [
    "X = df.drop(columns='Loan Status')\n",
    "y = df['Loan Status']\n",
    "X_train, X_test, y_train, y_test = train_test_split(X ,y ,stratify = y, train_size=.80, random_state=42)"
   ]
  },
  {
   "cell_type": "markdown",
   "metadata": {},
   "source": [
    "### Handling Imbalance"
   ]
  },
  {
   "cell_type": "code",
   "execution_count": 14,
   "metadata": {},
   "outputs": [],
   "source": [
    "from imblearn.over_sampling import SMOTE\n",
    "sm = SMOTE(random_state = 42)\n",
    "\n",
    "# menggunakan metode smote untuk menyamakan jumlah data kelas majority dan minority"
   ]
  },
  {
   "cell_type": "code",
   "execution_count": 15,
   "metadata": {
    "scrolled": true
   },
   "outputs": [],
   "source": [
    "X_train_sm, y_train_sm = sm.fit_sample(X_train, y_train)"
   ]
  },
  {
   "cell_type": "code",
   "execution_count": 16,
   "metadata": {},
   "outputs": [
    {
     "data": {
      "text/plain": [
       "1    39655\n",
       "0    39655\n",
       "Name: Loan Status, dtype: int64"
      ]
     },
     "execution_count": 16,
     "metadata": {},
     "output_type": "execute_result"
    }
   ],
   "source": [
    "df_smote = pd.concat([X_train_sm, y_train_sm], axis = 1)\n",
    "df_smote['Loan Status'].value_counts()"
   ]
  },
  {
   "cell_type": "markdown",
   "metadata": {},
   "source": [
    "### Scaling"
   ]
  },
  {
   "cell_type": "code",
   "execution_count": 17,
   "metadata": {},
   "outputs": [],
   "source": [
    "scaler_ro = RobustScaler()\n",
    "X_train_sm_ro = scaler_ro.fit_transform(X_train_sm)\n",
    "X_test_ro = scaler_ro.transform(X_test)\n",
    "\n",
    "# scaling untuk algorithm berbasis distance menggunakan robust scaler karena terdapat outliers"
   ]
  },
  {
   "cell_type": "markdown",
   "metadata": {},
   "source": [
    "### Logistic Regression Base"
   ]
  },
  {
   "cell_type": "code",
   "execution_count": 51,
   "metadata": {},
   "outputs": [
    {
     "data": {
      "text/plain": [
       "LogisticRegression()"
      ]
     },
     "execution_count": 51,
     "metadata": {},
     "output_type": "execute_result"
    }
   ],
   "source": [
    "lr_base = LogisticRegression()\n",
    "lr_base.fit(X_train_sm_ro, y_train_sm)"
   ]
  },
  {
   "cell_type": "code",
   "execution_count": 52,
   "metadata": {},
   "outputs": [],
   "source": [
    "pred_lr_base = lr_base.predict(X_test_ro)"
   ]
  },
  {
   "cell_type": "code",
   "execution_count": 53,
   "metadata": {},
   "outputs": [
    {
     "name": "stdout",
     "output_type": "stream",
     "text": [
      "              precision    recall  f1-score   support\n",
      "\n",
      "           0       0.40      0.20      0.27      3609\n",
      "           1       0.75      0.89      0.82      9914\n",
      "\n",
      "    accuracy                           0.71     13523\n",
      "   macro avg       0.58      0.55      0.54     13523\n",
      "weighted avg       0.66      0.71      0.67     13523\n",
      "\n"
     ]
    }
   ],
   "source": [
    "print(classification_report(y_test, pred_lr_base))"
   ]
  },
  {
   "cell_type": "code",
   "execution_count": 148,
   "metadata": {},
   "outputs": [
    {
     "data": {
      "image/png": "[encoded data removed]",
      "text/plain": [
       "<Figure size 432x288 with 2 Axes>"
      ]
     },
     "metadata": {
      "needs_background": "light"
     },
     "output_type": "display_data"
    }
   ],
   "source": [
    "cm_lr_base = confusion_matrix(y_test, pred_lr_base, labels = [1,0])\n",
    "df_lr_base = pd.DataFrame(data = cm_lr_base, columns=['Prediction 1','Prediction 0'],index=['Actual 1','Actual 0'])\n",
    "sns.heatmap(df_lr_base, annot = True)\n",
    "plt.show()"
   ]
  },
  {
   "cell_type": "code",
   "execution_count": 55,
   "metadata": {},
   "outputs": [
    {
     "data": {
      "text/html": [
       "<div>\n",
       "<style scoped>\n",
       "    .dataframe tbody tr th:only-of-type {\n",
       "        vertical-align: middle;\n",
       "    }\n",
       "\n",
       "    .dataframe tbody tr th {\n",
       "        vertical-align: top;\n",
       "    }\n",
       "\n",
       "    .dataframe thead th {\n",
       "        text-align: right;\n",
       "    }\n",
       "</style>\n",
       "<table border=\"1\" class=\"dataframe\">\n",
       "  <thead>\n",
       "    <tr style=\"text-align: right;\">\n",
       "      <th></th>\n",
       "      <th>Prediction 1</th>\n",
       "      <th>Prediction 0</th>\n",
       "    </tr>\n",
       "  </thead>\n",
       "  <tbody>\n",
       "    <tr>\n",
       "      <th>Actual 1</th>\n",
       "      <td>8839</td>\n",
       "      <td>1075</td>\n",
       "    </tr>\n",
       "    <tr>\n",
       "      <th>Actual 0</th>\n",
       "      <td>2884</td>\n",
       "      <td>725</td>\n",
       "    </tr>\n",
       "  </tbody>\n",
       "</table>\n",
       "</div>"
      ],
      "text/plain": [
       "          Prediction 1  Prediction 0\n",
       "Actual 1          8839          1075\n",
       "Actual 0          2884           725"
      ]
     },
     "execution_count": 55,
     "metadata": {},
     "output_type": "execute_result"
    }
   ],
   "source": [
    "df_lr_base"
   ]
  },
  {
   "cell_type": "code",
   "execution_count": 56,
   "metadata": {},
   "outputs": [
    {
     "data": {
      "text/html": [
       "<div>\n",
       "<style scoped>\n",
       "    .dataframe tbody tr th:only-of-type {\n",
       "        vertical-align: middle;\n",
       "    }\n",
       "\n",
       "    .dataframe tbody tr th {\n",
       "        vertical-align: top;\n",
       "    }\n",
       "\n",
       "    .dataframe thead th {\n",
       "        text-align: right;\n",
       "    }\n",
       "</style>\n",
       "<table border=\"1\" class=\"dataframe\">\n",
       "  <thead>\n",
       "    <tr style=\"text-align: right;\">\n",
       "      <th></th>\n",
       "      <th>LogReg Base</th>\n",
       "    </tr>\n",
       "  </thead>\n",
       "  <tbody>\n",
       "    <tr>\n",
       "      <th>accuracy</th>\n",
       "      <td>0.707240</td>\n",
       "    </tr>\n",
       "    <tr>\n",
       "      <th>recall</th>\n",
       "      <td>0.891567</td>\n",
       "    </tr>\n",
       "    <tr>\n",
       "      <th>precision</th>\n",
       "      <td>0.753988</td>\n",
       "    </tr>\n",
       "    <tr>\n",
       "      <th>roc_auc_score</th>\n",
       "      <td>0.546227</td>\n",
       "    </tr>\n",
       "    <tr>\n",
       "      <th>f1_score</th>\n",
       "      <td>0.817026</td>\n",
       "    </tr>\n",
       "  </tbody>\n",
       "</table>\n",
       "</div>"
      ],
      "text/plain": [
       "               LogReg Base\n",
       "accuracy          0.707240\n",
       "recall            0.891567\n",
       "precision         0.753988\n",
       "roc_auc_score     0.546227\n",
       "f1_score          0.817026"
      ]
     },
     "execution_count": 56,
     "metadata": {},
     "output_type": "execute_result"
    }
   ],
   "source": [
    "pd.DataFrame(data=[accuracy_score(y_test, pred_lr_base), recall_score(y_test, pred_lr_base),\n",
    "                   precision_score(y_test, pred_lr_base), roc_auc_score(y_test, pred_lr_base),\n",
    "                   f1_score(y_test, pred_lr_base)],index = ['accuracy', 'recall', 'precision', 'roc_auc_score', 'f1_score'],\n",
    "             columns = ['LogReg Base'])"
   ]
  },
  {
   "cell_type": "code",
   "execution_count": 57,
   "metadata": {},
   "outputs": [
    {
     "data": {
      "text/html": [
       "<div>\n",
       "<style scoped>\n",
       "    .dataframe tbody tr th:only-of-type {\n",
       "        vertical-align: middle;\n",
       "    }\n",
       "\n",
       "    .dataframe tbody tr th {\n",
       "        vertical-align: top;\n",
       "    }\n",
       "\n",
       "    .dataframe thead th {\n",
       "        text-align: right;\n",
       "    }\n",
       "</style>\n",
       "<table border=\"1\" class=\"dataframe\">\n",
       "  <thead>\n",
       "    <tr style=\"text-align: right;\">\n",
       "      <th></th>\n",
       "      <th>LogReg Base</th>\n",
       "    </tr>\n",
       "  </thead>\n",
       "  <tbody>\n",
       "    <tr>\n",
       "      <th>Train Score</th>\n",
       "      <td>0.731365</td>\n",
       "    </tr>\n",
       "    <tr>\n",
       "      <th>Test Score</th>\n",
       "      <td>0.732012</td>\n",
       "    </tr>\n",
       "  </tbody>\n",
       "</table>\n",
       "</div>"
      ],
      "text/plain": [
       "             LogReg Base\n",
       "Train Score     0.731365\n",
       "Test Score      0.732012"
      ]
     },
     "execution_count": 57,
     "metadata": {},
     "output_type": "execute_result"
    }
   ],
   "source": [
    "pd.DataFrame(data = [lr_base.score(X_train, y_train), lr_base.score(X_test, y_test)],\n",
    "             index = ['Train Score', 'Test Score'], columns = ['LogReg Base'])"
   ]
  },
  {
   "cell_type": "markdown",
   "metadata": {},
   "source": [
    "### Random Forest Base"
   ]
  },
  {
   "cell_type": "code",
   "execution_count": 39,
   "metadata": {},
   "outputs": [
    {
     "data": {
      "text/plain": [
       "RandomForestClassifier()"
      ]
     },
     "execution_count": 39,
     "metadata": {},
     "output_type": "execute_result"
    }
   ],
   "source": [
    "rf_base = RandomForestClassifier()\n",
    "rf_base.fit(X_train_sm, y_train_sm)"
   ]
  },
  {
   "cell_type": "code",
   "execution_count": 40,
   "metadata": {},
   "outputs": [],
   "source": [
    "pred_rf_base = rf_base.predict(X_test)"
   ]
  },
  {
   "cell_type": "code",
   "execution_count": 41,
   "metadata": {},
   "outputs": [
    {
     "name": "stdout",
     "output_type": "stream",
     "text": [
      "              precision    recall  f1-score   support\n",
      "\n",
      "           0       0.36      0.30      0.33      3609\n",
      "           1       0.76      0.81      0.78      9914\n",
      "\n",
      "    accuracy                           0.67     13523\n",
      "   macro avg       0.56      0.55      0.55     13523\n",
      "weighted avg       0.65      0.67      0.66     13523\n",
      "\n"
     ]
    }
   ],
   "source": [
    "print(classification_report(y_test, pred_rf_base))"
   ]
  },
  {
   "cell_type": "code",
   "execution_count": 149,
   "metadata": {},
   "outputs": [
    {
     "data": {
      "image/png": "[encoded data removed]",
      "text/plain": [
       "<Figure size 432x288 with 2 Axes>"
      ]
     },
     "metadata": {
      "needs_background": "light"
     },
     "output_type": "display_data"
    }
   ],
   "source": [
    "cm_rf_base = confusion_matrix(y_test, pred_rf_base, labels = [1,0])\n",
    "df_rf_base = pd.DataFrame(data = cm_rf_base, columns=['Prediction 1','Prediction 0'],index=['Actual 1','Actual 0'])\n",
    "sns.heatmap(df_rf_base, annot = True)\n",
    "plt.show()"
   ]
  },
  {
   "cell_type": "code",
   "execution_count": 43,
   "metadata": {},
   "outputs": [
    {
     "data": {
      "text/html": [
       "<div>\n",
       "<style scoped>\n",
       "    .dataframe tbody tr th:only-of-type {\n",
       "        vertical-align: middle;\n",
       "    }\n",
       "\n",
       "    .dataframe tbody tr th {\n",
       "        vertical-align: top;\n",
       "    }\n",
       "\n",
       "    .dataframe thead th {\n",
       "        text-align: right;\n",
       "    }\n",
       "</style>\n",
       "<table border=\"1\" class=\"dataframe\">\n",
       "  <thead>\n",
       "    <tr style=\"text-align: right;\">\n",
       "      <th></th>\n",
       "      <th>Prediction 1</th>\n",
       "      <th>Prediction 0</th>\n",
       "    </tr>\n",
       "  </thead>\n",
       "  <tbody>\n",
       "    <tr>\n",
       "      <th>Actual 1</th>\n",
       "      <td>8025</td>\n",
       "      <td>1889</td>\n",
       "    </tr>\n",
       "    <tr>\n",
       "      <th>Actual 0</th>\n",
       "      <td>2538</td>\n",
       "      <td>1071</td>\n",
       "    </tr>\n",
       "  </tbody>\n",
       "</table>\n",
       "</div>"
      ],
      "text/plain": [
       "          Prediction 1  Prediction 0\n",
       "Actual 1          8025          1889\n",
       "Actual 0          2538          1071"
      ]
     },
     "execution_count": 43,
     "metadata": {},
     "output_type": "execute_result"
    }
   ],
   "source": [
    "df_rf_base"
   ]
  },
  {
   "cell_type": "code",
   "execution_count": 44,
   "metadata": {},
   "outputs": [
    {
     "data": {
      "text/html": [
       "<div>\n",
       "<style scoped>\n",
       "    .dataframe tbody tr th:only-of-type {\n",
       "        vertical-align: middle;\n",
       "    }\n",
       "\n",
       "    .dataframe tbody tr th {\n",
       "        vertical-align: top;\n",
       "    }\n",
       "\n",
       "    .dataframe thead th {\n",
       "        text-align: right;\n",
       "    }\n",
       "</style>\n",
       "<table border=\"1\" class=\"dataframe\">\n",
       "  <thead>\n",
       "    <tr style=\"text-align: right;\">\n",
       "      <th></th>\n",
       "      <th>Random Forest Base</th>\n",
       "    </tr>\n",
       "  </thead>\n",
       "  <tbody>\n",
       "    <tr>\n",
       "      <th>accuracy</th>\n",
       "      <td>0.672632</td>\n",
       "    </tr>\n",
       "    <tr>\n",
       "      <th>recall</th>\n",
       "      <td>0.809461</td>\n",
       "    </tr>\n",
       "    <tr>\n",
       "      <th>precision</th>\n",
       "      <td>0.759727</td>\n",
       "    </tr>\n",
       "    <tr>\n",
       "      <th>roc_auc_score</th>\n",
       "      <td>0.553110</td>\n",
       "    </tr>\n",
       "    <tr>\n",
       "      <th>f1_score</th>\n",
       "      <td>0.783806</td>\n",
       "    </tr>\n",
       "  </tbody>\n",
       "</table>\n",
       "</div>"
      ],
      "text/plain": [
       "               Random Forest Base\n",
       "accuracy                 0.672632\n",
       "recall                   0.809461\n",
       "precision                0.759727\n",
       "roc_auc_score            0.553110\n",
       "f1_score                 0.783806"
      ]
     },
     "execution_count": 44,
     "metadata": {},
     "output_type": "execute_result"
    }
   ],
   "source": [
    "pd.DataFrame(data=[accuracy_score(y_test, pred_rf_base), recall_score(y_test, pred_rf_base),\n",
    "                   precision_score(y_test, pred_rf_base), roc_auc_score(y_test, pred_rf_base),\n",
    "                   f1_score(y_test, pred_rf_base)],index = ['accuracy', 'recall', 'precision', 'roc_auc_score', 'f1_score'],\n",
    "             columns = ['Random Forest Base'])"
   ]
  },
  {
   "cell_type": "code",
   "execution_count": 45,
   "metadata": {},
   "outputs": [
    {
     "data": {
      "text/html": [
       "<div>\n",
       "<style scoped>\n",
       "    .dataframe tbody tr th:only-of-type {\n",
       "        vertical-align: middle;\n",
       "    }\n",
       "\n",
       "    .dataframe tbody tr th {\n",
       "        vertical-align: top;\n",
       "    }\n",
       "\n",
       "    .dataframe thead th {\n",
       "        text-align: right;\n",
       "    }\n",
       "</style>\n",
       "<table border=\"1\" class=\"dataframe\">\n",
       "  <thead>\n",
       "    <tr style=\"text-align: right;\">\n",
       "      <th></th>\n",
       "      <th>Random Forest Base</th>\n",
       "    </tr>\n",
       "  </thead>\n",
       "  <tbody>\n",
       "    <tr>\n",
       "      <th>Train Score</th>\n",
       "      <td>0.999908</td>\n",
       "    </tr>\n",
       "    <tr>\n",
       "      <th>Test Score</th>\n",
       "      <td>0.672632</td>\n",
       "    </tr>\n",
       "  </tbody>\n",
       "</table>\n",
       "</div>"
      ],
      "text/plain": [
       "             Random Forest Base\n",
       "Train Score            0.999908\n",
       "Test Score             0.672632"
      ]
     },
     "execution_count": 45,
     "metadata": {},
     "output_type": "execute_result"
    }
   ],
   "source": [
    "pd.DataFrame(data = [rf_base.score(X_train, y_train), rf_base.score(X_test, y_test)],\n",
    "             index = ['Train Score', 'Test Score'], columns = ['Random Forest Base'])"
   ]
  },
  {
   "cell_type": "markdown",
   "metadata": {},
   "source": [
    "### XGBoost Base"
   ]
  },
  {
   "cell_type": "code",
   "execution_count": 28,
   "metadata": {},
   "outputs": [
    {
     "data": {
      "text/plain": [
       "GradientBoostingClassifier()"
      ]
     },
     "execution_count": 28,
     "metadata": {},
     "output_type": "execute_result"
    }
   ],
   "source": [
    "xg_base = GradientBoostingClassifier()\n",
    "xg_base.fit(X_train_sm, y_train_sm)"
   ]
  },
  {
   "cell_type": "code",
   "execution_count": 29,
   "metadata": {},
   "outputs": [],
   "source": [
    "pred_xg_base = xg_base.predict(X_test)"
   ]
  },
  {
   "cell_type": "code",
   "execution_count": 30,
   "metadata": {},
   "outputs": [
    {
     "name": "stdout",
     "output_type": "stream",
     "text": [
      "              precision    recall  f1-score   support\n",
      "\n",
      "           0       0.40      0.31      0.35      3609\n",
      "           1       0.77      0.83      0.80      9914\n",
      "\n",
      "    accuracy                           0.69     13523\n",
      "   macro avg       0.58      0.57      0.57     13523\n",
      "weighted avg       0.67      0.69      0.68     13523\n",
      "\n"
     ]
    }
   ],
   "source": [
    "print(classification_report(y_test, pred_xg_base))"
   ]
  },
  {
   "cell_type": "code",
   "execution_count": 150,
   "metadata": {},
   "outputs": [
    {
     "data": {
      "image/png": "[encoded data removed]",
      "text/plain": [
       "<Figure size 432x288 with 2 Axes>"
      ]
     },
     "metadata": {
      "needs_background": "light"
     },
     "output_type": "display_data"
    }
   ],
   "source": [
    "cm_xg_base = confusion_matrix(y_test, pred_xg_base, labels = [1,0])\n",
    "df_xg_base = pd.DataFrame(data = cm_xg_base, columns=['Prediction 1','Prediction 0'],index=['Actual 1','Actual 0'])\n",
    "sns.heatmap(df_xg_base, annot = True)\n",
    "plt.show()"
   ]
  },
  {
   "cell_type": "code",
   "execution_count": 32,
   "metadata": {},
   "outputs": [
    {
     "data": {
      "text/html": [
       "<div>\n",
       "<style scoped>\n",
       "    .dataframe tbody tr th:only-of-type {\n",
       "        vertical-align: middle;\n",
       "    }\n",
       "\n",
       "    .dataframe tbody tr th {\n",
       "        vertical-align: top;\n",
       "    }\n",
       "\n",
       "    .dataframe thead th {\n",
       "        text-align: right;\n",
       "    }\n",
       "</style>\n",
       "<table border=\"1\" class=\"dataframe\">\n",
       "  <thead>\n",
       "    <tr style=\"text-align: right;\">\n",
       "      <th></th>\n",
       "      <th>Prediction 1</th>\n",
       "      <th>Prediction 0</th>\n",
       "    </tr>\n",
       "  </thead>\n",
       "  <tbody>\n",
       "    <tr>\n",
       "      <th>Actual 1</th>\n",
       "      <td>8260</td>\n",
       "      <td>1654</td>\n",
       "    </tr>\n",
       "    <tr>\n",
       "      <th>Actual 0</th>\n",
       "      <td>2506</td>\n",
       "      <td>1103</td>\n",
       "    </tr>\n",
       "  </tbody>\n",
       "</table>\n",
       "</div>"
      ],
      "text/plain": [
       "          Prediction 1  Prediction 0\n",
       "Actual 1          8260          1654\n",
       "Actual 0          2506          1103"
      ]
     },
     "execution_count": 32,
     "metadata": {},
     "output_type": "execute_result"
    }
   ],
   "source": [
    "df_xg_base"
   ]
  },
  {
   "cell_type": "code",
   "execution_count": 37,
   "metadata": {},
   "outputs": [
    {
     "data": {
      "text/html": [
       "<div>\n",
       "<style scoped>\n",
       "    .dataframe tbody tr th:only-of-type {\n",
       "        vertical-align: middle;\n",
       "    }\n",
       "\n",
       "    .dataframe tbody tr th {\n",
       "        vertical-align: top;\n",
       "    }\n",
       "\n",
       "    .dataframe thead th {\n",
       "        text-align: right;\n",
       "    }\n",
       "</style>\n",
       "<table border=\"1\" class=\"dataframe\">\n",
       "  <thead>\n",
       "    <tr style=\"text-align: right;\">\n",
       "      <th></th>\n",
       "      <th>XGBoost Base</th>\n",
       "    </tr>\n",
       "  </thead>\n",
       "  <tbody>\n",
       "    <tr>\n",
       "      <th>accuracy</th>\n",
       "      <td>0.692376</td>\n",
       "    </tr>\n",
       "    <tr>\n",
       "      <th>recall</th>\n",
       "      <td>0.833165</td>\n",
       "    </tr>\n",
       "    <tr>\n",
       "      <th>precision</th>\n",
       "      <td>0.767230</td>\n",
       "    </tr>\n",
       "    <tr>\n",
       "      <th>roc_auc_score</th>\n",
       "      <td>0.569395</td>\n",
       "    </tr>\n",
       "    <tr>\n",
       "      <th>f1_score</th>\n",
       "      <td>0.798839</td>\n",
       "    </tr>\n",
       "  </tbody>\n",
       "</table>\n",
       "</div>"
      ],
      "text/plain": [
       "               XGBoost Base\n",
       "accuracy           0.692376\n",
       "recall             0.833165\n",
       "precision          0.767230\n",
       "roc_auc_score      0.569395\n",
       "f1_score           0.798839"
      ]
     },
     "execution_count": 37,
     "metadata": {},
     "output_type": "execute_result"
    }
   ],
   "source": [
    "pd.DataFrame(data=[accuracy_score(y_test, pred_xg_base), recall_score(y_test, pred_xg_base),\n",
    "                   precision_score(y_test, pred_xg_base), roc_auc_score(y_test, pred_xg_base),\n",
    "                   f1_score(y_test, pred_xg_base)],index = ['accuracy', 'recall', 'precision', 'roc_auc_score', 'f1_score'],\n",
    "             columns = ['XGBoost Base'])"
   ]
  },
  {
   "cell_type": "code",
   "execution_count": 38,
   "metadata": {},
   "outputs": [
    {
     "data": {
      "text/html": [
       "<div>\n",
       "<style scoped>\n",
       "    .dataframe tbody tr th:only-of-type {\n",
       "        vertical-align: middle;\n",
       "    }\n",
       "\n",
       "    .dataframe tbody tr th {\n",
       "        vertical-align: top;\n",
       "    }\n",
       "\n",
       "    .dataframe thead th {\n",
       "        text-align: right;\n",
       "    }\n",
       "</style>\n",
       "<table border=\"1\" class=\"dataframe\">\n",
       "  <thead>\n",
       "    <tr style=\"text-align: right;\">\n",
       "      <th></th>\n",
       "      <th>XGBoost Base</th>\n",
       "    </tr>\n",
       "  </thead>\n",
       "  <tbody>\n",
       "    <tr>\n",
       "      <th>Train Score</th>\n",
       "      <td>0.699105</td>\n",
       "    </tr>\n",
       "    <tr>\n",
       "      <th>Test Score</th>\n",
       "      <td>0.692376</td>\n",
       "    </tr>\n",
       "  </tbody>\n",
       "</table>\n",
       "</div>"
      ],
      "text/plain": [
       "             XGBoost Base\n",
       "Train Score      0.699105\n",
       "Test Score       0.692376"
      ]
     },
     "execution_count": 38,
     "metadata": {},
     "output_type": "execute_result"
    }
   ],
   "source": [
    "pd.DataFrame(data = [xg_base.score(X_train, y_train), xg_base.score(X_test, y_test)],\n",
    "             index = ['Train Score', 'Test Score'], columns = ['XGBoost Base'])"
   ]
  },
  {
   "cell_type": "markdown",
   "metadata": {},
   "source": [
    "### Logistic Regression Tuned"
   ]
  },
  {
   "cell_type": "code",
   "execution_count": 46,
   "metadata": {},
   "outputs": [
    {
     "data": {
      "text/plain": [
       "{'C': 1.0,\n",
       " 'class_weight': None,\n",
       " 'dual': False,\n",
       " 'fit_intercept': True,\n",
       " 'intercept_scaling': 1,\n",
       " 'l1_ratio': None,\n",
       " 'max_iter': 100,\n",
       " 'multi_class': 'auto',\n",
       " 'n_jobs': None,\n",
       " 'penalty': 'l2',\n",
       " 'random_state': None,\n",
       " 'solver': 'lbfgs',\n",
       " 'tol': 0.0001,\n",
       " 'verbose': 0,\n",
       " 'warm_start': False}"
      ]
     },
     "execution_count": 46,
     "metadata": {},
     "output_type": "execute_result"
    }
   ],
   "source": [
    "lr_base.get_params()"
   ]
  },
  {
   "cell_type": "code",
   "execution_count": 47,
   "metadata": {},
   "outputs": [
    {
     "name": "stdout",
     "output_type": "stream",
     "text": [
      "Fitting 5 folds for each of 48 candidates, totalling 240 fits\n"
     ]
    },
    {
     "name": "stderr",
     "output_type": "stream",
     "text": [
      "[Parallel(n_jobs=-1)]: Using backend LokyBackend with 8 concurrent workers.\n",
      "[Parallel(n_jobs=-1)]: Done  34 tasks      | elapsed:    6.3s\n",
      "[Parallel(n_jobs=-1)]: Done 184 tasks      | elapsed:   15.1s\n",
      "[Parallel(n_jobs=-1)]: Done 240 out of 240 | elapsed:   17.4s finished\n"
     ]
    },
    {
     "data": {
      "text/plain": [
       "GridSearchCV(cv=5, estimator=LogisticRegression(), n_jobs=-1,\n",
       "             param_grid={'C': [0.001, 0.01, 0.1, 1],\n",
       "                         'max_iter': [10, 100, 1000],\n",
       "                         'penalty': ['l1', 'l2', 'elasticnet', 'none']},\n",
       "             scoring='precision', verbose=1)"
      ]
     },
     "execution_count": 47,
     "metadata": {},
     "output_type": "execute_result"
    }
   ],
   "source": [
    "lr_tune = LogisticRegression()\n",
    "param_lr = {\n",
    "    \"C\": [0.001, 0.01, 0.1, 1],\n",
    "    \"penalty\": ['l1', 'l2', 'elasticnet', 'none'], \n",
    "    \"max_iter\": [10, 100, 1000]}\n",
    "\n",
    "lr_gs = GridSearchCV(\n",
    "    estimator = lr_tune, param_grid = param_lr, cv = 5, n_jobs = -1, verbose = 1, scoring = 'precision')\n",
    "\n",
    "lr_gs.fit(X_train_sm_ro, y_train_sm)"
   ]
  },
  {
   "cell_type": "code",
   "execution_count": 50,
   "metadata": {},
   "outputs": [
    {
     "data": {
      "text/plain": [
       "{'C': 0.001, 'max_iter': 100, 'penalty': 'l2'}"
      ]
     },
     "execution_count": 50,
     "metadata": {},
     "output_type": "execute_result"
    }
   ],
   "source": [
    "lr_gs.best_params_"
   ]
  },
  {
   "cell_type": "code",
   "execution_count": 58,
   "metadata": {},
   "outputs": [],
   "source": [
    "pred_lr_tune = lr_gs.predict(X_test_ro)"
   ]
  },
  {
   "cell_type": "code",
   "execution_count": 59,
   "metadata": {},
   "outputs": [
    {
     "name": "stdout",
     "output_type": "stream",
     "text": [
      "              precision    recall  f1-score   support\n",
      "\n",
      "           0       0.37      0.32      0.34      3609\n",
      "           1       0.76      0.80      0.78      9914\n",
      "\n",
      "    accuracy                           0.67     13523\n",
      "   macro avg       0.56      0.56      0.56     13523\n",
      "weighted avg       0.66      0.67      0.66     13523\n",
      "\n"
     ]
    }
   ],
   "source": [
    "print(classification_report(y_test, pred_lr_tune))"
   ]
  },
  {
   "cell_type": "code",
   "execution_count": 151,
   "metadata": {},
   "outputs": [
    {
     "data": {
      "image/png": "[encoded data removed]",
      "text/plain": [
       "<Figure size 432x288 with 2 Axes>"
      ]
     },
     "metadata": {
      "needs_background": "light"
     },
     "output_type": "display_data"
    }
   ],
   "source": [
    "cm_lr_tune = confusion_matrix(y_test, pred_lr_tune, labels = [1,0])\n",
    "df_lr_tune = pd.DataFrame(data = cm_lr_tune, columns=['Prediction 1','Prediction 0'],index=['Actual 1','Actual 0'])\n",
    "sns.heatmap(df_lr_tune, annot = True)\n",
    "plt.show()"
   ]
  },
  {
   "cell_type": "code",
   "execution_count": 61,
   "metadata": {},
   "outputs": [
    {
     "data": {
      "text/html": [
       "<div>\n",
       "<style scoped>\n",
       "    .dataframe tbody tr th:only-of-type {\n",
       "        vertical-align: middle;\n",
       "    }\n",
       "\n",
       "    .dataframe tbody tr th {\n",
       "        vertical-align: top;\n",
       "    }\n",
       "\n",
       "    .dataframe thead th {\n",
       "        text-align: right;\n",
       "    }\n",
       "</style>\n",
       "<table border=\"1\" class=\"dataframe\">\n",
       "  <thead>\n",
       "    <tr style=\"text-align: right;\">\n",
       "      <th></th>\n",
       "      <th>Prediction 1</th>\n",
       "      <th>Prediction 0</th>\n",
       "    </tr>\n",
       "  </thead>\n",
       "  <tbody>\n",
       "    <tr>\n",
       "      <th>Actual 1</th>\n",
       "      <td>7941</td>\n",
       "      <td>1973</td>\n",
       "    </tr>\n",
       "    <tr>\n",
       "      <th>Actual 0</th>\n",
       "      <td>2466</td>\n",
       "      <td>1143</td>\n",
       "    </tr>\n",
       "  </tbody>\n",
       "</table>\n",
       "</div>"
      ],
      "text/plain": [
       "          Prediction 1  Prediction 0\n",
       "Actual 1          7941          1973\n",
       "Actual 0          2466          1143"
      ]
     },
     "execution_count": 61,
     "metadata": {},
     "output_type": "execute_result"
    }
   ],
   "source": [
    "df_lr_tune"
   ]
  },
  {
   "cell_type": "code",
   "execution_count": 144,
   "metadata": {},
   "outputs": [
    {
     "data": {
      "text/html": [
       "<div>\n",
       "<style scoped>\n",
       "    .dataframe tbody tr th:only-of-type {\n",
       "        vertical-align: middle;\n",
       "    }\n",
       "\n",
       "    .dataframe tbody tr th {\n",
       "        vertical-align: top;\n",
       "    }\n",
       "\n",
       "    .dataframe thead th {\n",
       "        text-align: right;\n",
       "    }\n",
       "</style>\n",
       "<table border=\"1\" class=\"dataframe\">\n",
       "  <thead>\n",
       "    <tr style=\"text-align: right;\">\n",
       "      <th></th>\n",
       "      <th>LogReg Tune</th>\n",
       "    </tr>\n",
       "  </thead>\n",
       "  <tbody>\n",
       "    <tr>\n",
       "      <th>accuracy</th>\n",
       "      <td>0.671744</td>\n",
       "    </tr>\n",
       "    <tr>\n",
       "      <th>recall</th>\n",
       "      <td>0.800989</td>\n",
       "    </tr>\n",
       "    <tr>\n",
       "      <th>precision</th>\n",
       "      <td>0.763044</td>\n",
       "    </tr>\n",
       "    <tr>\n",
       "      <th>roc_auc_score</th>\n",
       "      <td>0.558848</td>\n",
       "    </tr>\n",
       "    <tr>\n",
       "      <th>f1_score</th>\n",
       "      <td>0.781556</td>\n",
       "    </tr>\n",
       "  </tbody>\n",
       "</table>\n",
       "</div>"
      ],
      "text/plain": [
       "               LogReg Tune\n",
       "accuracy          0.671744\n",
       "recall            0.800989\n",
       "precision         0.763044\n",
       "roc_auc_score     0.558848\n",
       "f1_score          0.781556"
      ]
     },
     "execution_count": 144,
     "metadata": {},
     "output_type": "execute_result"
    }
   ],
   "source": [
    "pd.DataFrame(data=[accuracy_score(y_test, pred_lr_tune), recall_score(y_test, pred_lr_tune),\n",
    "                   precision_score(y_test, pred_lr_tune), roc_auc_score(y_test, pred_lr_tune),\n",
    "                   f1_score(y_test, pred_lr_tune)],index = ['accuracy', 'recall', 'precision', 'roc_auc_score', 'f1_score'],\n",
    "             columns = ['LogReg Tune'])"
   ]
  },
  {
   "cell_type": "code",
   "execution_count": 64,
   "metadata": {},
   "outputs": [
    {
     "data": {
      "text/html": [
       "<div>\n",
       "<style scoped>\n",
       "    .dataframe tbody tr th:only-of-type {\n",
       "        vertical-align: middle;\n",
       "    }\n",
       "\n",
       "    .dataframe tbody tr th {\n",
       "        vertical-align: top;\n",
       "    }\n",
       "\n",
       "    .dataframe thead th {\n",
       "        text-align: right;\n",
       "    }\n",
       "</style>\n",
       "<table border=\"1\" class=\"dataframe\">\n",
       "  <thead>\n",
       "    <tr style=\"text-align: right;\">\n",
       "      <th></th>\n",
       "      <th>LogReg Tune</th>\n",
       "    </tr>\n",
       "  </thead>\n",
       "  <tbody>\n",
       "    <tr>\n",
       "      <th>Train Score</th>\n",
       "      <td>0.734600</td>\n",
       "    </tr>\n",
       "    <tr>\n",
       "      <th>Test Score</th>\n",
       "      <td>0.734901</td>\n",
       "    </tr>\n",
       "  </tbody>\n",
       "</table>\n",
       "</div>"
      ],
      "text/plain": [
       "             LogReg Tune\n",
       "Train Score     0.734600\n",
       "Test Score      0.734901"
      ]
     },
     "execution_count": 64,
     "metadata": {},
     "output_type": "execute_result"
    }
   ],
   "source": [
    "pd.DataFrame(data = [lr_gs.score(X_train, y_train), lr_gs.score(X_test, y_test)],\n",
    "             index = ['Train Score', 'Test Score'], columns = ['LogReg Tune'])"
   ]
  },
  {
   "cell_type": "markdown",
   "metadata": {},
   "source": [
    "### Random Forest Tuned"
   ]
  },
  {
   "cell_type": "code",
   "execution_count": 65,
   "metadata": {},
   "outputs": [
    {
     "data": {
      "text/plain": [
       "{'bootstrap': True,\n",
       " 'ccp_alpha': 0.0,\n",
       " 'class_weight': None,\n",
       " 'criterion': 'gini',\n",
       " 'max_depth': None,\n",
       " 'max_features': 'auto',\n",
       " 'max_leaf_nodes': None,\n",
       " 'max_samples': None,\n",
       " 'min_impurity_decrease': 0.0,\n",
       " 'min_impurity_split': None,\n",
       " 'min_samples_leaf': 1,\n",
       " 'min_samples_split': 2,\n",
       " 'min_weight_fraction_leaf': 0.0,\n",
       " 'n_estimators': 100,\n",
       " 'n_jobs': None,\n",
       " 'oob_score': False,\n",
       " 'random_state': None,\n",
       " 'verbose': 0,\n",
       " 'warm_start': False}"
      ]
     },
     "execution_count": 65,
     "metadata": {},
     "output_type": "execute_result"
    }
   ],
   "source": [
    "rf_base.get_params()"
   ]
  },
  {
   "cell_type": "code",
   "execution_count": 95,
   "metadata": {},
   "outputs": [
    {
     "name": "stdout",
     "output_type": "stream",
     "text": [
      "Fitting 5 folds for each of 200 candidates, totalling 1000 fits\n"
     ]
    },
    {
     "name": "stderr",
     "output_type": "stream",
     "text": [
      "[Parallel(n_jobs=-1)]: Using backend LokyBackend with 8 concurrent workers.\n",
      "[Parallel(n_jobs=-1)]: Done  34 tasks      | elapsed:   10.4s\n",
      "[Parallel(n_jobs=-1)]: Done 184 tasks      | elapsed:   54.3s\n",
      "[Parallel(n_jobs=-1)]: Done 434 tasks      | elapsed:  1.8min\n",
      "[Parallel(n_jobs=-1)]: Done 784 tasks      | elapsed:  3.6min\n",
      "[Parallel(n_jobs=-1)]: Done 1000 out of 1000 | elapsed:  4.8min finished\n"
     ]
    },
    {
     "data": {
      "text/plain": [
       "GridSearchCV(cv=5, estimator=RandomForestClassifier(), n_jobs=-1,\n",
       "             param_grid={'max_depth': [None, 1, 5, 7, 10],\n",
       "                         'min_samples_leaf': array([0.05      , 0.05555556, 0.06111111, 0.06666667, 0.07222222,\n",
       "       0.07777778, 0.08333333, 0.08888889, 0.09444444, 0.1       ]),\n",
       "                         'n_estimators': [10, 25, 50, 100]},\n",
       "             scoring='precision', verbose=1)"
      ]
     },
     "execution_count": 95,
     "metadata": {},
     "output_type": "execute_result"
    }
   ],
   "source": [
    "rf_tune = RandomForestClassifier()\n",
    "param_rf = {\n",
    "    \"n_estimators\": [10, 25, 50, 100],\n",
    "    \"max_depth\": [None, 1, 5, 7, 10],\n",
    "    \"min_samples_leaf\": np.linspace(0.05, 0.1, 10)}\n",
    "\n",
    "rf_grid = GridSearchCV(\n",
    "    estimator = rf_tune, param_grid = param_rf, cv = 5, n_jobs = -1, verbose = 1, scoring = 'precision')\n",
    "\n",
    "rf_grid.fit(X_train_sm, y_train_sm)"
   ]
  },
  {
   "cell_type": "code",
   "execution_count": 96,
   "metadata": {},
   "outputs": [
    {
     "data": {
      "text/plain": [
       "{'max_depth': 1, 'min_samples_leaf': 0.07777777777777778, 'n_estimators': 10}"
      ]
     },
     "execution_count": 96,
     "metadata": {},
     "output_type": "execute_result"
    }
   ],
   "source": [
    "rf_grid.best_params_"
   ]
  },
  {
   "cell_type": "code",
   "execution_count": 97,
   "metadata": {},
   "outputs": [],
   "source": [
    "pred_rf_tune = rf_grid.predict(X_test)"
   ]
  },
  {
   "cell_type": "code",
   "execution_count": 98,
   "metadata": {},
   "outputs": [
    {
     "name": "stdout",
     "output_type": "stream",
     "text": [
      "              precision    recall  f1-score   support\n",
      "\n",
      "           0       0.32      0.67      0.44      3609\n",
      "           1       0.80      0.49      0.61      9914\n",
      "\n",
      "    accuracy                           0.54     13523\n",
      "   macro avg       0.56      0.58      0.52     13523\n",
      "weighted avg       0.68      0.54      0.57     13523\n",
      "\n"
     ]
    }
   ],
   "source": [
    "print(classification_report(y_test, pred_rf_tune))"
   ]
  },
  {
   "cell_type": "code",
   "execution_count": 152,
   "metadata": {},
   "outputs": [
    {
     "data": {
      "image/png": "[encoded data removed]",
      "text/plain": [
       "<Figure size 432x288 with 2 Axes>"
      ]
     },
     "metadata": {
      "needs_background": "light"
     },
     "output_type": "display_data"
    }
   ],
   "source": [
    "cm_rf_tune = confusion_matrix(y_test, pred_rf_tune, labels = [1,0])\n",
    "df_rf_tune = pd.DataFrame(data = cm_rf_tune, columns=['Prediction 1','Prediction 0'],index=['Actual 1','Actual 0'])\n",
    "sns.heatmap(df_rf_tune, annot = True)\n",
    "plt.show()"
   ]
  },
  {
   "cell_type": "code",
   "execution_count": 100,
   "metadata": {},
   "outputs": [
    {
     "data": {
      "text/html": [
       "<div>\n",
       "<style scoped>\n",
       "    .dataframe tbody tr th:only-of-type {\n",
       "        vertical-align: middle;\n",
       "    }\n",
       "\n",
       "    .dataframe tbody tr th {\n",
       "        vertical-align: top;\n",
       "    }\n",
       "\n",
       "    .dataframe thead th {\n",
       "        text-align: right;\n",
       "    }\n",
       "</style>\n",
       "<table border=\"1\" class=\"dataframe\">\n",
       "  <thead>\n",
       "    <tr style=\"text-align: right;\">\n",
       "      <th></th>\n",
       "      <th>Prediction 1</th>\n",
       "      <th>Prediction 0</th>\n",
       "    </tr>\n",
       "  </thead>\n",
       "  <tbody>\n",
       "    <tr>\n",
       "      <th>Actual 1</th>\n",
       "      <td>4904</td>\n",
       "      <td>5010</td>\n",
       "    </tr>\n",
       "    <tr>\n",
       "      <th>Actual 0</th>\n",
       "      <td>1197</td>\n",
       "      <td>2412</td>\n",
       "    </tr>\n",
       "  </tbody>\n",
       "</table>\n",
       "</div>"
      ],
      "text/plain": [
       "          Prediction 1  Prediction 0\n",
       "Actual 1          4904          5010\n",
       "Actual 0          1197          2412"
      ]
     },
     "execution_count": 100,
     "metadata": {},
     "output_type": "execute_result"
    }
   ],
   "source": [
    "df_rf_tune"
   ]
  },
  {
   "cell_type": "code",
   "execution_count": 145,
   "metadata": {},
   "outputs": [
    {
     "data": {
      "text/html": [
       "<div>\n",
       "<style scoped>\n",
       "    .dataframe tbody tr th:only-of-type {\n",
       "        vertical-align: middle;\n",
       "    }\n",
       "\n",
       "    .dataframe tbody tr th {\n",
       "        vertical-align: top;\n",
       "    }\n",
       "\n",
       "    .dataframe thead th {\n",
       "        text-align: right;\n",
       "    }\n",
       "</style>\n",
       "<table border=\"1\" class=\"dataframe\">\n",
       "  <thead>\n",
       "    <tr style=\"text-align: right;\">\n",
       "      <th></th>\n",
       "      <th>Random Forest Tune</th>\n",
       "    </tr>\n",
       "  </thead>\n",
       "  <tbody>\n",
       "    <tr>\n",
       "      <th>accuracy</th>\n",
       "      <td>0.541004</td>\n",
       "    </tr>\n",
       "    <tr>\n",
       "      <th>recall</th>\n",
       "      <td>0.494654</td>\n",
       "    </tr>\n",
       "    <tr>\n",
       "      <th>precision</th>\n",
       "      <td>0.803803</td>\n",
       "    </tr>\n",
       "    <tr>\n",
       "      <th>roc_auc_score</th>\n",
       "      <td>0.581492</td>\n",
       "    </tr>\n",
       "    <tr>\n",
       "      <th>f1_score</th>\n",
       "      <td>0.612426</td>\n",
       "    </tr>\n",
       "  </tbody>\n",
       "</table>\n",
       "</div>"
      ],
      "text/plain": [
       "               Random Forest Tune\n",
       "accuracy                 0.541004\n",
       "recall                   0.494654\n",
       "precision                0.803803\n",
       "roc_auc_score            0.581492\n",
       "f1_score                 0.612426"
      ]
     },
     "execution_count": 145,
     "metadata": {},
     "output_type": "execute_result"
    }
   ],
   "source": [
    "pd.DataFrame(data=[accuracy_score(y_test, pred_rf_tune), recall_score(y_test, pred_rf_tune),\n",
    "                   precision_score(y_test, pred_rf_tune), roc_auc_score(y_test, pred_rf_tune),\n",
    "                   f1_score(y_test, pred_rf_tune)],index = ['accuracy', 'recall', 'precision', 'roc_auc_score', 'f1_score'],\n",
    "             columns = ['Random Forest Tune'])"
   ]
  },
  {
   "cell_type": "code",
   "execution_count": 103,
   "metadata": {},
   "outputs": [
    {
     "data": {
      "text/html": [
       "<div>\n",
       "<style scoped>\n",
       "    .dataframe tbody tr th:only-of-type {\n",
       "        vertical-align: middle;\n",
       "    }\n",
       "\n",
       "    .dataframe tbody tr th {\n",
       "        vertical-align: top;\n",
       "    }\n",
       "\n",
       "    .dataframe thead th {\n",
       "        text-align: right;\n",
       "    }\n",
       "</style>\n",
       "<table border=\"1\" class=\"dataframe\">\n",
       "  <thead>\n",
       "    <tr style=\"text-align: right;\">\n",
       "      <th></th>\n",
       "      <th>Random Forest Tune</th>\n",
       "    </tr>\n",
       "  </thead>\n",
       "  <tbody>\n",
       "    <tr>\n",
       "      <th>Train Score</th>\n",
       "      <td>0.801238</td>\n",
       "    </tr>\n",
       "    <tr>\n",
       "      <th>Test Score</th>\n",
       "      <td>0.803803</td>\n",
       "    </tr>\n",
       "  </tbody>\n",
       "</table>\n",
       "</div>"
      ],
      "text/plain": [
       "             Random Forest Tune\n",
       "Train Score            0.801238\n",
       "Test Score             0.803803"
      ]
     },
     "execution_count": 103,
     "metadata": {},
     "output_type": "execute_result"
    }
   ],
   "source": [
    "pd.DataFrame(data = [rf_grid.score(X_train, y_train), rf_grid.score(X_test, y_test)],\n",
    "             index = ['Train Score', 'Test Score'], columns = ['Random Forest Tune'])"
   ]
  },
  {
   "cell_type": "markdown",
   "metadata": {},
   "source": [
    "### XGBoost Tuned"
   ]
  },
  {
   "cell_type": "code",
   "execution_count": 104,
   "metadata": {},
   "outputs": [
    {
     "data": {
      "text/plain": [
       "{'ccp_alpha': 0.0,\n",
       " 'criterion': 'friedman_mse',\n",
       " 'init': None,\n",
       " 'learning_rate': 0.1,\n",
       " 'loss': 'deviance',\n",
       " 'max_depth': 3,\n",
       " 'max_features': None,\n",
       " 'max_leaf_nodes': None,\n",
       " 'min_impurity_decrease': 0.0,\n",
       " 'min_impurity_split': None,\n",
       " 'min_samples_leaf': 1,\n",
       " 'min_samples_split': 2,\n",
       " 'min_weight_fraction_leaf': 0.0,\n",
       " 'n_estimators': 100,\n",
       " 'n_iter_no_change': None,\n",
       " 'presort': 'deprecated',\n",
       " 'random_state': None,\n",
       " 'subsample': 1.0,\n",
       " 'tol': 0.0001,\n",
       " 'validation_fraction': 0.1,\n",
       " 'verbose': 0,\n",
       " 'warm_start': False}"
      ]
     },
     "execution_count": 104,
     "metadata": {},
     "output_type": "execute_result"
    }
   ],
   "source": [
    "xg_base.get_params()"
   ]
  },
  {
   "cell_type": "code",
   "execution_count": 163,
   "metadata": {},
   "outputs": [
    {
     "name": "stdout",
     "output_type": "stream",
     "text": [
      "Fitting 5 folds for each of 100 candidates, totalling 500 fits\n"
     ]
    },
    {
     "name": "stderr",
     "output_type": "stream",
     "text": [
      "[Parallel(n_jobs=-1)]: Using backend LokyBackend with 8 concurrent workers.\n",
      "[Parallel(n_jobs=-1)]: Done  34 tasks      | elapsed:  1.1min\n",
      "[Parallel(n_jobs=-1)]: Done 184 tasks      | elapsed:  2.9min\n",
      "[Parallel(n_jobs=-1)]: Done 434 tasks      | elapsed:  5.2min\n",
      "[Parallel(n_jobs=-1)]: Done 500 out of 500 | elapsed:  5.7min finished\n"
     ]
    },
    {
     "data": {
      "text/plain": [
       "RandomizedSearchCV(cv=5, estimator=GradientBoostingClassifier(), n_iter=100,\n",
       "                   n_jobs=-1,\n",
       "                   param_distributions={'learning_rate': array([0.05      , 0.31052632, 0.57105263, 0.83157895, 1.09210526,\n",
       "       1.35263158, 1.61315789, 1.87368421, 2.13421053, 2.39473684,\n",
       "       2.65526316, 2.91578947, 3.17631579, 3.43684211, 3.69736842,\n",
       "       3.95789474, 4.21842105, 4.47894737, 4.73947368, 5.        ]),\n",
       "                                        'n_estimators': [10, 20, 30, 50, 75,\n",
       "                                                         100],\n",
       "                                        'subsample': [1, 0.1, 0.2, 0.5, 0.7]},\n",
       "                   scoring='precision', verbose=1)"
      ]
     },
     "execution_count": 163,
     "metadata": {},
     "output_type": "execute_result"
    }
   ],
   "source": [
    "xg_tune = GradientBoostingClassifier()\n",
    "param_xg = {\n",
    "    \"n_estimators\" : [10, 20, 30, 50, 75, 100],\n",
    "    \"learning_rate\" : np.linspace(0.05, 5, 20),\n",
    "    \"subsample\" : [1, 0.1, 0.2, 0.5, 0.7]}\n",
    "\n",
    "grid_xg = RandomizedSearchCV(\n",
    "    estimator = xg_tune, param_distributions = param_xg, cv = 5, n_jobs = -1, verbose = 1, n_iter = 100, scoring = 'precision')\n",
    "\n",
    "grid_xg.fit(X_train_sm, y_train_sm)"
   ]
  },
  {
   "cell_type": "code",
   "execution_count": 164,
   "metadata": {},
   "outputs": [
    {
     "data": {
      "text/plain": [
       "{'subsample': 0.7, 'n_estimators': 75, 'learning_rate': 1.092105263157895}"
      ]
     },
     "execution_count": 164,
     "metadata": {},
     "output_type": "execute_result"
    }
   ],
   "source": [
    "grid_xg.best_params_"
   ]
  },
  {
   "cell_type": "code",
   "execution_count": 165,
   "metadata": {},
   "outputs": [],
   "source": [
    "pred_xg_tune = grid_xg.predict(X_test)"
   ]
  },
  {
   "cell_type": "code",
   "execution_count": 166,
   "metadata": {},
   "outputs": [
    {
     "name": "stdout",
     "output_type": "stream",
     "text": [
      "              precision    recall  f1-score   support\n",
      "\n",
      "           0       0.40      0.26      0.32      3609\n",
      "           1       0.76      0.86      0.81      9914\n",
      "\n",
      "    accuracy                           0.70     13523\n",
      "   macro avg       0.58      0.56      0.56     13523\n",
      "weighted avg       0.67      0.70      0.68     13523\n",
      "\n"
     ]
    }
   ],
   "source": [
    "print(classification_report(y_test, pred_xg_tune))"
   ]
  },
  {
   "cell_type": "code",
   "execution_count": 167,
   "metadata": {},
   "outputs": [
    {
     "data": {
      "image/png": "[encoded data removed]",
      "text/plain": [
       "<Figure size 432x288 with 2 Axes>"
      ]
     },
     "metadata": {
      "needs_background": "light"
     },
     "output_type": "display_data"
    }
   ],
   "source": [
    "cm_xg_tune = confusion_matrix(y_test, pred_xg_tune, labels = [1,0])\n",
    "df_xg_tune = pd.DataFrame(data = cm_xg_tune, columns=['Prediction 1','Prediction 0'],index=['Actual 1','Actual 0'])\n",
    "sns.heatmap(df_xg_tune, annot = True)\n",
    "plt.show()"
   ]
  },
  {
   "cell_type": "code",
   "execution_count": 168,
   "metadata": {
    "scrolled": false
   },
   "outputs": [
    {
     "data": {
      "text/html": [
       "<div>\n",
       "<style scoped>\n",
       "    .dataframe tbody tr th:only-of-type {\n",
       "        vertical-align: middle;\n",
       "    }\n",
       "\n",
       "    .dataframe tbody tr th {\n",
       "        vertical-align: top;\n",
       "    }\n",
       "\n",
       "    .dataframe thead th {\n",
       "        text-align: right;\n",
       "    }\n",
       "</style>\n",
       "<table border=\"1\" class=\"dataframe\">\n",
       "  <thead>\n",
       "    <tr style=\"text-align: right;\">\n",
       "      <th></th>\n",
       "      <th>Prediction 1</th>\n",
       "      <th>Prediction 0</th>\n",
       "    </tr>\n",
       "  </thead>\n",
       "  <tbody>\n",
       "    <tr>\n",
       "      <th>Actual 1</th>\n",
       "      <td>8522</td>\n",
       "      <td>1392</td>\n",
       "    </tr>\n",
       "    <tr>\n",
       "      <th>Actual 0</th>\n",
       "      <td>2674</td>\n",
       "      <td>935</td>\n",
       "    </tr>\n",
       "  </tbody>\n",
       "</table>\n",
       "</div>"
      ],
      "text/plain": [
       "          Prediction 1  Prediction 0\n",
       "Actual 1          8522          1392\n",
       "Actual 0          2674           935"
      ]
     },
     "execution_count": 168,
     "metadata": {},
     "output_type": "execute_result"
    }
   ],
   "source": [
    "df_xg_tune"
   ]
  },
  {
   "cell_type": "code",
   "execution_count": 169,
   "metadata": {},
   "outputs": [
    {
     "data": {
      "text/html": [
       "<div>\n",
       "<style scoped>\n",
       "    .dataframe tbody tr th:only-of-type {\n",
       "        vertical-align: middle;\n",
       "    }\n",
       "\n",
       "    .dataframe tbody tr th {\n",
       "        vertical-align: top;\n",
       "    }\n",
       "\n",
       "    .dataframe thead th {\n",
       "        text-align: right;\n",
       "    }\n",
       "</style>\n",
       "<table border=\"1\" class=\"dataframe\">\n",
       "  <thead>\n",
       "    <tr style=\"text-align: right;\">\n",
       "      <th></th>\n",
       "      <th>XGBoost Tune</th>\n",
       "    </tr>\n",
       "  </thead>\n",
       "  <tbody>\n",
       "    <tr>\n",
       "      <th>accuracy</th>\n",
       "      <td>0.699327</td>\n",
       "    </tr>\n",
       "    <tr>\n",
       "      <th>recall</th>\n",
       "      <td>0.859592</td>\n",
       "    </tr>\n",
       "    <tr>\n",
       "      <th>precision</th>\n",
       "      <td>0.761165</td>\n",
       "    </tr>\n",
       "    <tr>\n",
       "      <th>roc_auc_score</th>\n",
       "      <td>0.559334</td>\n",
       "    </tr>\n",
       "    <tr>\n",
       "      <th>f1_score</th>\n",
       "      <td>0.807390</td>\n",
       "    </tr>\n",
       "  </tbody>\n",
       "</table>\n",
       "</div>"
      ],
      "text/plain": [
       "               XGBoost Tune\n",
       "accuracy           0.699327\n",
       "recall             0.859592\n",
       "precision          0.761165\n",
       "roc_auc_score      0.559334\n",
       "f1_score           0.807390"
      ]
     },
     "execution_count": 169,
     "metadata": {},
     "output_type": "execute_result"
    }
   ],
   "source": [
    "pd.DataFrame(data=[accuracy_score(y_test, pred_xg_tune), recall_score(y_test, pred_xg_tune),\n",
    "                   precision_score(y_test, pred_xg_tune), roc_auc_score(y_test, pred_xg_tune),\n",
    "                   f1_score(y_test, pred_xg_tune)],index = ['accuracy', 'recall', 'precision', 'roc_auc_score', 'f1_score'],\n",
    "             columns = ['XGBoost Tune'])"
   ]
  },
  {
   "cell_type": "code",
   "execution_count": 170,
   "metadata": {},
   "outputs": [
    {
     "data": {
      "text/html": [
       "<div>\n",
       "<style scoped>\n",
       "    .dataframe tbody tr th:only-of-type {\n",
       "        vertical-align: middle;\n",
       "    }\n",
       "\n",
       "    .dataframe tbody tr th {\n",
       "        vertical-align: top;\n",
       "    }\n",
       "\n",
       "    .dataframe thead th {\n",
       "        text-align: right;\n",
       "    }\n",
       "</style>\n",
       "<table border=\"1\" class=\"dataframe\">\n",
       "  <thead>\n",
       "    <tr style=\"text-align: right;\">\n",
       "      <th></th>\n",
       "      <th>XGBoost Tune</th>\n",
       "    </tr>\n",
       "  </thead>\n",
       "  <tbody>\n",
       "    <tr>\n",
       "      <th>Train Score</th>\n",
       "      <td>0.772320</td>\n",
       "    </tr>\n",
       "    <tr>\n",
       "      <th>Test Score</th>\n",
       "      <td>0.761165</td>\n",
       "    </tr>\n",
       "  </tbody>\n",
       "</table>\n",
       "</div>"
      ],
      "text/plain": [
       "             XGBoost Tune\n",
       "Train Score      0.772320\n",
       "Test Score       0.761165"
      ]
     },
     "execution_count": 170,
     "metadata": {},
     "output_type": "execute_result"
    }
   ],
   "source": [
    "pd.DataFrame(data = [grid_xg.score(X_train, y_train), grid_xg.score(X_test, y_test)],\n",
    "             index = ['Train Score', 'Test Score'], columns = ['XGBoost Tune'])"
   ]
  },
  {
   "cell_type": "markdown",
   "metadata": {},
   "source": [
    "### Evaluation Summary"
   ]
  },
  {
   "cell_type": "code",
   "execution_count": 171,
   "metadata": {},
   "outputs": [],
   "source": [
    "acc_lr_base = accuracy_score(y_test, pred_lr_base)\n",
    "acc_lr_tune = accuracy_score(y_test, pred_lr_tune)\n",
    "acc_rf_base = accuracy_score(y_test, pred_rf_base)\n",
    "acc_rf_tune = accuracy_score(y_test, pred_rf_tune)\n",
    "acc_xg_base = accuracy_score(y_test, pred_xg_base)\n",
    "acc_xg_tune = accuracy_score(y_test, pred_xg_tune)\n",
    "\n",
    "prec_lr_base = precision_score(y_test, pred_lr_base)\n",
    "prec_lr_tune = precision_score(y_test, pred_lr_tune)\n",
    "prec_rf_base = precision_score(y_test, pred_rf_base)\n",
    "prec_rf_tune = precision_score(y_test, pred_rf_tune)\n",
    "prec_xg_base = precision_score(y_test, pred_xg_base)\n",
    "prec_xg_tune = precision_score(y_test, pred_xg_tune)\n",
    "\n",
    "rec_lr_base = recall_score(y_test, pred_lr_base)\n",
    "rec_lr_tune = recall_score(y_test, pred_lr_tune)\n",
    "rec_rf_base = recall_score(y_test, pred_rf_base)\n",
    "rec_rf_tune = recall_score(y_test, pred_rf_tune)\n",
    "rec_xg_base = recall_score(y_test, pred_xg_base)\n",
    "rec_xg_tune = recall_score(y_test, pred_xg_tune)\n",
    "\n",
    "f1_lr_base = f1_score(y_test, pred_lr_base)\n",
    "f1_lr_tune = f1_score(y_test, pred_lr_tune)\n",
    "f1_rf_base = f1_score(y_test, pred_rf_base)\n",
    "f1_rf_tune = f1_score(y_test, pred_rf_tune)\n",
    "f1_xg_base = f1_score(y_test, pred_xg_base)\n",
    "f1_xg_tune = f1_score(y_test, pred_xg_tune)"
   ]
  },
  {
   "cell_type": "code",
   "execution_count": 172,
   "metadata": {
    "scrolled": true
   },
   "outputs": [
    {
     "data": {
      "text/html": [
       "<div>\n",
       "<style scoped>\n",
       "    .dataframe tbody tr th:only-of-type {\n",
       "        vertical-align: middle;\n",
       "    }\n",
       "\n",
       "    .dataframe tbody tr th {\n",
       "        vertical-align: top;\n",
       "    }\n",
       "\n",
       "    .dataframe thead th {\n",
       "        text-align: right;\n",
       "    }\n",
       "</style>\n",
       "<table border=\"1\" class=\"dataframe\">\n",
       "  <thead>\n",
       "    <tr style=\"text-align: right;\">\n",
       "      <th></th>\n",
       "      <th>LogReg Base</th>\n",
       "      <th>LogReg Tune</th>\n",
       "      <th>Random Forest Base</th>\n",
       "      <th>Random Forest Tune</th>\n",
       "      <th>XGBoost Base</th>\n",
       "      <th>XGBoost Tune</th>\n",
       "    </tr>\n",
       "  </thead>\n",
       "  <tbody>\n",
       "    <tr>\n",
       "      <th>Accuracy</th>\n",
       "      <td>0.707240</td>\n",
       "      <td>0.671744</td>\n",
       "      <td>0.672632</td>\n",
       "      <td>0.541004</td>\n",
       "      <td>0.692376</td>\n",
       "      <td>0.699327</td>\n",
       "    </tr>\n",
       "    <tr>\n",
       "      <th>Precision</th>\n",
       "      <td>0.753988</td>\n",
       "      <td>0.763044</td>\n",
       "      <td>0.759727</td>\n",
       "      <td>0.803803</td>\n",
       "      <td>0.767230</td>\n",
       "      <td>0.761165</td>\n",
       "    </tr>\n",
       "    <tr>\n",
       "      <th>Recall</th>\n",
       "      <td>0.891567</td>\n",
       "      <td>0.800989</td>\n",
       "      <td>0.809461</td>\n",
       "      <td>0.494654</td>\n",
       "      <td>0.833165</td>\n",
       "      <td>0.859592</td>\n",
       "    </tr>\n",
       "    <tr>\n",
       "      <th>F1-Score</th>\n",
       "      <td>0.817026</td>\n",
       "      <td>0.781556</td>\n",
       "      <td>0.783806</td>\n",
       "      <td>0.612426</td>\n",
       "      <td>0.798839</td>\n",
       "      <td>0.807390</td>\n",
       "    </tr>\n",
       "  </tbody>\n",
       "</table>\n",
       "</div>"
      ],
      "text/plain": [
       "           LogReg Base  LogReg Tune  Random Forest Base  Random Forest Tune  \\\n",
       "Accuracy      0.707240     0.671744            0.672632            0.541004   \n",
       "Precision     0.753988     0.763044            0.759727            0.803803   \n",
       "Recall        0.891567     0.800989            0.809461            0.494654   \n",
       "F1-Score      0.817026     0.781556            0.783806            0.612426   \n",
       "\n",
       "           XGBoost Base  XGBoost Tune  \n",
       "Accuracy       0.692376      0.699327  \n",
       "Precision      0.767230      0.761165  \n",
       "Recall         0.833165      0.859592  \n",
       "F1-Score       0.798839      0.807390  "
      ]
     },
     "execution_count": 172,
     "metadata": {},
     "output_type": "execute_result"
    }
   ],
   "source": [
    "summ = {\n",
    "    'LogReg Base': [acc_lr_base, prec_lr_base, rec_lr_base, f1_lr_base],\n",
    "    'LogReg Tune': [acc_lr_tune, prec_lr_tune, rec_lr_tune, f1_lr_tune],\n",
    "    'Random Forest Base': [acc_rf_base, prec_rf_base, rec_rf_base, f1_rf_base],\n",
    "    'Random Forest Tune': [acc_rf_tune, prec_rf_tune, rec_rf_tune, f1_rf_tune],\n",
    "    'XGBoost Base': [acc_xg_base, prec_xg_base, rec_xg_base, f1_xg_base],\n",
    "    'XGBoost Tune': [acc_xg_tune, prec_xg_tune, rec_xg_tune, f1_xg_tune]}\n",
    "eva_sum = pd.DataFrame(data = summ, index = ['Accuracy', 'Precision', 'Recall', 'F1-Score'])\n",
    "eva_sum\n",
    "\n",
    "# Random Forest setelah tuning memiliki Precision Score tertinggi 0,8 (80%)"
   ]
  },
  {
   "cell_type": "code",
   "execution_count": 173,
   "metadata": {},
   "outputs": [
    {
     "data": {
      "image/png": "[encoded data removed]",
      "text/plain": [
       "<Figure size 1440x720 with 12 Axes>"
      ]
     },
     "metadata": {
      "needs_background": "light"
     },
     "output_type": "display_data"
    }
   ],
   "source": [
    "plt.figure(figsize=(20, 10))\n",
    "plt.subplot(2,3,1)\n",
    "sns.heatmap(df_lr_base, annot=True, fmt='d')\n",
    "plt.title('Logistic Regression Base')\n",
    "\n",
    "plt.subplot(2,3,2)\n",
    "sns.heatmap(df_lr_tune, annot=True, fmt='d')\n",
    "plt.title('Logistic Regression Tune')\n",
    "\n",
    "plt.subplot(2,3,3)\n",
    "sns.heatmap(df_rf_base, annot=True, fmt='d')\n",
    "plt.title('Random Forest Base')\n",
    "\n",
    "plt.subplot(2,3,4)\n",
    "sns.heatmap(df_rf_tune, annot=True, fmt='d')\n",
    "plt.title('Random Forest Tune')\n",
    "\n",
    "plt.subplot(2,3,5)\n",
    "sns.heatmap(df_xg_base, annot=True, fmt='d')\n",
    "plt.title('XGBoost Base')\n",
    "\n",
    "plt.subplot(2,3,6)\n",
    "sns.heatmap(df_xg_tune, annot=True, fmt='d')\n",
    "plt.title('XGBoost Tune')\n",
    "plt.show()\n",
    "\n",
    "# Random Forest setelah tuning memiliki nilai False Positive paling rendah (aktual charged off, prediksi fully paid)"
   ]
  },
  {
   "cell_type": "code",
   "execution_count": 119,
   "metadata": {},
   "outputs": [],
   "source": [
    "rf_best = rf_grid.best_estimator_"
   ]
  },
  {
   "cell_type": "code",
   "execution_count": 123,
   "metadata": {},
   "outputs": [
    {
     "data": {
      "text/plain": [
       "['RF_best.pkl']"
      ]
     },
     "execution_count": 123,
     "metadata": {},
     "output_type": "execute_result"
    }
   ],
   "source": [
    "joblib.dump(rf_best, 'rf_best.pkl')"
   ]
  },
  {
   "cell_type": "markdown",
   "metadata": {},
   "source": [
    "## Kesimpulan\n",
    "1. 26,7% dari peminjam tidak melunasi pinjamanan, dibandingkan 73,3% yang lunas.\n",
    "2. 75% jumlah pinjaman berada dalam range 100-250 ribu. Semakin besar jumlah pinjaman, semakin besar juga kemungkinan pinjaman tidak lunas.\n",
    "3. 49% penghasilan tahunan peminjam berada di range 1-1,5 juta. Semakin besar penghasilan tahunan peminjam, semakin besar kemungkinan pinjaman lunas.\n",
    "4. 64% peminjam memiliki riwayat kredit 15 tahun keatas. Semakin lama riwayat kredit peminjam, semakin besar kemungkinan pinjaman lunas.\n",
    "5. Mayoritas pinjaman bersifat short term (74%) dibandingkan pinjaman long term (26%). Pinjaman berjangka panjang / long term (38%) lebih tinggi tingkat charged off dibanding short term (23%).\n",
    "6. Mayoritas peminjam berada dalam kategori credit score Good 670-739 (76,5%), hanya 5,3% dalam kategori Fair 580-669. Persentase charged off di kategori credit score Good (29%), lebih rendah dari kategori Fair yang mencapai 43%. Semakin tinggi credit score peminjam semakin besar kemungkinan pinjaman lunas. \n",
    "7. Hampir setengah peminjam (49%) menjadikan rumahnya sebagai jaminan pinjaman, sedangkan 42% masih menyewa rumah. Peminjam yang menjaminkan rumahnya memiliki kemungkinan charged off (24%), lebih rendah dari yang menyewa rumah (30%)\n",
    "8. Sebagian besar tujuan pinjaman adalah untuk konsolidasi hutang (79%).\n",
    "9. Secara keseluruhan, indikasi suatu pinjaman tidak dilunasi memiliki faktor-faktor berikut: jumlah pinjaman diatas 500 ribu, penghasilan tahunan dibawah 500 ribu, credit history rendah, pinjaman jangka panjang, credit score fair dan peminjam masih menyewa rumah.\n",
    "10. Model machine learning Random Forest setelah dilakukan hyperparameter tuning memiliki Precision Score 0,8 (80%) dan nilai False Positive paling rendah. Evaluation metric yang difokuskan adalah Precision Score karena yang diutamakan adalah meminimalisir False Positive (aktual charged off, tetapi diprediksi fully paid). Hal ini untuk menghindari resiko kerugian bank apabila peminjam tidak dapat melunasi pinjamannya."
   ]
  },
  {
   "attachments": {},
   "cell_type": "markdown",
   "metadata": {},
   "source": [
    "## Rekomendasi\n",
    "Model machine learning dapat diterapkan pada dashboard divisi peminjaman bank untuk membantu proses assessment pinjaman sebelum disetujui. Model akan melakukan klasifikasi antara peminjam yang akan melunasi pinjaman atau yang akan menjadi pinjaman gagal. Penggunaan machine learning dapat mempercepat proses assessment dan mengurangi resiko pinjaman yang tidak lunas."
   ]
  }
 ],
 "metadata": {
  "kernelspec": {
   "display_name": "Python 3",
   "language": "python",
   "name": "python3"
  },
  "language_info": {
   "codemirror_mode": {
    "name": "ipython",
    "version": 3
   },
   "file_extension": ".py",
   "mimetype": "text/x-python",
   "name": "python",
   "nbconvert_exporter": "python",
   "pygments_lexer": "ipython3",
   "version": "3.8.3"
  }
 },
 "nbformat": 4,
 "nbformat_minor": 4
}
