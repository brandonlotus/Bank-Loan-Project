{
 "cells": [
  {
   "cell_type": "markdown",
   "metadata": {},
   "source": [
    "# Bank Loan Status Prediction\n",
    "\n",
    "### Brandon Lotus\n",
    "#### - _Data Cleaning and Preprocessing_\n",
    "#### - _Data Analysis and Visualization_ \n",
    "\n",
    "_Sumber dataset: https://www.kaggle.com/zaurbegiev/my-dataset_"
   ]
  },
  {
   "cell_type": "markdown",
   "metadata": {},
   "source": [
    "Meningkatnya pengajuan pinjaman di bank dapat mengakibatkan masalah karena memiliki resiko yaitu Non-performing loan (NPL) atau kredit macet. NPL adalah suatu keadaan dimana debitur baik perorangan atau perusahaan tidak mampu membayar kredit bank tepat pada waktunya. NPL masih menjadi masalah utama di sektor perbankan dalam kurun waktu beberapa dekade terakhir.\n",
    "\n",
    "Penyebab paling sering tingginya NPL adalah kegagalan bank untuk mengidentifikasi serta memberikan keputusan debitur mana yang pantas dan mampu diberikan pinjaman.\n",
    "\n",
    "Di sisi lain, bank yang terlalu mengejar target penyaluran kredit menyebabkan pihak bank kurang memperhatikan aspek analisis kredit, seperti pengelolaan informasi yang kurang baik, kurang efektifnya kebijakan dalam pemberian kredit, dan SOP analisis kredit yang buruk.\n",
    "\n",
    "Dataset yang digunakan adalah 'Bank Loan Status Dataset' dari Kaggle yang berisi data historis peminjaman dari suatu bank. Data peminjaman merupakan pinjaman yang sudah ditutup baik karena jatuh tempo untuk pinjaman telah dilunasi atau charged off (ketika bank telah menentukan bahwa peminjam tidak akan pernah melunasi pinjaman mereka)."
   ]
  },
  {
   "cell_type": "markdown",
   "metadata": {},
   "source": [
    "### Problems\n",
    "\n",
    "1. Apakah faktor-faktor yang dapat mengidentifikasi peminjam yang bisa / tidak melunasi pinjamannya?\n",
    "2. Bagaimana mengurangi resiko kerugian bank yang disebakan oleh peminjam yang tidak melunasi pinjamannya?"
   ]
  },
  {
   "cell_type": "markdown",
   "metadata": {},
   "source": [
    "### Goals\n",
    "\n",
    "1. Mengidentifikasi faktor-faktor seorang peminjam bisa / tidak melunasi pinjamannya.\n",
    "2. Membuat model untuk memprediksi apakah peminjam akan membayar kembali pinjamannya berdasarkan fitur target 'Loan Status' dalam dataset."
   ]
  },
  {
   "cell_type": "markdown",
   "metadata": {},
   "source": [
    "## Data Cleaning and Preprocessing"
   ]
  },
  {
   "cell_type": "code",
   "execution_count": 89,
   "metadata": {},
   "outputs": [],
   "source": [
    "import pandas as pd\n",
    "import numpy as np\n",
    "import matplotlib.pyplot as plt\n",
    "import seaborn as sns\n",
    "import sidetable\n",
    "import warnings\n",
    "warnings.filterwarnings('ignore')\n",
    "\n",
    "%matplotlib inline\n",
    "pd.set_option('display.float_format', lambda x: '%.0f' % x)"
   ]
  },
  {
   "cell_type": "code",
   "execution_count": 90,
   "metadata": {
    "scrolled": false
   },
   "outputs": [
    {
     "data": {
      "text/html": [
       "<div>\n",
       "<style scoped>\n",
       "    .dataframe tbody tr th:only-of-type {\n",
       "        vertical-align: middle;\n",
       "    }\n",
       "\n",
       "    .dataframe tbody tr th {\n",
       "        vertical-align: top;\n",
       "    }\n",
       "\n",
       "    .dataframe thead th {\n",
       "        text-align: right;\n",
       "    }\n",
       "</style>\n",
       "<table border=\"1\" class=\"dataframe\">\n",
       "  <thead>\n",
       "    <tr style=\"text-align: right;\">\n",
       "      <th></th>\n",
       "      <th>Loan ID</th>\n",
       "      <th>Customer ID</th>\n",
       "      <th>Loan Status</th>\n",
       "      <th>Current Loan Amount</th>\n",
       "      <th>Term</th>\n",
       "      <th>Credit Score</th>\n",
       "      <th>Annual Income</th>\n",
       "      <th>Years in current job</th>\n",
       "      <th>Home Ownership</th>\n",
       "      <th>Purpose</th>\n",
       "      <th>Monthly Debt</th>\n",
       "      <th>Years of Credit History</th>\n",
       "      <th>Months since last delinquent</th>\n",
       "      <th>Number of Open Accounts</th>\n",
       "      <th>Number of Credit Problems</th>\n",
       "      <th>Current Credit Balance</th>\n",
       "      <th>Maximum Open Credit</th>\n",
       "      <th>Bankruptcies</th>\n",
       "      <th>Tax Liens</th>\n",
       "    </tr>\n",
       "  </thead>\n",
       "  <tbody>\n",
       "    <tr>\n",
       "      <th>0</th>\n",
       "      <td>14dd8831-6af5-400b-83ec-68e61888a048</td>\n",
       "      <td>981165ec-3274-42f5-a3b4-d104041a9ca9</td>\n",
       "      <td>Fully Paid</td>\n",
       "      <td>445412</td>\n",
       "      <td>Short Term</td>\n",
       "      <td>709</td>\n",
       "      <td>1167493</td>\n",
       "      <td>8 years</td>\n",
       "      <td>Home Mortgage</td>\n",
       "      <td>Home Improvements</td>\n",
       "      <td>5215</td>\n",
       "      <td>17</td>\n",
       "      <td>nan</td>\n",
       "      <td>6</td>\n",
       "      <td>1</td>\n",
       "      <td>228190</td>\n",
       "      <td>416746</td>\n",
       "      <td>1</td>\n",
       "      <td>0</td>\n",
       "    </tr>\n",
       "    <tr>\n",
       "      <th>1</th>\n",
       "      <td>4771cc26-131a-45db-b5aa-537ea4ba5342</td>\n",
       "      <td>2de017a3-2e01-49cb-a581-08169e83be29</td>\n",
       "      <td>Fully Paid</td>\n",
       "      <td>262328</td>\n",
       "      <td>Short Term</td>\n",
       "      <td>nan</td>\n",
       "      <td>nan</td>\n",
       "      <td>10+ years</td>\n",
       "      <td>Home Mortgage</td>\n",
       "      <td>Debt Consolidation</td>\n",
       "      <td>33296</td>\n",
       "      <td>21</td>\n",
       "      <td>8</td>\n",
       "      <td>35</td>\n",
       "      <td>0</td>\n",
       "      <td>229976</td>\n",
       "      <td>850784</td>\n",
       "      <td>0</td>\n",
       "      <td>0</td>\n",
       "    </tr>\n",
       "    <tr>\n",
       "      <th>2</th>\n",
       "      <td>4eed4e6a-aa2f-4c91-8651-ce984ee8fb26</td>\n",
       "      <td>5efb2b2b-bf11-4dfd-a572-3761a2694725</td>\n",
       "      <td>Fully Paid</td>\n",
       "      <td>99999999</td>\n",
       "      <td>Short Term</td>\n",
       "      <td>741</td>\n",
       "      <td>2231892</td>\n",
       "      <td>8 years</td>\n",
       "      <td>Own Home</td>\n",
       "      <td>Debt Consolidation</td>\n",
       "      <td>29201</td>\n",
       "      <td>15</td>\n",
       "      <td>29</td>\n",
       "      <td>18</td>\n",
       "      <td>1</td>\n",
       "      <td>297996</td>\n",
       "      <td>750090</td>\n",
       "      <td>0</td>\n",
       "      <td>0</td>\n",
       "    </tr>\n",
       "    <tr>\n",
       "      <th>3</th>\n",
       "      <td>77598f7b-32e7-4e3b-a6e5-06ba0d98fe8a</td>\n",
       "      <td>e777faab-98ae-45af-9a86-7ce5b33b1011</td>\n",
       "      <td>Fully Paid</td>\n",
       "      <td>347666</td>\n",
       "      <td>Long Term</td>\n",
       "      <td>721</td>\n",
       "      <td>806949</td>\n",
       "      <td>3 years</td>\n",
       "      <td>Own Home</td>\n",
       "      <td>Debt Consolidation</td>\n",
       "      <td>8742</td>\n",
       "      <td>12</td>\n",
       "      <td>nan</td>\n",
       "      <td>9</td>\n",
       "      <td>0</td>\n",
       "      <td>256329</td>\n",
       "      <td>386958</td>\n",
       "      <td>0</td>\n",
       "      <td>0</td>\n",
       "    </tr>\n",
       "    <tr>\n",
       "      <th>4</th>\n",
       "      <td>d4062e70-befa-4995-8643-a0de73938182</td>\n",
       "      <td>81536ad9-5ccf-4eb8-befb-47a4d608658e</td>\n",
       "      <td>Fully Paid</td>\n",
       "      <td>176220</td>\n",
       "      <td>Short Term</td>\n",
       "      <td>nan</td>\n",
       "      <td>nan</td>\n",
       "      <td>5 years</td>\n",
       "      <td>Rent</td>\n",
       "      <td>Debt Consolidation</td>\n",
       "      <td>20640</td>\n",
       "      <td>6</td>\n",
       "      <td>nan</td>\n",
       "      <td>15</td>\n",
       "      <td>0</td>\n",
       "      <td>253460</td>\n",
       "      <td>427174</td>\n",
       "      <td>0</td>\n",
       "      <td>0</td>\n",
       "    </tr>\n",
       "  </tbody>\n",
       "</table>\n",
       "</div>"
      ],
      "text/plain": [
       "                                Loan ID                           Customer ID  \\\n",
       "0  14dd8831-6af5-400b-83ec-68e61888a048  981165ec-3274-42f5-a3b4-d104041a9ca9   \n",
       "1  4771cc26-131a-45db-b5aa-537ea4ba5342  2de017a3-2e01-49cb-a581-08169e83be29   \n",
       "2  4eed4e6a-aa2f-4c91-8651-ce984ee8fb26  5efb2b2b-bf11-4dfd-a572-3761a2694725   \n",
       "3  77598f7b-32e7-4e3b-a6e5-06ba0d98fe8a  e777faab-98ae-45af-9a86-7ce5b33b1011   \n",
       "4  d4062e70-befa-4995-8643-a0de73938182  81536ad9-5ccf-4eb8-befb-47a4d608658e   \n",
       "\n",
       "  Loan Status  Current Loan Amount        Term  Credit Score  Annual Income  \\\n",
       "0  Fully Paid               445412  Short Term           709        1167493   \n",
       "1  Fully Paid               262328  Short Term           nan            nan   \n",
       "2  Fully Paid             99999999  Short Term           741        2231892   \n",
       "3  Fully Paid               347666   Long Term           721         806949   \n",
       "4  Fully Paid               176220  Short Term           nan            nan   \n",
       "\n",
       "  Years in current job Home Ownership             Purpose  Monthly Debt  \\\n",
       "0              8 years  Home Mortgage   Home Improvements          5215   \n",
       "1            10+ years  Home Mortgage  Debt Consolidation         33296   \n",
       "2              8 years       Own Home  Debt Consolidation         29201   \n",
       "3              3 years       Own Home  Debt Consolidation          8742   \n",
       "4              5 years           Rent  Debt Consolidation         20640   \n",
       "\n",
       "   Years of Credit History  Months since last delinquent  \\\n",
       "0                       17                           nan   \n",
       "1                       21                             8   \n",
       "2                       15                            29   \n",
       "3                       12                           nan   \n",
       "4                        6                           nan   \n",
       "\n",
       "   Number of Open Accounts  Number of Credit Problems  Current Credit Balance  \\\n",
       "0                        6                          1                  228190   \n",
       "1                       35                          0                  229976   \n",
       "2                       18                          1                  297996   \n",
       "3                        9                          0                  256329   \n",
       "4                       15                          0                  253460   \n",
       "\n",
       "   Maximum Open Credit  Bankruptcies  Tax Liens  \n",
       "0               416746             1          0  \n",
       "1               850784             0          0  \n",
       "2               750090             0          0  \n",
       "3               386958             0          0  \n",
       "4               427174             0          0  "
      ]
     },
     "execution_count": 90,
     "metadata": {},
     "output_type": "execute_result"
    }
   ],
   "source": [
    "df = pd.read_csv('credit_train.csv')\n",
    "df.head()"
   ]
  },
  {
   "cell_type": "markdown",
   "metadata": {},
   "source": [
    "- Loan ID: A unique Identifier for the loan information.\n",
    "- Customer ID: A unique identifier for the customer. Customers may have more than one loan.\n",
    "- Loan Status: A categorical variable indicating if the loan was paid back or defaulted.\n",
    "- Current Loan Amount: This is the loan amount that was either completely paid off, or the amount that was defaulted.\n",
    "- Term: A categorical variable indicating if it is a short term or long term loan.\n",
    "- Credit Score: The customer's credit score indicating the riskiness of the borrowers credit history. Type of credit score is not specified.\n",
    "- Annual Income: The customer's annual income\n",
    "- Years in current job: A categorical variable indicating how many years the customer has been in their current job.\n",
    "- Home Ownership: Categorical variable indicating home ownership. Values are \"Rent\", \"Home Mortgage\", and \"Own\". If the value is OWN, then the customer is a home owner with no mortgage\n",
    "- Purpose: A description of the purpose of the loan.\n",
    "- Monthly Debt: The customer's monthly payment for their existing loans\n",
    "- Years of Credit History: The years since the first entry in the customer’s credit history\n",
    "- Months since last delinquent: Months since the last loan delinquent payment. Delinquency is not defined, but is usually 60 or 90 days overdue.\n",
    "- Number of Open Accounts: The total number of open credit accounts (inclusive of all accounts outside of this lending institution).\n",
    "- Number of Credit Problems: The number of credit problems in the customer records.\n",
    "- Current Credit Balance: The current total debt for the customer\n",
    "- Maximum Open Credit: The maximum credit limit for all credit sources.\n",
    "- Bankruptcies: The number of bankruptcies\n",
    "- Tax Liens: The number of tax liens."
   ]
  },
  {
   "cell_type": "code",
   "execution_count": 5,
   "metadata": {},
   "outputs": [
    {
     "data": {
      "text/plain": [
       "(100514, 19)"
      ]
     },
     "execution_count": 5,
     "metadata": {},
     "output_type": "execute_result"
    }
   ],
   "source": [
    "df.shape\n",
    "\n",
    "# Jumlah keseluruhan data (19 kolom dan 100 ribu baris data)"
   ]
  },
  {
   "cell_type": "code",
   "execution_count": 3,
   "metadata": {
    "scrolled": false
   },
   "outputs": [
    {
     "data": {
      "text/html": [
       "<div>\n",
       "<style scoped>\n",
       "    .dataframe tbody tr th:only-of-type {\n",
       "        vertical-align: middle;\n",
       "    }\n",
       "\n",
       "    .dataframe tbody tr th {\n",
       "        vertical-align: top;\n",
       "    }\n",
       "\n",
       "    .dataframe thead th {\n",
       "        text-align: right;\n",
       "    }\n",
       "</style>\n",
       "<table border=\"1\" class=\"dataframe\">\n",
       "  <thead>\n",
       "    <tr style=\"text-align: right;\">\n",
       "      <th></th>\n",
       "      <th>Data Feature</th>\n",
       "      <th>Data Types</th>\n",
       "      <th>Null</th>\n",
       "      <th>Null Pct</th>\n",
       "      <th>Unique</th>\n",
       "      <th>Unique Sample</th>\n",
       "    </tr>\n",
       "  </thead>\n",
       "  <tbody>\n",
       "    <tr>\n",
       "      <th>0</th>\n",
       "      <td>Loan ID</td>\n",
       "      <td>object</td>\n",
       "      <td>514</td>\n",
       "      <td>1</td>\n",
       "      <td>81999</td>\n",
       "      <td>[8236d82a-5679-40e7-b22a-07ec137ce399, 0565e42...</td>\n",
       "    </tr>\n",
       "    <tr>\n",
       "      <th>1</th>\n",
       "      <td>Customer ID</td>\n",
       "      <td>object</td>\n",
       "      <td>514</td>\n",
       "      <td>1</td>\n",
       "      <td>81999</td>\n",
       "      <td>[0fbe9c43-c7c2-40b3-aa9c-435ab6b0bde8, 916131c...</td>\n",
       "    </tr>\n",
       "    <tr>\n",
       "      <th>2</th>\n",
       "      <td>Loan Status</td>\n",
       "      <td>object</td>\n",
       "      <td>514</td>\n",
       "      <td>1</td>\n",
       "      <td>2</td>\n",
       "      <td>[nan, Fully Paid]</td>\n",
       "    </tr>\n",
       "    <tr>\n",
       "      <th>3</th>\n",
       "      <td>Current Loan Amount</td>\n",
       "      <td>float64</td>\n",
       "      <td>514</td>\n",
       "      <td>1</td>\n",
       "      <td>22004</td>\n",
       "      <td>[605902.0, 227524.0]</td>\n",
       "    </tr>\n",
       "    <tr>\n",
       "      <th>4</th>\n",
       "      <td>Term</td>\n",
       "      <td>object</td>\n",
       "      <td>514</td>\n",
       "      <td>1</td>\n",
       "      <td>2</td>\n",
       "      <td>[Short Term, Long Term]</td>\n",
       "    </tr>\n",
       "    <tr>\n",
       "      <th>5</th>\n",
       "      <td>Credit Score</td>\n",
       "      <td>float64</td>\n",
       "      <td>19668</td>\n",
       "      <td>20</td>\n",
       "      <td>324</td>\n",
       "      <td>[610.0, 724.0]</td>\n",
       "    </tr>\n",
       "    <tr>\n",
       "      <th>6</th>\n",
       "      <td>Annual Income</td>\n",
       "      <td>float64</td>\n",
       "      <td>19668</td>\n",
       "      <td>20</td>\n",
       "      <td>36174</td>\n",
       "      <td>[414295.0, 1914554.0]</td>\n",
       "    </tr>\n",
       "    <tr>\n",
       "      <th>7</th>\n",
       "      <td>Years in current job</td>\n",
       "      <td>object</td>\n",
       "      <td>4736</td>\n",
       "      <td>5</td>\n",
       "      <td>11</td>\n",
       "      <td>[7 years, 2 years]</td>\n",
       "    </tr>\n",
       "    <tr>\n",
       "      <th>8</th>\n",
       "      <td>Home Ownership</td>\n",
       "      <td>object</td>\n",
       "      <td>514</td>\n",
       "      <td>1</td>\n",
       "      <td>4</td>\n",
       "      <td>[Rent, nan]</td>\n",
       "    </tr>\n",
       "    <tr>\n",
       "      <th>9</th>\n",
       "      <td>Purpose</td>\n",
       "      <td>object</td>\n",
       "      <td>514</td>\n",
       "      <td>1</td>\n",
       "      <td>16</td>\n",
       "      <td>[renewable_energy, moving]</td>\n",
       "    </tr>\n",
       "    <tr>\n",
       "      <th>10</th>\n",
       "      <td>Monthly Debt</td>\n",
       "      <td>float64</td>\n",
       "      <td>514</td>\n",
       "      <td>1</td>\n",
       "      <td>65765</td>\n",
       "      <td>[5461.55, 7491.32]</td>\n",
       "    </tr>\n",
       "    <tr>\n",
       "      <th>11</th>\n",
       "      <td>Years of Credit History</td>\n",
       "      <td>float64</td>\n",
       "      <td>514</td>\n",
       "      <td>1</td>\n",
       "      <td>506</td>\n",
       "      <td>[50.4, 16.1]</td>\n",
       "    </tr>\n",
       "    <tr>\n",
       "      <th>12</th>\n",
       "      <td>Months since last delinquent</td>\n",
       "      <td>float64</td>\n",
       "      <td>53655</td>\n",
       "      <td>53</td>\n",
       "      <td>116</td>\n",
       "      <td>[69.0, 39.0]</td>\n",
       "    </tr>\n",
       "    <tr>\n",
       "      <th>13</th>\n",
       "      <td>Number of Open Accounts</td>\n",
       "      <td>float64</td>\n",
       "      <td>514</td>\n",
       "      <td>1</td>\n",
       "      <td>51</td>\n",
       "      <td>[25.0, 12.0]</td>\n",
       "    </tr>\n",
       "    <tr>\n",
       "      <th>14</th>\n",
       "      <td>Number of Credit Problems</td>\n",
       "      <td>float64</td>\n",
       "      <td>514</td>\n",
       "      <td>1</td>\n",
       "      <td>14</td>\n",
       "      <td>[4.0, 0.0]</td>\n",
       "    </tr>\n",
       "    <tr>\n",
       "      <th>15</th>\n",
       "      <td>Current Credit Balance</td>\n",
       "      <td>float64</td>\n",
       "      <td>514</td>\n",
       "      <td>1</td>\n",
       "      <td>32730</td>\n",
       "      <td>[624853.0, 159144.0]</td>\n",
       "    </tr>\n",
       "    <tr>\n",
       "      <th>16</th>\n",
       "      <td>Maximum Open Credit</td>\n",
       "      <td>float64</td>\n",
       "      <td>516</td>\n",
       "      <td>1</td>\n",
       "      <td>44596</td>\n",
       "      <td>[599852.0, 687368.0]</td>\n",
       "    </tr>\n",
       "    <tr>\n",
       "      <th>17</th>\n",
       "      <td>Bankruptcies</td>\n",
       "      <td>float64</td>\n",
       "      <td>718</td>\n",
       "      <td>1</td>\n",
       "      <td>8</td>\n",
       "      <td>[2.0, 6.0]</td>\n",
       "    </tr>\n",
       "    <tr>\n",
       "      <th>18</th>\n",
       "      <td>Tax Liens</td>\n",
       "      <td>float64</td>\n",
       "      <td>524</td>\n",
       "      <td>1</td>\n",
       "      <td>12</td>\n",
       "      <td>[7.0, nan]</td>\n",
       "    </tr>\n",
       "  </tbody>\n",
       "</table>\n",
       "</div>"
      ],
      "text/plain": [
       "                    Data Feature Data Types   Null  Null Pct  Unique  \\\n",
       "0                        Loan ID     object    514         1   81999   \n",
       "1                    Customer ID     object    514         1   81999   \n",
       "2                    Loan Status     object    514         1       2   \n",
       "3            Current Loan Amount    float64    514         1   22004   \n",
       "4                           Term     object    514         1       2   \n",
       "5                   Credit Score    float64  19668        20     324   \n",
       "6                  Annual Income    float64  19668        20   36174   \n",
       "7           Years in current job     object   4736         5      11   \n",
       "8                 Home Ownership     object    514         1       4   \n",
       "9                        Purpose     object    514         1      16   \n",
       "10                  Monthly Debt    float64    514         1   65765   \n",
       "11       Years of Credit History    float64    514         1     506   \n",
       "12  Months since last delinquent    float64  53655        53     116   \n",
       "13       Number of Open Accounts    float64    514         1      51   \n",
       "14     Number of Credit Problems    float64    514         1      14   \n",
       "15        Current Credit Balance    float64    514         1   32730   \n",
       "16           Maximum Open Credit    float64    516         1   44596   \n",
       "17                  Bankruptcies    float64    718         1       8   \n",
       "18                     Tax Liens    float64    524         1      12   \n",
       "\n",
       "                                        Unique Sample  \n",
       "0   [8236d82a-5679-40e7-b22a-07ec137ce399, 0565e42...  \n",
       "1   [0fbe9c43-c7c2-40b3-aa9c-435ab6b0bde8, 916131c...  \n",
       "2                                   [nan, Fully Paid]  \n",
       "3                                [605902.0, 227524.0]  \n",
       "4                             [Short Term, Long Term]  \n",
       "5                                      [610.0, 724.0]  \n",
       "6                               [414295.0, 1914554.0]  \n",
       "7                                  [7 years, 2 years]  \n",
       "8                                         [Rent, nan]  \n",
       "9                          [renewable_energy, moving]  \n",
       "10                                 [5461.55, 7491.32]  \n",
       "11                                       [50.4, 16.1]  \n",
       "12                                       [69.0, 39.0]  \n",
       "13                                       [25.0, 12.0]  \n",
       "14                                         [4.0, 0.0]  \n",
       "15                               [624853.0, 159144.0]  \n",
       "16                               [599852.0, 687368.0]  \n",
       "17                                         [2.0, 6.0]  \n",
       "18                                         [7.0, nan]  "
      ]
     },
     "execution_count": 3,
     "metadata": {},
     "output_type": "execute_result"
    }
   ],
   "source": [
    "bankDesc = []\n",
    "\n",
    "for i in df.columns:\n",
    "    bankDesc.append([\n",
    "        i,\n",
    "        df[i].dtypes,\n",
    "        df[i].isna().sum(),\n",
    "        (((df[i].isna().sum()) / len(df)) * 100).round(2),\n",
    "        df[i].nunique(),\n",
    "        df[i].drop_duplicates().sample(2).values\n",
    "    ])\n",
    "    \n",
    "pd.DataFrame(data = bankDesc, columns= [\n",
    "    'Data Feature',\n",
    "    'Data Types',\n",
    "    'Null',\n",
    "    'Null Pct',\n",
    "    'Unique',\n",
    "    'Unique Sample'\n",
    "] )"
   ]
  },
  {
   "cell_type": "code",
   "execution_count": 3,
   "metadata": {
    "scrolled": true
   },
   "outputs": [
    {
     "data": {
      "text/plain": [
       "Loan ID                          object\n",
       "Customer ID                      object\n",
       "Loan Status                      object\n",
       "Current Loan Amount             float64\n",
       "Term                             object\n",
       "Credit Score                    float64\n",
       "Annual Income                   float64\n",
       "Years in current job             object\n",
       "Home Ownership                   object\n",
       "Purpose                          object\n",
       "Monthly Debt                    float64\n",
       "Years of Credit History         float64\n",
       "Months since last delinquent    float64\n",
       "Number of Open Accounts         float64\n",
       "Number of Credit Problems       float64\n",
       "Current Credit Balance          float64\n",
       "Maximum Open Credit             float64\n",
       "Bankruptcies                    float64\n",
       "Tax Liens                       float64\n",
       "dtype: object"
      ]
     },
     "execution_count": 3,
     "metadata": {},
     "output_type": "execute_result"
    }
   ],
   "source": [
    "df.dtypes\n",
    "\n",
    "# 7 kolom tipe object, kolom lainnya tipe data float"
   ]
  },
  {
   "cell_type": "code",
   "execution_count": 6,
   "metadata": {
    "scrolled": true
   },
   "outputs": [
    {
     "data": {
      "text/plain": [
       "Loan ID                           514\n",
       "Customer ID                       514\n",
       "Loan Status                       514\n",
       "Current Loan Amount               514\n",
       "Term                              514\n",
       "Credit Score                    19668\n",
       "Annual Income                   19668\n",
       "Years in current job             4736\n",
       "Home Ownership                    514\n",
       "Purpose                           514\n",
       "Monthly Debt                      514\n",
       "Years of Credit History           514\n",
       "Months since last delinquent    53655\n",
       "Number of Open Accounts           514\n",
       "Number of Credit Problems         514\n",
       "Current Credit Balance            514\n",
       "Maximum Open Credit               516\n",
       "Bankruptcies                      718\n",
       "Tax Liens                         524\n",
       "dtype: int64"
      ]
     },
     "execution_count": 6,
     "metadata": {},
     "output_type": "execute_result"
    }
   ],
   "source": [
    "df.isna().sum()\n",
    "\n",
    "# terdapat cukup banyak missing values dalam dataset"
   ]
  },
  {
   "cell_type": "markdown",
   "metadata": {},
   "source": [
    "### Checking Data Duplicates"
   ]
  },
  {
   "cell_type": "code",
   "execution_count": 4,
   "metadata": {
    "scrolled": false
   },
   "outputs": [
    {
     "data": {
      "text/plain": [
       "Loan ID                         81999\n",
       "Customer ID                     81999\n",
       "Loan Status                         2\n",
       "Current Loan Amount             22004\n",
       "Term                                2\n",
       "Credit Score                      324\n",
       "Annual Income                   36174\n",
       "Years in current job               11\n",
       "Home Ownership                      4\n",
       "Purpose                            16\n",
       "Monthly Debt                    65765\n",
       "Years of Credit History           506\n",
       "Months since last delinquent      116\n",
       "Number of Open Accounts            51\n",
       "Number of Credit Problems          14\n",
       "Current Credit Balance          32730\n",
       "Maximum Open Credit             44596\n",
       "Bankruptcies                        8\n",
       "Tax Liens                          12\n",
       "dtype: int64"
      ]
     },
     "execution_count": 4,
     "metadata": {},
     "output_type": "execute_result"
    }
   ],
   "source": [
    "df.nunique()\n",
    "\n",
    "# data unik loan ID hanya 81999 data, yang menandakan ada data duplikat pada dataset\n",
    "# data unik load ID dan customer ID sama, yang menandakan setiap customer hanya memiliki 1 loan"
   ]
  },
  {
   "cell_type": "code",
   "execution_count": 91,
   "metadata": {},
   "outputs": [
    {
     "data": {
      "text/plain": [
       "(82000, 19)"
      ]
     },
     "execution_count": 91,
     "metadata": {},
     "output_type": "execute_result"
    }
   ],
   "source": [
    "df.drop_duplicates(subset = 'Loan ID', keep = 'first', inplace = True)\n",
    "df.shape\n",
    "\n",
    "# drop data duplikat dalam dataset (baris data menjadi 82 ribu)"
   ]
  },
  {
   "cell_type": "code",
   "execution_count": 92,
   "metadata": {},
   "outputs": [
    {
     "data": {
      "text/plain": [
       "(82000, 17)"
      ]
     },
     "execution_count": 92,
     "metadata": {},
     "output_type": "execute_result"
    }
   ],
   "source": [
    "df.drop(['Loan ID','Customer ID'],axis=1,inplace=True)\n",
    "df.shape\n",
    "\n",
    "# drop kolom loan ID dan customer ID karena data tidak berhubungan dengan tujuan project"
   ]
  },
  {
   "cell_type": "markdown",
   "metadata": {},
   "source": [
    "### Handling Abnormal Data"
   ]
  },
  {
   "cell_type": "code",
   "execution_count": 50,
   "metadata": {
    "scrolled": true
   },
   "outputs": [
    {
     "data": {
      "text/html": [
       "<div>\n",
       "<style scoped>\n",
       "    .dataframe tbody tr th:only-of-type {\n",
       "        vertical-align: middle;\n",
       "    }\n",
       "\n",
       "    .dataframe tbody tr th {\n",
       "        vertical-align: top;\n",
       "    }\n",
       "\n",
       "    .dataframe thead th {\n",
       "        text-align: right;\n",
       "    }\n",
       "</style>\n",
       "<table border=\"1\" class=\"dataframe\">\n",
       "  <thead>\n",
       "    <tr style=\"text-align: right;\">\n",
       "      <th></th>\n",
       "      <th>Current Loan Amount</th>\n",
       "      <th>Credit Score</th>\n",
       "      <th>Annual Income</th>\n",
       "      <th>Monthly Debt</th>\n",
       "      <th>Years of Credit History</th>\n",
       "      <th>Months since last delinquent</th>\n",
       "      <th>Number of Open Accounts</th>\n",
       "      <th>Number of Credit Problems</th>\n",
       "      <th>Current Credit Balance</th>\n",
       "      <th>Maximum Open Credit</th>\n",
       "      <th>Bankruptcies</th>\n",
       "      <th>Tax Liens</th>\n",
       "    </tr>\n",
       "  </thead>\n",
       "  <tbody>\n",
       "    <tr>\n",
       "      <th>count</th>\n",
       "      <td>81999</td>\n",
       "      <td>64968</td>\n",
       "      <td>64968</td>\n",
       "      <td>81999</td>\n",
       "      <td>81999</td>\n",
       "      <td>37378</td>\n",
       "      <td>81999</td>\n",
       "      <td>81999</td>\n",
       "      <td>81999</td>\n",
       "      <td>81997</td>\n",
       "      <td>81824</td>\n",
       "      <td>81991</td>\n",
       "    </tr>\n",
       "    <tr>\n",
       "      <th>mean</th>\n",
       "      <td>12086403</td>\n",
       "      <td>1168</td>\n",
       "      <td>1376776</td>\n",
       "      <td>18331</td>\n",
       "      <td>18</td>\n",
       "      <td>35</td>\n",
       "      <td>11</td>\n",
       "      <td>0</td>\n",
       "      <td>293620</td>\n",
       "      <td>793536</td>\n",
       "      <td>0</td>\n",
       "      <td>0</td>\n",
       "    </tr>\n",
       "    <tr>\n",
       "      <th>std</th>\n",
       "      <td>32179533</td>\n",
       "      <td>1633</td>\n",
       "      <td>1121542</td>\n",
       "      <td>12128</td>\n",
       "      <td>7</td>\n",
       "      <td>22</td>\n",
       "      <td>5</td>\n",
       "      <td>0</td>\n",
       "      <td>372615</td>\n",
       "      <td>9208747</td>\n",
       "      <td>0</td>\n",
       "      <td>0</td>\n",
       "    </tr>\n",
       "    <tr>\n",
       "      <th>min</th>\n",
       "      <td>10802</td>\n",
       "      <td>585</td>\n",
       "      <td>76627</td>\n",
       "      <td>0</td>\n",
       "      <td>4</td>\n",
       "      <td>0</td>\n",
       "      <td>0</td>\n",
       "      <td>0</td>\n",
       "      <td>0</td>\n",
       "      <td>0</td>\n",
       "      <td>0</td>\n",
       "      <td>0</td>\n",
       "    </tr>\n",
       "    <tr>\n",
       "      <th>25%</th>\n",
       "      <td>179256</td>\n",
       "      <td>711</td>\n",
       "      <td>847305</td>\n",
       "      <td>10118</td>\n",
       "      <td>14</td>\n",
       "      <td>16</td>\n",
       "      <td>8</td>\n",
       "      <td>0</td>\n",
       "      <td>113316</td>\n",
       "      <td>280456</td>\n",
       "      <td>0</td>\n",
       "      <td>0</td>\n",
       "    </tr>\n",
       "    <tr>\n",
       "      <th>50%</th>\n",
       "      <td>307780</td>\n",
       "      <td>731</td>\n",
       "      <td>1169592</td>\n",
       "      <td>16075</td>\n",
       "      <td>17</td>\n",
       "      <td>32</td>\n",
       "      <td>10</td>\n",
       "      <td>0</td>\n",
       "      <td>209931</td>\n",
       "      <td>477774</td>\n",
       "      <td>0</td>\n",
       "      <td>0</td>\n",
       "    </tr>\n",
       "    <tr>\n",
       "      <th>75%</th>\n",
       "      <td>519453</td>\n",
       "      <td>743</td>\n",
       "      <td>1649438</td>\n",
       "      <td>23811</td>\n",
       "      <td>22</td>\n",
       "      <td>51</td>\n",
       "      <td>14</td>\n",
       "      <td>0</td>\n",
       "      <td>366994</td>\n",
       "      <td>798490</td>\n",
       "      <td>0</td>\n",
       "      <td>0</td>\n",
       "    </tr>\n",
       "    <tr>\n",
       "      <th>max</th>\n",
       "      <td>99999999</td>\n",
       "      <td>7510</td>\n",
       "      <td>165557393</td>\n",
       "      <td>435843</td>\n",
       "      <td>70</td>\n",
       "      <td>176</td>\n",
       "      <td>76</td>\n",
       "      <td>15</td>\n",
       "      <td>32878968</td>\n",
       "      <td>1539737892</td>\n",
       "      <td>7</td>\n",
       "      <td>15</td>\n",
       "    </tr>\n",
       "  </tbody>\n",
       "</table>\n",
       "</div>"
      ],
      "text/plain": [
       "       Current Loan Amount  Credit Score  Annual Income  Monthly Debt  \\\n",
       "count                81999         64968          64968         81999   \n",
       "mean              12086403          1168        1376776         18331   \n",
       "std               32179533          1633        1121542         12128   \n",
       "min                  10802           585          76627             0   \n",
       "25%                 179256           711         847305         10118   \n",
       "50%                 307780           731        1169592         16075   \n",
       "75%                 519453           743        1649438         23811   \n",
       "max               99999999          7510      165557393        435843   \n",
       "\n",
       "       Years of Credit History  Months since last delinquent  \\\n",
       "count                    81999                         37378   \n",
       "mean                        18                            35   \n",
       "std                          7                            22   \n",
       "min                          4                             0   \n",
       "25%                         14                            16   \n",
       "50%                         17                            32   \n",
       "75%                         22                            51   \n",
       "max                         70                           176   \n",
       "\n",
       "       Number of Open Accounts  Number of Credit Problems  \\\n",
       "count                    81999                      81999   \n",
       "mean                        11                          0   \n",
       "std                          5                          0   \n",
       "min                          0                          0   \n",
       "25%                          8                          0   \n",
       "50%                         10                          0   \n",
       "75%                         14                          0   \n",
       "max                         76                         15   \n",
       "\n",
       "       Current Credit Balance  Maximum Open Credit  Bankruptcies  Tax Liens  \n",
       "count                   81999                81997         81824      81991  \n",
       "mean                   293620               793536             0          0  \n",
       "std                    372615              9208747             0          0  \n",
       "min                         0                    0             0          0  \n",
       "25%                    113316               280456             0          0  \n",
       "50%                    209931               477774             0          0  \n",
       "75%                    366994               798490             0          0  \n",
       "max                  32878968           1539737892             7         15  "
      ]
     },
     "execution_count": 50,
     "metadata": {},
     "output_type": "execute_result"
    }
   ],
   "source": [
    "pd.set_option('display.float_format', lambda x: '%.0f' % x)\n",
    "df.describe()\n",
    "\n",
    "# dari deskripsi data, terlihat ada data yang mencurigakan\n",
    "# nilai max current loan amount 99999999\n",
    "# nilai max credit score 7510 (range credit score yang umum menurut fico scoring 300-850)"
   ]
  },
  {
   "cell_type": "code",
   "execution_count": 93,
   "metadata": {},
   "outputs": [
    {
     "data": {
      "text/plain": [
       "(67760, 17)"
      ]
     },
     "execution_count": 93,
     "metadata": {},
     "output_type": "execute_result"
    }
   ],
   "source": [
    "df.drop(df.index[df['Current Loan Amount'] == 99999999], inplace = True)\n",
    "df.drop(df.index[df['Credit Score'] > 850], inplace = True)\n",
    "df.drop(df['Loan Status'][df['Loan Status'].isnull() == True].index, inplace=True)\n",
    "df.shape\n",
    "\n",
    "# drop data dengan current loan amount 99999999\n",
    "# drop data dengan credit score lebih dari 850 (baris data menjadi 67 ribu)\n",
    "# drop data yang terdapat missing value di kolom target loan status (hanya 1 data)"
   ]
  },
  {
   "cell_type": "markdown",
   "metadata": {},
   "source": [
    "### Handling Missing Values"
   ]
  },
  {
   "cell_type": "code",
   "execution_count": 22,
   "metadata": {
    "scrolled": false
   },
   "outputs": [
    {
     "data": {
      "text/plain": [
       "Loan Status                         0\n",
       "Current Loan Amount                 0\n",
       "Term                                0\n",
       "Credit Score                    17031\n",
       "Annual Income                   17031\n",
       "Years in current job             2903\n",
       "Home Ownership                      0\n",
       "Purpose                             0\n",
       "Monthly Debt                        0\n",
       "Years of Credit History             0\n",
       "Months since last delinquent    36678\n",
       "Number of Open Accounts             0\n",
       "Number of Credit Problems           0\n",
       "Current Credit Balance              0\n",
       "Maximum Open Credit                 1\n",
       "Bankruptcies                      142\n",
       "Tax Liens                           7\n",
       "dtype: int64"
      ]
     },
     "execution_count": 22,
     "metadata": {},
     "output_type": "execute_result"
    }
   ],
   "source": [
    "df.isna().sum()\n",
    "\n",
    "# masih terdapat missing values di beberapa kolom\n",
    "# jumlah missing values credit score dan annual income sama banyak"
   ]
  },
  {
   "cell_type": "code",
   "execution_count": 94,
   "metadata": {},
   "outputs": [],
   "source": [
    "df['Credit Score'].fillna(df['Credit Score'].median(), inplace=True)\n",
    "df['Annual Income'].fillna(df['Annual Income'].median(), inplace=True)\n",
    "\n",
    "# karena jumlah missing values yang cukup banyak di kolom credit score dan annual income (25%)\n",
    "# maka akan diisi dengan median (ada outlier pada kedua kolom data)"
   ]
  },
  {
   "cell_type": "code",
   "execution_count": 95,
   "metadata": {},
   "outputs": [
    {
     "data": {
      "text/html": [
       "<div>\n",
       "<style scoped>\n",
       "    .dataframe tbody tr th:only-of-type {\n",
       "        vertical-align: middle;\n",
       "    }\n",
       "\n",
       "    .dataframe tbody tr th {\n",
       "        vertical-align: top;\n",
       "    }\n",
       "\n",
       "    .dataframe thead th {\n",
       "        text-align: right;\n",
       "    }\n",
       "</style>\n",
       "<table border=\"1\" class=\"dataframe\">\n",
       "  <thead>\n",
       "    <tr style=\"text-align: right;\">\n",
       "      <th></th>\n",
       "      <th>Years in current job</th>\n",
       "      <th>count</th>\n",
       "      <th>percent</th>\n",
       "    </tr>\n",
       "  </thead>\n",
       "  <tbody>\n",
       "    <tr>\n",
       "      <th>0</th>\n",
       "      <td>10+ years</td>\n",
       "      <td>20896</td>\n",
       "      <td>32</td>\n",
       "    </tr>\n",
       "    <tr>\n",
       "      <th>1</th>\n",
       "      <td>2 years</td>\n",
       "      <td>6202</td>\n",
       "      <td>10</td>\n",
       "    </tr>\n",
       "    <tr>\n",
       "      <th>2</th>\n",
       "      <td>&lt; 1 year</td>\n",
       "      <td>5595</td>\n",
       "      <td>9</td>\n",
       "    </tr>\n",
       "    <tr>\n",
       "      <th>3</th>\n",
       "      <td>3 years</td>\n",
       "      <td>5520</td>\n",
       "      <td>9</td>\n",
       "    </tr>\n",
       "    <tr>\n",
       "      <th>4</th>\n",
       "      <td>5 years</td>\n",
       "      <td>4656</td>\n",
       "      <td>7</td>\n",
       "    </tr>\n",
       "    <tr>\n",
       "      <th>5</th>\n",
       "      <td>1 year</td>\n",
       "      <td>4358</td>\n",
       "      <td>7</td>\n",
       "    </tr>\n",
       "    <tr>\n",
       "      <th>6</th>\n",
       "      <td>4 years</td>\n",
       "      <td>4185</td>\n",
       "      <td>6</td>\n",
       "    </tr>\n",
       "    <tr>\n",
       "      <th>7</th>\n",
       "      <td>6 years</td>\n",
       "      <td>3854</td>\n",
       "      <td>6</td>\n",
       "    </tr>\n",
       "    <tr>\n",
       "      <th>8</th>\n",
       "      <td>7 years</td>\n",
       "      <td>3758</td>\n",
       "      <td>6</td>\n",
       "    </tr>\n",
       "    <tr>\n",
       "      <th>9</th>\n",
       "      <td>8 years</td>\n",
       "      <td>3167</td>\n",
       "      <td>5</td>\n",
       "    </tr>\n",
       "    <tr>\n",
       "      <th>10</th>\n",
       "      <td>9 years</td>\n",
       "      <td>2666</td>\n",
       "      <td>4</td>\n",
       "    </tr>\n",
       "  </tbody>\n",
       "</table>\n",
       "</div>"
      ],
      "text/plain": [
       "   Years in current job  count  percent\n",
       "0             10+ years  20896       32\n",
       "1               2 years   6202       10\n",
       "2              < 1 year   5595        9\n",
       "3               3 years   5520        9\n",
       "4               5 years   4656        7\n",
       "5                1 year   4358        7\n",
       "6               4 years   4185        6\n",
       "7               6 years   3854        6\n",
       "8               7 years   3758        6\n",
       "9               8 years   3167        5\n",
       "10              9 years   2666        4"
      ]
     },
     "execution_count": 95,
     "metadata": {},
     "output_type": "execute_result"
    }
   ],
   "source": [
    "df.stb.freq(['Years in current job'], cum_cols = False)\n",
    "\n",
    "# dari perbandingan data years in current job, terlihat 10+ years jauh lebih banyak (32%) dari kategori umur lainnya"
   ]
  },
  {
   "cell_type": "code",
   "execution_count": 96,
   "metadata": {},
   "outputs": [],
   "source": [
    "df['Years in current job'].fillna(df['Years in current job'].mode()[0], inplace=True)\n",
    "\n",
    "# mengisi missing values years in current job dengan modus (data kategorik)"
   ]
  },
  {
   "cell_type": "code",
   "execution_count": 97,
   "metadata": {},
   "outputs": [],
   "source": [
    "df.drop(['Months since last delinquent'],axis=1,inplace=True)\n",
    "\n",
    "# drop kolom months since last delinquent karena jumlah missing value terlalu banyak (54%)"
   ]
  },
  {
   "cell_type": "code",
   "execution_count": 98,
   "metadata": {},
   "outputs": [],
   "source": [
    "df.drop(df['Maximum Open Credit'][df['Maximum Open Credit'].isnull() == True].index, inplace=True)\n",
    "df.drop(df['Bankruptcies'][df['Bankruptcies'].isnull() == True].index, inplace=True)\n",
    "df.drop(df['Tax Liens'][df['Tax Liens'].isnull() == True].index, inplace=True)\n",
    "\n",
    "# sisa missing values pada kolom dengan persentase missing values sangat kecil\n",
    "# drop missing value pada kolom maximum open credit (hanya 1 data)\n",
    "# drop missing value pada kolom bankruptcies (hanya 0,2% data)\n",
    "# drop missing value pada kolom tax liens (hanya 7 data)"
   ]
  },
  {
   "cell_type": "code",
   "execution_count": 99,
   "metadata": {
    "scrolled": true
   },
   "outputs": [
    {
     "data": {
      "text/plain": [
       "Loan Status                  0\n",
       "Current Loan Amount          0\n",
       "Term                         0\n",
       "Credit Score                 0\n",
       "Annual Income                0\n",
       "Years in current job         0\n",
       "Home Ownership               0\n",
       "Purpose                      0\n",
       "Monthly Debt                 0\n",
       "Years of Credit History      0\n",
       "Number of Open Accounts      0\n",
       "Number of Credit Problems    0\n",
       "Current Credit Balance       0\n",
       "Maximum Open Credit          0\n",
       "Bankruptcies                 0\n",
       "Tax Liens                    0\n",
       "dtype: int64"
      ]
     },
     "execution_count": 99,
     "metadata": {},
     "output_type": "execute_result"
    }
   ],
   "source": [
    "df.isna().sum()\n",
    "\n",
    "# sudah tidak ada missing value dalam dataset"
   ]
  },
  {
   "cell_type": "code",
   "execution_count": 57,
   "metadata": {},
   "outputs": [
    {
     "data": {
      "text/html": [
       "<div>\n",
       "<style scoped>\n",
       "    .dataframe tbody tr th:only-of-type {\n",
       "        vertical-align: middle;\n",
       "    }\n",
       "\n",
       "    .dataframe tbody tr th {\n",
       "        vertical-align: top;\n",
       "    }\n",
       "\n",
       "    .dataframe thead th {\n",
       "        text-align: right;\n",
       "    }\n",
       "</style>\n",
       "<table border=\"1\" class=\"dataframe\">\n",
       "  <thead>\n",
       "    <tr style=\"text-align: right;\">\n",
       "      <th></th>\n",
       "      <th>Current Loan Amount</th>\n",
       "      <th>Credit Score</th>\n",
       "      <th>Annual Income</th>\n",
       "      <th>Monthly Debt</th>\n",
       "      <th>Years of Credit History</th>\n",
       "      <th>Number of Open Accounts</th>\n",
       "      <th>Number of Credit Problems</th>\n",
       "      <th>Current Credit Balance</th>\n",
       "      <th>Maximum Open Credit</th>\n",
       "      <th>Bankruptcies</th>\n",
       "      <th>Tax Liens</th>\n",
       "    </tr>\n",
       "  </thead>\n",
       "  <tbody>\n",
       "    <tr>\n",
       "      <th>count</th>\n",
       "      <td>67617</td>\n",
       "      <td>67617</td>\n",
       "      <td>67617</td>\n",
       "      <td>67617</td>\n",
       "      <td>67617</td>\n",
       "      <td>67617</td>\n",
       "      <td>67617</td>\n",
       "      <td>67617</td>\n",
       "      <td>67617</td>\n",
       "      <td>67617</td>\n",
       "      <td>67617</td>\n",
       "    </tr>\n",
       "    <tr>\n",
       "      <th>mean</th>\n",
       "      <td>306798</td>\n",
       "      <td>721</td>\n",
       "      <td>1324338</td>\n",
       "      <td>18375</td>\n",
       "      <td>18</td>\n",
       "      <td>11</td>\n",
       "      <td>0</td>\n",
       "      <td>293019</td>\n",
       "      <td>804424</td>\n",
       "      <td>0</td>\n",
       "      <td>0</td>\n",
       "    </tr>\n",
       "    <tr>\n",
       "      <th>std</th>\n",
       "      <td>182097</td>\n",
       "      <td>24</td>\n",
       "      <td>797424</td>\n",
       "      <td>12154</td>\n",
       "      <td>7</td>\n",
       "      <td>5</td>\n",
       "      <td>0</td>\n",
       "      <td>354430</td>\n",
       "      <td>10052296</td>\n",
       "      <td>0</td>\n",
       "      <td>0</td>\n",
       "    </tr>\n",
       "    <tr>\n",
       "      <th>min</th>\n",
       "      <td>15422</td>\n",
       "      <td>585</td>\n",
       "      <td>76627</td>\n",
       "      <td>0</td>\n",
       "      <td>4</td>\n",
       "      <td>0</td>\n",
       "      <td>0</td>\n",
       "      <td>0</td>\n",
       "      <td>0</td>\n",
       "      <td>0</td>\n",
       "      <td>0</td>\n",
       "    </tr>\n",
       "    <tr>\n",
       "      <th>25%</th>\n",
       "      <td>171116</td>\n",
       "      <td>715</td>\n",
       "      <td>953040</td>\n",
       "      <td>10143</td>\n",
       "      <td>14</td>\n",
       "      <td>8</td>\n",
       "      <td>0</td>\n",
       "      <td>113012</td>\n",
       "      <td>278784</td>\n",
       "      <td>0</td>\n",
       "      <td>0</td>\n",
       "    </tr>\n",
       "    <tr>\n",
       "      <th>50%</th>\n",
       "      <td>264814</td>\n",
       "      <td>726</td>\n",
       "      <td>1172718</td>\n",
       "      <td>16129</td>\n",
       "      <td>17</td>\n",
       "      <td>10</td>\n",
       "      <td>0</td>\n",
       "      <td>209532</td>\n",
       "      <td>475244</td>\n",
       "      <td>0</td>\n",
       "      <td>0</td>\n",
       "    </tr>\n",
       "    <tr>\n",
       "      <th>75%</th>\n",
       "      <td>426602</td>\n",
       "      <td>737</td>\n",
       "      <td>1457775</td>\n",
       "      <td>23857</td>\n",
       "      <td>22</td>\n",
       "      <td>14</td>\n",
       "      <td>0</td>\n",
       "      <td>366662</td>\n",
       "      <td>795784</td>\n",
       "      <td>0</td>\n",
       "      <td>0</td>\n",
       "    </tr>\n",
       "    <tr>\n",
       "      <th>max</th>\n",
       "      <td>789250</td>\n",
       "      <td>751</td>\n",
       "      <td>36475440</td>\n",
       "      <td>435843</td>\n",
       "      <td>70</td>\n",
       "      <td>76</td>\n",
       "      <td>15</td>\n",
       "      <td>12986956</td>\n",
       "      <td>1539737892</td>\n",
       "      <td>7</td>\n",
       "      <td>15</td>\n",
       "    </tr>\n",
       "  </tbody>\n",
       "</table>\n",
       "</div>"
      ],
      "text/plain": [
       "       Current Loan Amount  Credit Score  Annual Income  Monthly Debt  \\\n",
       "count                67617         67617          67617         67617   \n",
       "mean                306798           721        1324338         18375   \n",
       "std                 182097            24         797424         12154   \n",
       "min                  15422           585          76627             0   \n",
       "25%                 171116           715         953040         10143   \n",
       "50%                 264814           726        1172718         16129   \n",
       "75%                 426602           737        1457775         23857   \n",
       "max                 789250           751       36475440        435843   \n",
       "\n",
       "       Years of Credit History  Number of Open Accounts  \\\n",
       "count                    67617                    67617   \n",
       "mean                        18                       11   \n",
       "std                          7                        5   \n",
       "min                          4                        0   \n",
       "25%                         14                        8   \n",
       "50%                         17                       10   \n",
       "75%                         22                       14   \n",
       "max                         70                       76   \n",
       "\n",
       "       Number of Credit Problems  Current Credit Balance  Maximum Open Credit  \\\n",
       "count                      67617                   67617                67617   \n",
       "mean                           0                  293019               804424   \n",
       "std                            0                  354430             10052296   \n",
       "min                            0                       0                    0   \n",
       "25%                            0                  113012               278784   \n",
       "50%                            0                  209532               475244   \n",
       "75%                            0                  366662               795784   \n",
       "max                           15                12986956           1539737892   \n",
       "\n",
       "       Bankruptcies  Tax Liens  \n",
       "count         67617      67617  \n",
       "mean              0          0  \n",
       "std               0          0  \n",
       "min               0          0  \n",
       "25%               0          0  \n",
       "50%               0          0  \n",
       "75%               0          0  \n",
       "max               7         15  "
      ]
     },
     "execution_count": 57,
     "metadata": {},
     "output_type": "execute_result"
    }
   ],
   "source": [
    "df.describe()"
   ]
  },
  {
   "cell_type": "code",
   "execution_count": 34,
   "metadata": {
    "scrolled": true
   },
   "outputs": [
    {
     "data": {
      "text/html": [
       "<div>\n",
       "<style scoped>\n",
       "    .dataframe tbody tr th:only-of-type {\n",
       "        vertical-align: middle;\n",
       "    }\n",
       "\n",
       "    .dataframe tbody tr th {\n",
       "        vertical-align: top;\n",
       "    }\n",
       "\n",
       "    .dataframe thead th {\n",
       "        text-align: right;\n",
       "    }\n",
       "</style>\n",
       "<table border=\"1\" class=\"dataframe\">\n",
       "  <thead>\n",
       "    <tr style=\"text-align: right;\">\n",
       "      <th></th>\n",
       "      <th>Loan Status</th>\n",
       "      <th>Term</th>\n",
       "      <th>Years in current job</th>\n",
       "      <th>Home Ownership</th>\n",
       "      <th>Purpose</th>\n",
       "    </tr>\n",
       "  </thead>\n",
       "  <tbody>\n",
       "    <tr>\n",
       "      <th>count</th>\n",
       "      <td>67617</td>\n",
       "      <td>67617</td>\n",
       "      <td>67617</td>\n",
       "      <td>67617</td>\n",
       "      <td>67617</td>\n",
       "    </tr>\n",
       "    <tr>\n",
       "      <th>unique</th>\n",
       "      <td>2</td>\n",
       "      <td>2</td>\n",
       "      <td>11</td>\n",
       "      <td>4</td>\n",
       "      <td>16</td>\n",
       "    </tr>\n",
       "    <tr>\n",
       "      <th>top</th>\n",
       "      <td>Fully Paid</td>\n",
       "      <td>Short Term</td>\n",
       "      <td>10+ years</td>\n",
       "      <td>Home Mortgage</td>\n",
       "      <td>Debt Consolidation</td>\n",
       "    </tr>\n",
       "    <tr>\n",
       "      <th>freq</th>\n",
       "      <td>49570</td>\n",
       "      <td>50331</td>\n",
       "      <td>23778</td>\n",
       "      <td>32916</td>\n",
       "      <td>53475</td>\n",
       "    </tr>\n",
       "  </tbody>\n",
       "</table>\n",
       "</div>"
      ],
      "text/plain": [
       "       Loan Status        Term Years in current job Home Ownership  \\\n",
       "count        67617       67617                67617          67617   \n",
       "unique           2           2                   11              4   \n",
       "top     Fully Paid  Short Term            10+ years  Home Mortgage   \n",
       "freq         49570       50331                23778          32916   \n",
       "\n",
       "                   Purpose  \n",
       "count                67617  \n",
       "unique                  16  \n",
       "top     Debt Consolidation  \n",
       "freq                 53475  "
      ]
     },
     "execution_count": 34,
     "metadata": {},
     "output_type": "execute_result"
    }
   ],
   "source": [
    "df.describe(include='O')"
   ]
  },
  {
   "cell_type": "markdown",
   "metadata": {},
   "source": [
    "### Handling Similar Data Description"
   ]
  },
  {
   "cell_type": "code",
   "execution_count": 35,
   "metadata": {
    "scrolled": true
   },
   "outputs": [
    {
     "data": {
      "text/plain": [
       "array(['Home Mortgage', 'Own Home', 'Rent', 'HaveMortgage'], dtype=object)"
      ]
     },
     "execution_count": 35,
     "metadata": {},
     "output_type": "execute_result"
    }
   ],
   "source": [
    "df['Home Ownership'].unique()\n",
    "\n",
    "# terdapat 2 tipe home ownership yang bertipe sama, home mortgage dan havemortgage"
   ]
  },
  {
   "cell_type": "code",
   "execution_count": 36,
   "metadata": {
    "scrolled": false
   },
   "outputs": [
    {
     "data": {
      "text/plain": [
       "array(['Home Improvements', 'Debt Consolidation', 'Buy House', 'other',\n",
       "       'Buy a Car', 'Take a Trip', 'Other', 'Business Loan',\n",
       "       'small_business', 'Medical Bills', 'vacation', 'major_purchase',\n",
       "       'Educational Expenses', 'wedding', 'moving', 'renewable_energy'],\n",
       "      dtype=object)"
      ]
     },
     "execution_count": 36,
     "metadata": {},
     "output_type": "execute_result"
    }
   ],
   "source": [
    "df['Purpose'].unique()\n",
    "\n",
    "# terdapat beberapa purpose yang bertujuan sama\n",
    "# other dan Other\n",
    "# take a trip dan vacation\n",
    "# business loan dan small_business"
   ]
  },
  {
   "cell_type": "code",
   "execution_count": 100,
   "metadata": {},
   "outputs": [
    {
     "data": {
      "text/plain": [
       "array(['Home Mortgage', 'Own Home', 'Rent'], dtype=object)"
      ]
     },
     "execution_count": 100,
     "metadata": {},
     "output_type": "execute_result"
    }
   ],
   "source": [
    "df['Home Ownership'] = df['Home Ownership'].replace('HaveMortgage', 'Home Mortgage')\n",
    "df['Home Ownership'].unique()\n",
    "\n",
    "# menyamakan kata havemortgage menjadi home mortgage"
   ]
  },
  {
   "cell_type": "code",
   "execution_count": 101,
   "metadata": {
    "scrolled": false
   },
   "outputs": [
    {
     "data": {
      "text/plain": [
       "array(['Home Improvements', 'Debt Consolidation', 'Buy House', 'Other',\n",
       "       'Buy a Car', 'vacation', 'Business Loan', 'Medical Bills',\n",
       "       'major_purchase', 'Educational Expenses', 'wedding', 'moving',\n",
       "       'renewable_energy'], dtype=object)"
      ]
     },
     "execution_count": 101,
     "metadata": {},
     "output_type": "execute_result"
    }
   ],
   "source": [
    "df['Purpose'] = df['Purpose'].replace({'other':'Other','small_business':'Business Loan','Take a Trip':'vacation'})\n",
    "df['Purpose'].unique()\n",
    "\n",
    "# menyamakan kata Other dengan other\n",
    "# menyamakan kata small business dengan business loan\n",
    "# menyamakan kata take a trip dengan vacation"
   ]
  },
  {
   "cell_type": "code",
   "execution_count": 102,
   "metadata": {},
   "outputs": [
    {
     "data": {
      "text/html": [
       "<div>\n",
       "<style scoped>\n",
       "    .dataframe tbody tr th:only-of-type {\n",
       "        vertical-align: middle;\n",
       "    }\n",
       "\n",
       "    .dataframe tbody tr th {\n",
       "        vertical-align: top;\n",
       "    }\n",
       "\n",
       "    .dataframe thead th {\n",
       "        text-align: right;\n",
       "    }\n",
       "</style>\n",
       "<table border=\"1\" class=\"dataframe\">\n",
       "  <thead>\n",
       "    <tr style=\"text-align: right;\">\n",
       "      <th></th>\n",
       "      <th>Number of Credit Problems</th>\n",
       "      <th>count</th>\n",
       "      <th>percent</th>\n",
       "    </tr>\n",
       "  </thead>\n",
       "  <tbody>\n",
       "    <tr>\n",
       "      <th>0</th>\n",
       "      <td>0</td>\n",
       "      <td>58508</td>\n",
       "      <td>87</td>\n",
       "    </tr>\n",
       "    <tr>\n",
       "      <th>1</th>\n",
       "      <td>1</td>\n",
       "      <td>7893</td>\n",
       "      <td>12</td>\n",
       "    </tr>\n",
       "    <tr>\n",
       "      <th>2</th>\n",
       "      <td>2</td>\n",
       "      <td>834</td>\n",
       "      <td>1</td>\n",
       "    </tr>\n",
       "    <tr>\n",
       "      <th>3</th>\n",
       "      <td>3</td>\n",
       "      <td>245</td>\n",
       "      <td>0</td>\n",
       "    </tr>\n",
       "    <tr>\n",
       "      <th>4</th>\n",
       "      <td>4</td>\n",
       "      <td>80</td>\n",
       "      <td>0</td>\n",
       "    </tr>\n",
       "    <tr>\n",
       "      <th>5</th>\n",
       "      <td>5</td>\n",
       "      <td>34</td>\n",
       "      <td>0</td>\n",
       "    </tr>\n",
       "    <tr>\n",
       "      <th>6</th>\n",
       "      <td>6</td>\n",
       "      <td>10</td>\n",
       "      <td>0</td>\n",
       "    </tr>\n",
       "    <tr>\n",
       "      <th>7</th>\n",
       "      <td>7</td>\n",
       "      <td>6</td>\n",
       "      <td>0</td>\n",
       "    </tr>\n",
       "    <tr>\n",
       "      <th>8</th>\n",
       "      <td>10</td>\n",
       "      <td>2</td>\n",
       "      <td>0</td>\n",
       "    </tr>\n",
       "    <tr>\n",
       "      <th>9</th>\n",
       "      <td>9</td>\n",
       "      <td>2</td>\n",
       "      <td>0</td>\n",
       "    </tr>\n",
       "    <tr>\n",
       "      <th>10</th>\n",
       "      <td>15</td>\n",
       "      <td>1</td>\n",
       "      <td>0</td>\n",
       "    </tr>\n",
       "    <tr>\n",
       "      <th>11</th>\n",
       "      <td>11</td>\n",
       "      <td>1</td>\n",
       "      <td>0</td>\n",
       "    </tr>\n",
       "    <tr>\n",
       "      <th>12</th>\n",
       "      <td>8</td>\n",
       "      <td>1</td>\n",
       "      <td>0</td>\n",
       "    </tr>\n",
       "  </tbody>\n",
       "</table>\n",
       "</div>"
      ],
      "text/plain": [
       "    Number of Credit Problems  count  percent\n",
       "0                           0  58508       87\n",
       "1                           1   7893       12\n",
       "2                           2    834        1\n",
       "3                           3    245        0\n",
       "4                           4     80        0\n",
       "5                           5     34        0\n",
       "6                           6     10        0\n",
       "7                           7      6        0\n",
       "8                          10      2        0\n",
       "9                           9      2        0\n",
       "10                         15      1        0\n",
       "11                         11      1        0\n",
       "12                          8      1        0"
      ]
     },
     "execution_count": 102,
     "metadata": {},
     "output_type": "execute_result"
    }
   ],
   "source": [
    "df.stb.freq(['Number of Credit Problems'], cum_cols = False)\n",
    "\n",
    "# dari perbandingan jumlah number of credit problems, terlihat 0 jauh mendominasi (87%)"
   ]
  },
  {
   "cell_type": "code",
   "execution_count": 103,
   "metadata": {},
   "outputs": [
    {
     "data": {
      "text/html": [
       "<div>\n",
       "<style scoped>\n",
       "    .dataframe tbody tr th:only-of-type {\n",
       "        vertical-align: middle;\n",
       "    }\n",
       "\n",
       "    .dataframe tbody tr th {\n",
       "        vertical-align: top;\n",
       "    }\n",
       "\n",
       "    .dataframe thead th {\n",
       "        text-align: right;\n",
       "    }\n",
       "</style>\n",
       "<table border=\"1\" class=\"dataframe\">\n",
       "  <thead>\n",
       "    <tr style=\"text-align: right;\">\n",
       "      <th></th>\n",
       "      <th>Bankruptcies</th>\n",
       "      <th>count</th>\n",
       "      <th>percent</th>\n",
       "    </tr>\n",
       "  </thead>\n",
       "  <tbody>\n",
       "    <tr>\n",
       "      <th>0</th>\n",
       "      <td>0</td>\n",
       "      <td>60394</td>\n",
       "      <td>89</td>\n",
       "    </tr>\n",
       "    <tr>\n",
       "      <th>1</th>\n",
       "      <td>1</td>\n",
       "      <td>6871</td>\n",
       "      <td>10</td>\n",
       "    </tr>\n",
       "    <tr>\n",
       "      <th>2</th>\n",
       "      <td>2</td>\n",
       "      <td>270</td>\n",
       "      <td>0</td>\n",
       "    </tr>\n",
       "    <tr>\n",
       "      <th>3</th>\n",
       "      <td>3</td>\n",
       "      <td>60</td>\n",
       "      <td>0</td>\n",
       "    </tr>\n",
       "    <tr>\n",
       "      <th>4</th>\n",
       "      <td>4</td>\n",
       "      <td>16</td>\n",
       "      <td>0</td>\n",
       "    </tr>\n",
       "    <tr>\n",
       "      <th>5</th>\n",
       "      <td>5</td>\n",
       "      <td>4</td>\n",
       "      <td>0</td>\n",
       "    </tr>\n",
       "    <tr>\n",
       "      <th>6</th>\n",
       "      <td>7</td>\n",
       "      <td>1</td>\n",
       "      <td>0</td>\n",
       "    </tr>\n",
       "    <tr>\n",
       "      <th>7</th>\n",
       "      <td>6</td>\n",
       "      <td>1</td>\n",
       "      <td>0</td>\n",
       "    </tr>\n",
       "  </tbody>\n",
       "</table>\n",
       "</div>"
      ],
      "text/plain": [
       "   Bankruptcies  count  percent\n",
       "0             0  60394       89\n",
       "1             1   6871       10\n",
       "2             2    270        0\n",
       "3             3     60        0\n",
       "4             4     16        0\n",
       "5             5      4        0\n",
       "6             7      1        0\n",
       "7             6      1        0"
      ]
     },
     "execution_count": 103,
     "metadata": {},
     "output_type": "execute_result"
    }
   ],
   "source": [
    "df.stb.freq(['Bankruptcies'], cum_cols = False)\n",
    "\n",
    "# dari perbandingan jumlah bankruptcies, terlihat 0 jauh mendominasi (89%)"
   ]
  },
  {
   "cell_type": "code",
   "execution_count": 104,
   "metadata": {},
   "outputs": [
    {
     "data": {
      "text/html": [
       "<div>\n",
       "<style scoped>\n",
       "    .dataframe tbody tr th:only-of-type {\n",
       "        vertical-align: middle;\n",
       "    }\n",
       "\n",
       "    .dataframe tbody tr th {\n",
       "        vertical-align: top;\n",
       "    }\n",
       "\n",
       "    .dataframe thead th {\n",
       "        text-align: right;\n",
       "    }\n",
       "</style>\n",
       "<table border=\"1\" class=\"dataframe\">\n",
       "  <thead>\n",
       "    <tr style=\"text-align: right;\">\n",
       "      <th></th>\n",
       "      <th>Tax Liens</th>\n",
       "      <th>count</th>\n",
       "      <th>percent</th>\n",
       "    </tr>\n",
       "  </thead>\n",
       "  <tbody>\n",
       "    <tr>\n",
       "      <th>0</th>\n",
       "      <td>0</td>\n",
       "      <td>66387</td>\n",
       "      <td>98</td>\n",
       "    </tr>\n",
       "    <tr>\n",
       "      <th>1</th>\n",
       "      <td>1</td>\n",
       "      <td>852</td>\n",
       "      <td>1</td>\n",
       "    </tr>\n",
       "    <tr>\n",
       "      <th>2</th>\n",
       "      <td>2</td>\n",
       "      <td>235</td>\n",
       "      <td>0</td>\n",
       "    </tr>\n",
       "    <tr>\n",
       "      <th>3</th>\n",
       "      <td>3</td>\n",
       "      <td>77</td>\n",
       "      <td>0</td>\n",
       "    </tr>\n",
       "    <tr>\n",
       "      <th>4</th>\n",
       "      <td>4</td>\n",
       "      <td>40</td>\n",
       "      <td>0</td>\n",
       "    </tr>\n",
       "    <tr>\n",
       "      <th>5</th>\n",
       "      <td>5</td>\n",
       "      <td>10</td>\n",
       "      <td>0</td>\n",
       "    </tr>\n",
       "    <tr>\n",
       "      <th>6</th>\n",
       "      <td>6</td>\n",
       "      <td>6</td>\n",
       "      <td>0</td>\n",
       "    </tr>\n",
       "    <tr>\n",
       "      <th>7</th>\n",
       "      <td>7</td>\n",
       "      <td>4</td>\n",
       "      <td>0</td>\n",
       "    </tr>\n",
       "    <tr>\n",
       "      <th>8</th>\n",
       "      <td>9</td>\n",
       "      <td>3</td>\n",
       "      <td>0</td>\n",
       "    </tr>\n",
       "    <tr>\n",
       "      <th>9</th>\n",
       "      <td>15</td>\n",
       "      <td>1</td>\n",
       "      <td>0</td>\n",
       "    </tr>\n",
       "    <tr>\n",
       "      <th>10</th>\n",
       "      <td>11</td>\n",
       "      <td>1</td>\n",
       "      <td>0</td>\n",
       "    </tr>\n",
       "    <tr>\n",
       "      <th>11</th>\n",
       "      <td>10</td>\n",
       "      <td>1</td>\n",
       "      <td>0</td>\n",
       "    </tr>\n",
       "  </tbody>\n",
       "</table>\n",
       "</div>"
      ],
      "text/plain": [
       "    Tax Liens  count  percent\n",
       "0           0  66387       98\n",
       "1           1    852        1\n",
       "2           2    235        0\n",
       "3           3     77        0\n",
       "4           4     40        0\n",
       "5           5     10        0\n",
       "6           6      6        0\n",
       "7           7      4        0\n",
       "8           9      3        0\n",
       "9          15      1        0\n",
       "10         11      1        0\n",
       "11         10      1        0"
      ]
     },
     "execution_count": 104,
     "metadata": {},
     "output_type": "execute_result"
    }
   ],
   "source": [
    "df.stb.freq(['Tax Liens'], cum_cols = False)\n",
    "\n",
    "# dari perbandingan jumlah tax liens, terlihat 0 jauh mendominasi (98%)"
   ]
  },
  {
   "cell_type": "code",
   "execution_count": 105,
   "metadata": {},
   "outputs": [
    {
     "data": {
      "text/plain": [
       "0    58508\n",
       "1     9109\n",
       "Name: Credit Problems, dtype: int64"
      ]
     },
     "execution_count": 105,
     "metadata": {},
     "output_type": "execute_result"
    }
   ],
   "source": [
    "df['Number of Credit Problems'] = np.where(df['Number of Credit Problems'] == 0, 0, 1)\n",
    "df.rename(columns = {'Number of Credit Problems': 'Credit Problems'}, inplace=True)\n",
    "df['Credit Problems'].value_counts()\n",
    "\n",
    "# kolom number of credit problems dibuat menjadi 2 kategori (binary iya/tidak)\n",
    "# nama kolom diganti menjadi credit problems"
   ]
  },
  {
   "cell_type": "code",
   "execution_count": 118,
   "metadata": {},
   "outputs": [
    {
     "data": {
      "text/html": [
       "<div>\n",
       "<style scoped>\n",
       "    .dataframe tbody tr th:only-of-type {\n",
       "        vertical-align: middle;\n",
       "    }\n",
       "\n",
       "    .dataframe tbody tr th {\n",
       "        vertical-align: top;\n",
       "    }\n",
       "\n",
       "    .dataframe thead th {\n",
       "        text-align: right;\n",
       "    }\n",
       "</style>\n",
       "<table border=\"1\" class=\"dataframe\">\n",
       "  <thead>\n",
       "    <tr style=\"text-align: right;\">\n",
       "      <th></th>\n",
       "      <th>Loan Status</th>\n",
       "      <th>Current Loan Amount</th>\n",
       "      <th>Term</th>\n",
       "      <th>Credit Score</th>\n",
       "      <th>Annual Income</th>\n",
       "      <th>Years in current job</th>\n",
       "      <th>Home Ownership</th>\n",
       "      <th>Purpose</th>\n",
       "      <th>Monthly Debt</th>\n",
       "      <th>Years of Credit History</th>\n",
       "      <th>Number of Open Accounts</th>\n",
       "      <th>Credit Problems</th>\n",
       "      <th>Current Credit Balance</th>\n",
       "      <th>Maximum Open Credit</th>\n",
       "      <th>Bankruptcies</th>\n",
       "      <th>Tax Liens</th>\n",
       "    </tr>\n",
       "  </thead>\n",
       "  <tbody>\n",
       "    <tr>\n",
       "      <th>0</th>\n",
       "      <td>Fully Paid</td>\n",
       "      <td>445412.0</td>\n",
       "      <td>Short Term</td>\n",
       "      <td>709.0</td>\n",
       "      <td>1167493.0</td>\n",
       "      <td>8</td>\n",
       "      <td>Home Mortgage</td>\n",
       "      <td>Home Improvements</td>\n",
       "      <td>5214.7</td>\n",
       "      <td>17.2</td>\n",
       "      <td>6.0</td>\n",
       "      <td>1</td>\n",
       "      <td>228190.0</td>\n",
       "      <td>416746.0</td>\n",
       "      <td>1</td>\n",
       "      <td>0</td>\n",
       "    </tr>\n",
       "    <tr>\n",
       "      <th>1</th>\n",
       "      <td>Fully Paid</td>\n",
       "      <td>262328.0</td>\n",
       "      <td>Short Term</td>\n",
       "      <td>726.0</td>\n",
       "      <td>1172718.0</td>\n",
       "      <td>10</td>\n",
       "      <td>Home Mortgage</td>\n",
       "      <td>Debt Consolidation</td>\n",
       "      <td>33296.0</td>\n",
       "      <td>21.1</td>\n",
       "      <td>35.0</td>\n",
       "      <td>0</td>\n",
       "      <td>229976.0</td>\n",
       "      <td>850784.0</td>\n",
       "      <td>0</td>\n",
       "      <td>0</td>\n",
       "    </tr>\n",
       "    <tr>\n",
       "      <th>3</th>\n",
       "      <td>Fully Paid</td>\n",
       "      <td>347666.0</td>\n",
       "      <td>Long Term</td>\n",
       "      <td>721.0</td>\n",
       "      <td>806949.0</td>\n",
       "      <td>3</td>\n",
       "      <td>Own Home</td>\n",
       "      <td>Debt Consolidation</td>\n",
       "      <td>8741.9</td>\n",
       "      <td>12.0</td>\n",
       "      <td>9.0</td>\n",
       "      <td>0</td>\n",
       "      <td>256329.0</td>\n",
       "      <td>386958.0</td>\n",
       "      <td>0</td>\n",
       "      <td>0</td>\n",
       "    </tr>\n",
       "    <tr>\n",
       "      <th>4</th>\n",
       "      <td>Fully Paid</td>\n",
       "      <td>176220.0</td>\n",
       "      <td>Short Term</td>\n",
       "      <td>726.0</td>\n",
       "      <td>1172718.0</td>\n",
       "      <td>5</td>\n",
       "      <td>Rent</td>\n",
       "      <td>Debt Consolidation</td>\n",
       "      <td>20639.7</td>\n",
       "      <td>6.1</td>\n",
       "      <td>15.0</td>\n",
       "      <td>0</td>\n",
       "      <td>253460.0</td>\n",
       "      <td>427174.0</td>\n",
       "      <td>0</td>\n",
       "      <td>0</td>\n",
       "    </tr>\n",
       "    <tr>\n",
       "      <th>6</th>\n",
       "      <td>Fully Paid</td>\n",
       "      <td>217646.0</td>\n",
       "      <td>Short Term</td>\n",
       "      <td>730.0</td>\n",
       "      <td>1184194.0</td>\n",
       "      <td>0</td>\n",
       "      <td>Home Mortgage</td>\n",
       "      <td>Debt Consolidation</td>\n",
       "      <td>10855.1</td>\n",
       "      <td>19.6</td>\n",
       "      <td>13.0</td>\n",
       "      <td>1</td>\n",
       "      <td>122170.0</td>\n",
       "      <td>272052.0</td>\n",
       "      <td>1</td>\n",
       "      <td>0</td>\n",
       "    </tr>\n",
       "  </tbody>\n",
       "</table>\n",
       "</div>"
      ],
      "text/plain": [
       "  Loan Status  Current Loan Amount        Term  Credit Score  Annual Income  \\\n",
       "0  Fully Paid             445412.0  Short Term         709.0      1167493.0   \n",
       "1  Fully Paid             262328.0  Short Term         726.0      1172718.0   \n",
       "3  Fully Paid             347666.0   Long Term         721.0       806949.0   \n",
       "4  Fully Paid             176220.0  Short Term         726.0      1172718.0   \n",
       "6  Fully Paid             217646.0  Short Term         730.0      1184194.0   \n",
       "\n",
       "   Years in current job Home Ownership             Purpose  Monthly Debt  \\\n",
       "0                     8  Home Mortgage   Home Improvements        5214.7   \n",
       "1                    10  Home Mortgage  Debt Consolidation       33296.0   \n",
       "3                     3       Own Home  Debt Consolidation        8741.9   \n",
       "4                     5           Rent  Debt Consolidation       20639.7   \n",
       "6                     0  Home Mortgage  Debt Consolidation       10855.1   \n",
       "\n",
       "   Years of Credit History  Number of Open Accounts  Credit Problems  \\\n",
       "0                     17.2                      6.0                1   \n",
       "1                     21.1                     35.0                0   \n",
       "3                     12.0                      9.0                0   \n",
       "4                      6.1                     15.0                0   \n",
       "6                     19.6                     13.0                1   \n",
       "\n",
       "   Current Credit Balance  Maximum Open Credit  Bankruptcies  Tax Liens  \n",
       "0                228190.0             416746.0             1          0  \n",
       "1                229976.0             850784.0             0          0  \n",
       "3                256329.0             386958.0             0          0  \n",
       "4                253460.0             427174.0             0          0  \n",
       "6                122170.0             272052.0             1          0  "
      ]
     },
     "execution_count": 118,
     "metadata": {},
     "output_type": "execute_result"
    }
   ],
   "source": [
    "df.head()"
   ]
  },
  {
   "cell_type": "code",
   "execution_count": 106,
   "metadata": {},
   "outputs": [
    {
     "data": {
      "text/plain": [
       "0    60394\n",
       "1     7223\n",
       "Name: Bankruptcies, dtype: int64"
      ]
     },
     "execution_count": 106,
     "metadata": {},
     "output_type": "execute_result"
    }
   ],
   "source": [
    "df['Bankruptcies'] = np.where(df['Bankruptcies'] == 0, 0, 1)\n",
    "df['Bankruptcies'].value_counts()\n",
    "\n",
    "# kolom bankruptcies dibuat menjadi 2 kategori (binary iya/tidak)"
   ]
  },
  {
   "cell_type": "code",
   "execution_count": 107,
   "metadata": {},
   "outputs": [
    {
     "data": {
      "text/plain": [
       "0    66387\n",
       "1     1230\n",
       "Name: Tax Liens, dtype: int64"
      ]
     },
     "execution_count": 107,
     "metadata": {},
     "output_type": "execute_result"
    }
   ],
   "source": [
    "df['Tax Liens'] = np.where(df['Tax Liens'] == 0, 0, 1)\n",
    "df['Tax Liens'].value_counts()\n",
    "\n",
    "# kolom bankruptcies dibuat menjadi 2 kategori (binary iya/tidak)"
   ]
  },
  {
   "cell_type": "markdown",
   "metadata": {},
   "source": [
    "### Handling Outliers"
   ]
  },
  {
   "cell_type": "code",
   "execution_count": 75,
   "metadata": {},
   "outputs": [
    {
     "data": {
      "image/png": "[encoded data removed]",
      "text/plain": [
       "<Figure size 1440x1440 with 11 Axes>"
      ]
     },
     "metadata": {
      "needs_background": "light"
     },
     "output_type": "display_data"
    }
   ],
   "source": [
    "# Mengidentifikasi outliers dengan boxplot\n",
    "plt.figure(figsize = (20, 20))\n",
    "x = 1      \n",
    "for i in df.describe():\n",
    "    plt.subplot(4,3,x)\n",
    "    sns.boxplot(df[i])\n",
    "    x += 1"
   ]
  },
  {
   "cell_type": "code",
   "execution_count": 76,
   "metadata": {},
   "outputs": [
    {
     "name": "stdout",
     "output_type": "stream",
     "text": [
      "Lower Fence Credit Score: 682.0\n",
      "Upper Fence Credit Score: 770.0\n",
      "Jumlah Outlier Credit Score: 5323 data (7.8722806394841545)%\n"
     ]
    }
   ],
   "source": [
    "# Mengidentifikasi outliers dalam kolom 'Credit Scoree'\n",
    "Q1_cs = df.describe()['Credit Score']['25%']\n",
    "Q3_cs = df.describe()['Credit Score']['75%']\n",
    "IQR_cs = Q3_cs - Q1_cs\n",
    "upper_fence_cs = Q3_cs + (1.5 * IQR_cs)\n",
    "lower_fence_cs = Q1_cs - (1.5 * IQR_cs)\n",
    "out_cs = len(df[df['Credit Score'] < lower_fence_cs]) + len(df[df['Credit Score'] > upper_fence_cs])\n",
    "per_cs = (out_cs / len(df)) * 100\n",
    "print(f'Lower Fence Credit Score: {lower_fence_cs}')\n",
    "print(f'Upper Fence Credit Score: {upper_fence_cs}')\n",
    "print(f'Jumlah Outlier Credit Score: {out_cs} data ({per_cs})%')\n",
    "\n",
    "# outliers berada pada credit score yang rendah\n",
    "# outliers dipertahankan untuk mendapatkan analisis dari data credit score yang  rendah"
   ]
  },
  {
   "cell_type": "code",
   "execution_count": 74,
   "metadata": {
    "scrolled": true
   },
   "outputs": [
    {
     "name": "stdout",
     "output_type": "stream",
     "text": [
      "Lower Fence Annual Income: 195937.5\n",
      "Upper Fence Annual Income: 2214877.5\n",
      "Jumlah Outlier Annual Income: 5705 data (8.437227324489402)%\n"
     ]
    }
   ],
   "source": [
    "# Mengidentifikasi outliers dalam kolom 'Annual Income'\n",
    "Q1_ai = df.describe()['Annual Income']['25%']\n",
    "Q3_ai = df.describe()['Annual Income']['75%']\n",
    "IQR_ai = Q3_ai - Q1_ai\n",
    "upper_fence_ai = Q3_ai + (1.5 * IQR_ai)\n",
    "lower_fence_ai = Q1_ai - (1.5 * IQR_ai)\n",
    "out_ai = len(df[df['Annual Income'] < lower_fence_ai]) + len(df[df['Annual Income'] > upper_fence_ai])\n",
    "per_ai = (out_ai / len(df)) * 100\n",
    "print(f'Lower Fence Annual Income: {lower_fence_ai}')\n",
    "print(f'Upper Fence Annual Income: {upper_fence_ai}')\n",
    "print(f'Jumlah Outlier Annual Income: {out_ai} data ({per_ai})%')\n",
    "\n",
    "# outliers berada pada annual income yang tinggi"
   ]
  },
  {
   "cell_type": "code",
   "execution_count": 77,
   "metadata": {},
   "outputs": [
    {
     "data": {
      "text/plain": [
       "37858   36475440\n",
       "58682   28095300\n",
       "21598   24161540\n",
       "25003   23980375\n",
       "29203   22448880\n",
       "Name: Annual Income, dtype: float64"
      ]
     },
     "execution_count": 77,
     "metadata": {},
     "output_type": "execute_result"
    }
   ],
   "source": [
    "df['Annual Income'].sort_values(ascending=False).head(5)\n",
    "\n",
    "# data max annual income mencurigakan karena jauh lebih tinggi dari dibawahnya"
   ]
  },
  {
   "cell_type": "code",
   "execution_count": 78,
   "metadata": {
    "scrolled": true
   },
   "outputs": [
    {
     "data": {
      "text/html": [
       "<div>\n",
       "<style scoped>\n",
       "    .dataframe tbody tr th:only-of-type {\n",
       "        vertical-align: middle;\n",
       "    }\n",
       "\n",
       "    .dataframe tbody tr th {\n",
       "        vertical-align: top;\n",
       "    }\n",
       "\n",
       "    .dataframe thead th {\n",
       "        text-align: right;\n",
       "    }\n",
       "</style>\n",
       "<table border=\"1\" class=\"dataframe\">\n",
       "  <thead>\n",
       "    <tr style=\"text-align: right;\">\n",
       "      <th></th>\n",
       "      <th>Loan Status</th>\n",
       "      <th>Current Loan Amount</th>\n",
       "      <th>Term</th>\n",
       "      <th>Credit Score</th>\n",
       "      <th>Annual Income</th>\n",
       "      <th>Years in current job</th>\n",
       "      <th>Home Ownership</th>\n",
       "      <th>Purpose</th>\n",
       "      <th>Monthly Debt</th>\n",
       "      <th>Years of Credit History</th>\n",
       "      <th>Number of Open Accounts</th>\n",
       "      <th>Number of Credit Problems</th>\n",
       "      <th>Current Credit Balance</th>\n",
       "      <th>Maximum Open Credit</th>\n",
       "      <th>Bankruptcies</th>\n",
       "      <th>Tax Liens</th>\n",
       "    </tr>\n",
       "  </thead>\n",
       "  <tbody>\n",
       "    <tr>\n",
       "      <th>37858</th>\n",
       "      <td>Fully Paid</td>\n",
       "      <td>622402</td>\n",
       "      <td>Short Term</td>\n",
       "      <td>747</td>\n",
       "      <td>36475440</td>\n",
       "      <td>6 years</td>\n",
       "      <td>Own Home</td>\n",
       "      <td>Debt Consolidation</td>\n",
       "      <td>6383</td>\n",
       "      <td>11</td>\n",
       "      <td>7</td>\n",
       "      <td>0</td>\n",
       "      <td>263891</td>\n",
       "      <td>566896</td>\n",
       "      <td>0</td>\n",
       "      <td>0</td>\n",
       "    </tr>\n",
       "  </tbody>\n",
       "</table>\n",
       "</div>"
      ],
      "text/plain": [
       "      Loan Status  Current Loan Amount        Term  Credit Score  \\\n",
       "37858  Fully Paid               622402  Short Term           747   \n",
       "\n",
       "       Annual Income Years in current job Home Ownership             Purpose  \\\n",
       "37858       36475440              6 years       Own Home  Debt Consolidation   \n",
       "\n",
       "       Monthly Debt  Years of Credit History  Number of Open Accounts  \\\n",
       "37858          6383                       11                        7   \n",
       "\n",
       "       Number of Credit Problems  Current Credit Balance  Maximum Open Credit  \\\n",
       "37858                          0                  263891               566896   \n",
       "\n",
       "       Bankruptcies  Tax Liens  \n",
       "37858             0          0  "
      ]
     },
     "execution_count": 78,
     "metadata": {},
     "output_type": "execute_result"
    }
   ],
   "source": [
    "df[df['Annual Income'] == df['Annual Income'].max()]\n",
    "\n",
    "# data annual income tertinggi 36 juta namun tujuan peminjaman debt consolidation dengan jumlah loan 600 ribu"
   ]
  },
  {
   "cell_type": "code",
   "execution_count": 79,
   "metadata": {},
   "outputs": [],
   "source": [
    "df.drop(df.index[df['Annual Income'] == 36475440], inplace = True)\n",
    "\n",
    "# drop data max annual income"
   ]
  },
  {
   "cell_type": "code",
   "execution_count": 80,
   "metadata": {},
   "outputs": [
    {
     "name": "stdout",
     "output_type": "stream",
     "text": [
      "Lower Fence Monthly Debt: -10425.395\n",
      "Upper Fence Monthly Debt: 44426.085\n",
      "Jumlah Outlier Monthly Debt: 2300 data (3.4015617605300523)%\n"
     ]
    }
   ],
   "source": [
    "# Mengidentifikasi outliers dalam kolom 'Monthly Debt'\n",
    "Q1_md = df.describe()['Monthly Debt']['25%']\n",
    "Q3_md = df.describe()['Monthly Debt']['75%']\n",
    "IQR_md = Q3_md - Q1_md\n",
    "upper_fence_md = Q3_md + (1.5 * IQR_md)\n",
    "lower_fence_md = Q1_md - (1.5 * IQR_md)\n",
    "out_md = len(df[df['Monthly Debt'] < lower_fence_md]) + len(df[df['Monthly Debt'] > upper_fence_md])\n",
    "per_md = (out_md / len(df)) * 100\n",
    "print(f'Lower Fence Monthly Debt: {lower_fence_md}')\n",
    "print(f'Upper Fence Monthly Debt: {upper_fence_md}')\n",
    "print(f'Jumlah Outlier Monthly Debt: {out_md} data ({per_md})%')\n",
    "\n",
    "# outliers berada pada monthly debt yang tinggi"
   ]
  },
  {
   "cell_type": "code",
   "execution_count": 81,
   "metadata": {
    "scrolled": true
   },
   "outputs": [
    {
     "data": {
      "text/plain": [
       "25003   435843\n",
       "77687   229058\n",
       "27289   173266\n",
       "96842   172156\n",
       "35707   165437\n",
       "Name: Monthly Debt, dtype: float64"
      ]
     },
     "execution_count": 81,
     "metadata": {},
     "output_type": "execute_result"
    }
   ],
   "source": [
    "df['Monthly Debt'].sort_values(ascending=False).head(5)\n",
    "\n",
    "# data max monthly debt mencurigakan karena jauh lebih tinggi dari dibawahnya"
   ]
  },
  {
   "cell_type": "code",
   "execution_count": 83,
   "metadata": {},
   "outputs": [],
   "source": [
    "df.drop(df.index[df['Monthly Debt'] == 435843], inplace = True)\n",
    "\n",
    "# drop data max monthly debt"
   ]
  },
  {
   "cell_type": "code",
   "execution_count": 88,
   "metadata": {
    "scrolled": true
   },
   "outputs": [
    {
     "name": "stdout",
     "output_type": "stream",
     "text": [
      "Lower Fence Number of Open Accounts: -1.0\n",
      "Upper Fence Number of Open Accounts: 23.0\n",
      "Jumlah Outlier Number of Open Accounts: 1484 data (2.194746805489825)%\n"
     ]
    }
   ],
   "source": [
    "# Mengidentifikasi outliers dalam kolom 'Number of Open Accounts'\n",
    "Q1_oa = df.describe()['Number of Open Accounts']['25%']\n",
    "Q3_oa = df.describe()['Number of Open Accounts']['75%']\n",
    "IQR_oa = Q3_oa - Q1_oa\n",
    "upper_fence_oa = Q3_oa + (1.5 * IQR_oa)\n",
    "lower_fence_oa = Q1_oa - (1.5 * IQR_oa)\n",
    "out_oa = len(df[df['Number of Open Accounts'] < lower_fence_oa]) + len(df[df['Number of Open Accounts'] > upper_fence_oa])\n",
    "per_oa = (out_oa / len(df)) * 100\n",
    "print(f'Lower Fence Number of Open Accounts: {lower_fence_oa}')\n",
    "print(f'Upper Fence Number of Open Accounts: {upper_fence_oa}')\n",
    "print(f'Jumlah Outlier Number of Open Accounts: {out_oa} data ({per_oa})%')\n",
    "\n",
    "# outliers berada pada number of open accounts yang tinggi"
   ]
  },
  {
   "cell_type": "code",
   "execution_count": 89,
   "metadata": {
    "scrolled": false
   },
   "outputs": [
    {
     "data": {
      "text/plain": [
       "96033   76\n",
       "19942   56\n",
       "71882   52\n",
       "97624   52\n",
       "77100   48\n",
       "Name: Number of Open Accounts, dtype: float64"
      ]
     },
     "execution_count": 89,
     "metadata": {},
     "output_type": "execute_result"
    }
   ],
   "source": [
    "df['Number of Open Accounts'].sort_values(ascending=False).head(5)\n",
    "\n",
    "# data max number of open accounts mencurigakan karena jauh lebih tinggi dari dibawahnya"
   ]
  },
  {
   "cell_type": "code",
   "execution_count": 90,
   "metadata": {},
   "outputs": [],
   "source": [
    "df.drop(df.index[df['Number of Open Accounts'] == 76], inplace = True)\n",
    "\n",
    "# drop data max number of open accounts"
   ]
  },
  {
   "cell_type": "code",
   "execution_count": 91,
   "metadata": {},
   "outputs": [],
   "source": [
    "df['Years in current job'] = df['Years in current job'].map({'< 1 year':0,'1 year': 1,'2 years':2,'3 years':3,'4 years':4,'5 years':5,\n",
    "                                                             '6 years':6,'7 years':7,'8 years':8,'9 years':9,'10+ years':10})"
   ]
  },
  {
   "cell_type": "code",
   "execution_count": 119,
   "metadata": {},
   "outputs": [],
   "source": [
    "df.to_csv('credit_clean.csv')"
   ]
  },
  {
   "cell_type": "code",
   "execution_count": 2,
   "metadata": {},
   "outputs": [],
   "source": [
    "df = pd.read_csv('credit_clean.csv')\n",
    "df.drop(['Unnamed: 0'],axis=1,inplace=True)"
   ]
  },
  {
   "cell_type": "markdown",
   "metadata": {},
   "source": [
    "## Data Analysis and Visualization"
   ]
  },
  {
   "cell_type": "markdown",
   "metadata": {},
   "source": [
    "### Univariate"
   ]
  },
  {
   "cell_type": "code",
   "execution_count": 62,
   "metadata": {},
   "outputs": [
    {
     "data": {
      "image/png": "[encoded data removed]",
      "text/plain": [
       "<Figure size 360x360 with 1 Axes>"
      ]
     },
     "metadata": {},
     "output_type": "display_data"
    }
   ],
   "source": [
    "plt.figure(figsize=(5,5))\n",
    "pie_ls = df['Loan Status'].value_counts()\n",
    "name = ['Fully Paid','Charged Off']\n",
    "colors = ['khaki','gold']\n",
    "explode = (0, 0.1)\n",
    "plt.pie(pie_ls, labels = name, autopct='%1.1f%%', startangle=15, shadow = True, colors=colors, explode=explode)\n",
    "plt.title('Loan Status')\n",
    "plt.axis('equal')\n",
    "plt.show()\n",
    "\n",
    "# 73,3% customer melunasi pinjamannya, 26,7% charged off"
   ]
  },
  {
   "cell_type": "code",
   "execution_count": 15,
   "metadata": {
    "scrolled": true
   },
   "outputs": [
    {
     "data": {
      "text/html": [
       "<div>\n",
       "<style scoped>\n",
       "    .dataframe tbody tr th:only-of-type {\n",
       "        vertical-align: middle;\n",
       "    }\n",
       "\n",
       "    .dataframe tbody tr th {\n",
       "        vertical-align: top;\n",
       "    }\n",
       "\n",
       "    .dataframe thead th {\n",
       "        text-align: right;\n",
       "    }\n",
       "</style>\n",
       "<table border=\"1\" class=\"dataframe\">\n",
       "  <thead>\n",
       "    <tr style=\"text-align: right;\">\n",
       "      <th></th>\n",
       "      <th>Loan Status</th>\n",
       "      <th>count</th>\n",
       "      <th>percent</th>\n",
       "    </tr>\n",
       "  </thead>\n",
       "  <tbody>\n",
       "    <tr>\n",
       "      <th>0</th>\n",
       "      <td>Fully Paid</td>\n",
       "      <td>49569</td>\n",
       "      <td>73.3</td>\n",
       "    </tr>\n",
       "    <tr>\n",
       "      <th>1</th>\n",
       "      <td>Charged Off</td>\n",
       "      <td>18046</td>\n",
       "      <td>26.7</td>\n",
       "    </tr>\n",
       "  </tbody>\n",
       "</table>\n",
       "</div>"
      ],
      "text/plain": [
       "   Loan Status  count  percent\n",
       "0   Fully Paid  49569     73.3\n",
       "1  Charged Off  18046     26.7"
      ]
     },
     "execution_count": 15,
     "metadata": {},
     "output_type": "execute_result"
    }
   ],
   "source": [
    "df.stb.freq(['Loan Status'], cum_cols = False)"
   ]
  },
  {
   "cell_type": "code",
   "execution_count": 63,
   "metadata": {
    "scrolled": true
   },
   "outputs": [
    {
     "data": {
      "image/png": "[encoded data removed]",
      "text/plain": [
       "<Figure size 360x360 with 1 Axes>"
      ]
     },
     "metadata": {},
     "output_type": "display_data"
    }
   ],
   "source": [
    "plt.figure(figsize=(5,5))\n",
    "pie_t = df['Term'].value_counts()\n",
    "name = ['Short Term','Long Term']\n",
    "colors = ['khaki','gold']\n",
    "explode = (0, 0.1)\n",
    "plt.pie(pie_t, labels = name, autopct='%1.1f%%', startangle=190, shadow = True, colors=colors, explode=explode)\n",
    "plt.title('Term')\n",
    "plt.axis('equal')\n",
    "plt.show()\n",
    "\n",
    "# 74,4% pinjaman customer berjangka pendek, 25,6% berjangka panjang"
   ]
  },
  {
   "cell_type": "code",
   "execution_count": 17,
   "metadata": {
    "scrolled": false
   },
   "outputs": [
    {
     "data": {
      "text/html": [
       "<div>\n",
       "<style scoped>\n",
       "    .dataframe tbody tr th:only-of-type {\n",
       "        vertical-align: middle;\n",
       "    }\n",
       "\n",
       "    .dataframe tbody tr th {\n",
       "        vertical-align: top;\n",
       "    }\n",
       "\n",
       "    .dataframe thead th {\n",
       "        text-align: right;\n",
       "    }\n",
       "</style>\n",
       "<table border=\"1\" class=\"dataframe\">\n",
       "  <thead>\n",
       "    <tr style=\"text-align: right;\">\n",
       "      <th></th>\n",
       "      <th>Term</th>\n",
       "      <th>count</th>\n",
       "      <th>percent</th>\n",
       "    </tr>\n",
       "  </thead>\n",
       "  <tbody>\n",
       "    <tr>\n",
       "      <th>0</th>\n",
       "      <td>Short Term</td>\n",
       "      <td>50329</td>\n",
       "      <td>74.4</td>\n",
       "    </tr>\n",
       "    <tr>\n",
       "      <th>1</th>\n",
       "      <td>Long Term</td>\n",
       "      <td>17286</td>\n",
       "      <td>25.6</td>\n",
       "    </tr>\n",
       "  </tbody>\n",
       "</table>\n",
       "</div>"
      ],
      "text/plain": [
       "         Term  count  percent\n",
       "0  Short Term  50329     74.4\n",
       "1   Long Term  17286     25.6"
      ]
     },
     "execution_count": 17,
     "metadata": {},
     "output_type": "execute_result"
    }
   ],
   "source": [
    "df.stb.freq(['Term'], cum_cols = False)"
   ]
  },
  {
   "cell_type": "code",
   "execution_count": 4,
   "metadata": {},
   "outputs": [],
   "source": [
    "# mengkategorikan credit score berdasarkan FICO score rating range untuk melihat perbandingan tiap kategori\n",
    "bins = [580,670,740,800]\n",
    "label = ['fair','good','very good']\n",
    "df['credit score rating']=pd.cut(df['Credit Score'],bins=bins,labels=label)"
   ]
  },
  {
   "cell_type": "code",
   "execution_count": 5,
   "metadata": {},
   "outputs": [
    {
     "data": {
      "image/png": "[encoded data removed]",
      "text/plain": [
       "<Figure size 360x360 with 1 Axes>"
      ]
     },
     "metadata": {},
     "output_type": "display_data"
    }
   ],
   "source": [
    "plt.figure(figsize=(5,5))\n",
    "pie_cs = df['credit score rating'].value_counts()\n",
    "name = ['Good (670-739)','Very Good (740-799)','Fair (580-669)']\n",
    "colors = ['lightblue','lightsteelblue','silver']\n",
    "explode = (0, 0.1, 0.1)\n",
    "plt.pie(pie_cs, labels = name, autopct='%1.1f%%', startangle=70, shadow = True, colors=colors, explode=explode)\n",
    "plt.title('Credit Score')\n",
    "plt.axis('equal')\n",
    "plt.show()\n",
    "\n",
    "# kebanyakan credit score customer berada dalam kategori good(76,5%), paling sedikit kategori fair(5,3%)"
   ]
  },
  {
   "cell_type": "code",
   "execution_count": 43,
   "metadata": {
    "scrolled": false
   },
   "outputs": [
    {
     "data": {
      "text/html": [
       "<div>\n",
       "<style scoped>\n",
       "    .dataframe tbody tr th:only-of-type {\n",
       "        vertical-align: middle;\n",
       "    }\n",
       "\n",
       "    .dataframe tbody tr th {\n",
       "        vertical-align: top;\n",
       "    }\n",
       "\n",
       "    .dataframe thead th {\n",
       "        text-align: right;\n",
       "    }\n",
       "</style>\n",
       "<table border=\"1\" class=\"dataframe\">\n",
       "  <thead>\n",
       "    <tr style=\"text-align: right;\">\n",
       "      <th></th>\n",
       "      <th>credit score rating</th>\n",
       "      <th>count</th>\n",
       "      <th>percent</th>\n",
       "    </tr>\n",
       "  </thead>\n",
       "  <tbody>\n",
       "    <tr>\n",
       "      <th>0</th>\n",
       "      <td>good</td>\n",
       "      <td>51732</td>\n",
       "      <td>76.5</td>\n",
       "    </tr>\n",
       "    <tr>\n",
       "      <th>1</th>\n",
       "      <td>very good</td>\n",
       "      <td>12293</td>\n",
       "      <td>18.2</td>\n",
       "    </tr>\n",
       "    <tr>\n",
       "      <th>2</th>\n",
       "      <td>fair</td>\n",
       "      <td>3590</td>\n",
       "      <td>5.3</td>\n",
       "    </tr>\n",
       "  </tbody>\n",
       "</table>\n",
       "</div>"
      ],
      "text/plain": [
       "  credit score rating  count  percent\n",
       "0                good  51732     76.5\n",
       "1           very good  12293     18.2\n",
       "2                fair   3590      5.3"
      ]
     },
     "execution_count": 43,
     "metadata": {},
     "output_type": "execute_result"
    }
   ],
   "source": [
    "df.stb.freq(['credit score rating'], cum_cols = False)"
   ]
  },
  {
   "cell_type": "code",
   "execution_count": 76,
   "metadata": {
    "scrolled": true
   },
   "outputs": [
    {
     "data": {
      "image/png": "[encoded data removed]",
      "text/plain": [
       "<Figure size 360x360 with 1 Axes>"
      ]
     },
     "metadata": {},
     "output_type": "display_data"
    }
   ],
   "source": [
    "plt.figure(figsize=(5,5))\n",
    "pie_ho = df['Home Ownership'].value_counts()\n",
    "name = ['Home Mortgage','Rent','Own Home']\n",
    "colors = ['lightblue','lightsteelblue','silver']\n",
    "explode = (0, 0, 0.1)\n",
    "plt.pie(pie_ho, labels = name, autopct='%1.1f%%', startangle=50, shadow = True, colors=colors, explode=explode)\n",
    "plt.title('Home Ownership')\n",
    "plt.axis('equal')\n",
    "plt.show()\n",
    "\n",
    "# hanya 9,1% customer yang memiliki rumah, 42% masih menyewa rumah dan 48,9% menjaminkan rumahnya"
   ]
  },
  {
   "cell_type": "code",
   "execution_count": 72,
   "metadata": {},
   "outputs": [
    {
     "data": {
      "text/html": [
       "<div>\n",
       "<style scoped>\n",
       "    .dataframe tbody tr th:only-of-type {\n",
       "        vertical-align: middle;\n",
       "    }\n",
       "\n",
       "    .dataframe tbody tr th {\n",
       "        vertical-align: top;\n",
       "    }\n",
       "\n",
       "    .dataframe thead th {\n",
       "        text-align: right;\n",
       "    }\n",
       "</style>\n",
       "<table border=\"1\" class=\"dataframe\">\n",
       "  <thead>\n",
       "    <tr style=\"text-align: right;\">\n",
       "      <th></th>\n",
       "      <th>Home Ownership</th>\n",
       "      <th>count</th>\n",
       "      <th>percent</th>\n",
       "    </tr>\n",
       "  </thead>\n",
       "  <tbody>\n",
       "    <tr>\n",
       "      <th>0</th>\n",
       "      <td>Home Mortgage</td>\n",
       "      <td>33046</td>\n",
       "      <td>48.9</td>\n",
       "    </tr>\n",
       "    <tr>\n",
       "      <th>1</th>\n",
       "      <td>Rent</td>\n",
       "      <td>28416</td>\n",
       "      <td>42.0</td>\n",
       "    </tr>\n",
       "    <tr>\n",
       "      <th>2</th>\n",
       "      <td>Own Home</td>\n",
       "      <td>6153</td>\n",
       "      <td>9.1</td>\n",
       "    </tr>\n",
       "  </tbody>\n",
       "</table>\n",
       "</div>"
      ],
      "text/plain": [
       "  Home Ownership  count  percent\n",
       "0  Home Mortgage  33046     48.9\n",
       "1           Rent  28416     42.0\n",
       "2       Own Home   6153      9.1"
      ]
     },
     "execution_count": 72,
     "metadata": {},
     "output_type": "execute_result"
    }
   ],
   "source": [
    "df.stb.freq(['Home Ownership'], cum_cols = False)"
   ]
  },
  {
   "cell_type": "code",
   "execution_count": 79,
   "metadata": {
    "scrolled": false
   },
   "outputs": [
    {
     "data": {
      "image/png": "[encoded data removed]",
      "text/plain": [
       "<Figure size 720x360 with 1 Axes>"
      ]
     },
     "metadata": {},
     "output_type": "display_data"
    }
   ],
   "source": [
    "plt.figure(figsize = (10,5))\n",
    "sns.distplot(df['Current Loan Amount'], color = 'skyblue')\n",
    "plt.style.use('seaborn-whitegrid')\n",
    "plt.title(\"Loan Amount Distribution\")\n",
    "plt.show()\n",
    "\n",
    "# loan amount terbanyak bada kisaran 200 ribu"
   ]
  },
  {
   "cell_type": "code",
   "execution_count": 63,
   "metadata": {
    "scrolled": false
   },
   "outputs": [
    {
     "data": {
      "text/plain": [
       "count    67615\n",
       "mean    306791\n",
       "std     182095\n",
       "min      15422\n",
       "25%     171105\n",
       "50%     264814\n",
       "75%     426569\n",
       "max     789250\n",
       "Name: Current Loan Amount, dtype: float64"
      ]
     },
     "execution_count": 63,
     "metadata": {},
     "output_type": "execute_result"
    }
   ],
   "source": [
    "df['Current Loan Amount'].describe()"
   ]
  },
  {
   "cell_type": "code",
   "execution_count": 65,
   "metadata": {},
   "outputs": [],
   "source": [
    "bins = [0,50000,100000,250000,500000,1000000]\n",
    "label = ['< 50k','50 - 100k','100 - 250k','250 - 500k','500k +']\n",
    "df['loan amount bin']=pd.cut(df['Current Loan Amount'],bins=bins,labels=label)\n",
    "\n",
    "# mengkategorikan loan amount untuk analisa tiap range loan amount"
   ]
  },
  {
   "cell_type": "code",
   "execution_count": 87,
   "metadata": {},
   "outputs": [
    {
     "data": {
      "image/png": "[encoded data removed]",
      "text/plain": [
       "<Figure size 720x360 with 1 Axes>"
      ]
     },
     "metadata": {},
     "output_type": "display_data"
    }
   ],
   "source": [
    "plt.figure(figsize = (10,5))\n",
    "sns.countplot(x = df['loan amount bin'], palette = 'rocket_r')\n",
    "plt.show()"
   ]
  },
  {
   "cell_type": "code",
   "execution_count": 66,
   "metadata": {},
   "outputs": [
    {
     "data": {
      "text/html": [
       "<div>\n",
       "<style scoped>\n",
       "    .dataframe tbody tr th:only-of-type {\n",
       "        vertical-align: middle;\n",
       "    }\n",
       "\n",
       "    .dataframe tbody tr th {\n",
       "        vertical-align: top;\n",
       "    }\n",
       "\n",
       "    .dataframe thead th {\n",
       "        text-align: right;\n",
       "    }\n",
       "</style>\n",
       "<table border=\"1\" class=\"dataframe\">\n",
       "  <thead>\n",
       "    <tr style=\"text-align: right;\">\n",
       "      <th></th>\n",
       "      <th>loan amount bin</th>\n",
       "      <th>count</th>\n",
       "      <th>percent</th>\n",
       "    </tr>\n",
       "  </thead>\n",
       "  <tbody>\n",
       "    <tr>\n",
       "      <th>0</th>\n",
       "      <td>250 - 500k</td>\n",
       "      <td>25958</td>\n",
       "      <td>38</td>\n",
       "    </tr>\n",
       "    <tr>\n",
       "      <th>1</th>\n",
       "      <td>100 - 250k</td>\n",
       "      <td>24840</td>\n",
       "      <td>37</td>\n",
       "    </tr>\n",
       "    <tr>\n",
       "      <th>2</th>\n",
       "      <td>500k +</td>\n",
       "      <td>10683</td>\n",
       "      <td>16</td>\n",
       "    </tr>\n",
       "    <tr>\n",
       "      <th>3</th>\n",
       "      <td>50 - 100k</td>\n",
       "      <td>4631</td>\n",
       "      <td>7</td>\n",
       "    </tr>\n",
       "    <tr>\n",
       "      <th>4</th>\n",
       "      <td>&lt; 50k</td>\n",
       "      <td>1503</td>\n",
       "      <td>2</td>\n",
       "    </tr>\n",
       "  </tbody>\n",
       "</table>\n",
       "</div>"
      ],
      "text/plain": [
       "  loan amount bin  count  percent\n",
       "0      250 - 500k  25958       38\n",
       "1      100 - 250k  24840       37\n",
       "2          500k +  10683       16\n",
       "3       50 - 100k   4631        7\n",
       "4           < 50k   1503        2"
      ]
     },
     "execution_count": 66,
     "metadata": {},
     "output_type": "execute_result"
    }
   ],
   "source": [
    "df.stb.freq(['loan amount bin'], cum_cols = False)\n",
    "\n",
    "# loan amount peminjam terbanyak pada kisaran 100-500 ribu"
   ]
  },
  {
   "cell_type": "code",
   "execution_count": 78,
   "metadata": {
    "scrolled": false
   },
   "outputs": [
    {
     "data": {
      "image/png": "[encoded data removed]",
      "text/plain": [
       "<Figure size 720x360 with 1 Axes>"
      ]
     },
     "metadata": {},
     "output_type": "display_data"
    }
   ],
   "source": [
    "plt.figure(figsize = (10,5))\n",
    "sns.distplot(df['Annual Income'], color = 'skyblue')\n",
    "plt.style.use('seaborn-whitegrid')\n",
    "plt.title('Annual Income Distribution')\n",
    "plt.show()\n",
    "\n",
    "# annual income customer tidak terdistribusi merata, terbanyak di kisaran 1 juta"
   ]
  },
  {
   "cell_type": "code",
   "execution_count": 53,
   "metadata": {
    "scrolled": false
   },
   "outputs": [
    {
     "data": {
      "text/plain": [
       "count      67615\n",
       "mean     1323803\n",
       "std       785884\n",
       "min        76627\n",
       "25%       953030\n",
       "50%      1172718\n",
       "75%      1457775\n",
       "max     28095300\n",
       "Name: Annual Income, dtype: float64"
      ]
     },
     "execution_count": 53,
     "metadata": {},
     "output_type": "execute_result"
    }
   ],
   "source": [
    "df['Annual Income'].describe()"
   ]
  },
  {
   "cell_type": "code",
   "execution_count": 58,
   "metadata": {},
   "outputs": [],
   "source": [
    "bins = [0,500000,1000000,1500000,2000000,30000000]\n",
    "label = ['< 0.5m','0.5 - 1m','1 - 1.5m','1.5 - 2m','2m +']\n",
    "df['income bin']=pd.cut(df['Annual Income'],bins=bins,labels=label)\n",
    "\n",
    "# mengkategorikan annual income untuk analisa tiap range income"
   ]
  },
  {
   "cell_type": "code",
   "execution_count": 86,
   "metadata": {},
   "outputs": [
    {
     "data": {
      "image/png": "[encoded data removed]",
      "text/plain": [
       "<Figure size 720x360 with 1 Axes>"
      ]
     },
     "metadata": {},
     "output_type": "display_data"
    }
   ],
   "source": [
    "plt.figure(figsize = (10,5))\n",
    "sns.countplot(x = df['income bin'], palette = 'rocket_r')\n",
    "plt.show()"
   ]
  },
  {
   "cell_type": "code",
   "execution_count": 59,
   "metadata": {
    "scrolled": true
   },
   "outputs": [
    {
     "data": {
      "text/html": [
       "<div>\n",
       "<style scoped>\n",
       "    .dataframe tbody tr th:only-of-type {\n",
       "        vertical-align: middle;\n",
       "    }\n",
       "\n",
       "    .dataframe tbody tr th {\n",
       "        vertical-align: top;\n",
       "    }\n",
       "\n",
       "    .dataframe thead th {\n",
       "        text-align: right;\n",
       "    }\n",
       "</style>\n",
       "<table border=\"1\" class=\"dataframe\">\n",
       "  <thead>\n",
       "    <tr style=\"text-align: right;\">\n",
       "      <th></th>\n",
       "      <th>income bin</th>\n",
       "      <th>count</th>\n",
       "      <th>percent</th>\n",
       "    </tr>\n",
       "  </thead>\n",
       "  <tbody>\n",
       "    <tr>\n",
       "      <th>0</th>\n",
       "      <td>1 - 1.5m</td>\n",
       "      <td>32816</td>\n",
       "      <td>49</td>\n",
       "    </tr>\n",
       "    <tr>\n",
       "      <th>1</th>\n",
       "      <td>0.5 - 1m</td>\n",
       "      <td>16533</td>\n",
       "      <td>24</td>\n",
       "    </tr>\n",
       "    <tr>\n",
       "      <th>2</th>\n",
       "      <td>1.5 - 2m</td>\n",
       "      <td>8594</td>\n",
       "      <td>13</td>\n",
       "    </tr>\n",
       "    <tr>\n",
       "      <th>3</th>\n",
       "      <td>2m +</td>\n",
       "      <td>7402</td>\n",
       "      <td>11</td>\n",
       "    </tr>\n",
       "    <tr>\n",
       "      <th>4</th>\n",
       "      <td>&lt; 0.5m</td>\n",
       "      <td>2270</td>\n",
       "      <td>3</td>\n",
       "    </tr>\n",
       "  </tbody>\n",
       "</table>\n",
       "</div>"
      ],
      "text/plain": [
       "  income bin  count  percent\n",
       "0   1 - 1.5m  32816       49\n",
       "1   0.5 - 1m  16533       24\n",
       "2   1.5 - 2m   8594       13\n",
       "3       2m +   7402       11\n",
       "4     < 0.5m   2270        3"
      ]
     },
     "execution_count": 59,
     "metadata": {},
     "output_type": "execute_result"
    }
   ],
   "source": [
    "df.stb.freq(['income bin'], cum_cols = False)\n",
    "\n",
    "# hampir setengah (49%) annual income peminjam di kisaran 1-1,5 juta"
   ]
  },
  {
   "cell_type": "code",
   "execution_count": 80,
   "metadata": {
    "scrolled": false
   },
   "outputs": [
    {
     "data": {
      "image/png": "[encoded data removed]",
      "text/plain": [
       "<Figure size 720x360 with 1 Axes>"
      ]
     },
     "metadata": {},
     "output_type": "display_data"
    }
   ],
   "source": [
    "plt.figure(figsize=(10,5))\n",
    "plt.style.use('seaborn-whitegrid')\n",
    "sns.countplot(df['Years in current job'], palette = 'mako')\n",
    "plt.title('Years in Current Job')\n",
    "plt.show()\n",
    "\n",
    "# lama tahun pekerjaan customer didominasi 10 tahun keatas (35%)"
   ]
  },
  {
   "cell_type": "code",
   "execution_count": 100,
   "metadata": {
    "scrolled": true
   },
   "outputs": [
    {
     "data": {
      "text/html": [
       "<div>\n",
       "<style scoped>\n",
       "    .dataframe tbody tr th:only-of-type {\n",
       "        vertical-align: middle;\n",
       "    }\n",
       "\n",
       "    .dataframe tbody tr th {\n",
       "        vertical-align: top;\n",
       "    }\n",
       "\n",
       "    .dataframe thead th {\n",
       "        text-align: right;\n",
       "    }\n",
       "</style>\n",
       "<table border=\"1\" class=\"dataframe\">\n",
       "  <thead>\n",
       "    <tr style=\"text-align: right;\">\n",
       "      <th></th>\n",
       "      <th>Years in current job</th>\n",
       "      <th>count</th>\n",
       "      <th>percent</th>\n",
       "    </tr>\n",
       "  </thead>\n",
       "  <tbody>\n",
       "    <tr>\n",
       "      <th>0</th>\n",
       "      <td>10</td>\n",
       "      <td>23778</td>\n",
       "      <td>35.2</td>\n",
       "    </tr>\n",
       "    <tr>\n",
       "      <th>1</th>\n",
       "      <td>2</td>\n",
       "      <td>6183</td>\n",
       "      <td>9.1</td>\n",
       "    </tr>\n",
       "    <tr>\n",
       "      <th>2</th>\n",
       "      <td>0</td>\n",
       "      <td>5556</td>\n",
       "      <td>8.2</td>\n",
       "    </tr>\n",
       "    <tr>\n",
       "      <th>3</th>\n",
       "      <td>3</td>\n",
       "      <td>5507</td>\n",
       "      <td>8.1</td>\n",
       "    </tr>\n",
       "    <tr>\n",
       "      <th>4</th>\n",
       "      <td>5</td>\n",
       "      <td>4650</td>\n",
       "      <td>6.9</td>\n",
       "    </tr>\n",
       "    <tr>\n",
       "      <th>5</th>\n",
       "      <td>1</td>\n",
       "      <td>4343</td>\n",
       "      <td>6.4</td>\n",
       "    </tr>\n",
       "    <tr>\n",
       "      <th>6</th>\n",
       "      <td>4</td>\n",
       "      <td>4174</td>\n",
       "      <td>6.2</td>\n",
       "    </tr>\n",
       "    <tr>\n",
       "      <th>7</th>\n",
       "      <td>6</td>\n",
       "      <td>3848</td>\n",
       "      <td>5.7</td>\n",
       "    </tr>\n",
       "    <tr>\n",
       "      <th>8</th>\n",
       "      <td>7</td>\n",
       "      <td>3755</td>\n",
       "      <td>5.6</td>\n",
       "    </tr>\n",
       "    <tr>\n",
       "      <th>9</th>\n",
       "      <td>8</td>\n",
       "      <td>3157</td>\n",
       "      <td>4.7</td>\n",
       "    </tr>\n",
       "    <tr>\n",
       "      <th>10</th>\n",
       "      <td>9</td>\n",
       "      <td>2664</td>\n",
       "      <td>3.9</td>\n",
       "    </tr>\n",
       "  </tbody>\n",
       "</table>\n",
       "</div>"
      ],
      "text/plain": [
       "    Years in current job  count  percent\n",
       "0                     10  23778     35.2\n",
       "1                      2   6183      9.1\n",
       "2                      0   5556      8.2\n",
       "3                      3   5507      8.1\n",
       "4                      5   4650      6.9\n",
       "5                      1   4343      6.4\n",
       "6                      4   4174      6.2\n",
       "7                      6   3848      5.7\n",
       "8                      7   3755      5.6\n",
       "9                      8   3157      4.7\n",
       "10                     9   2664      3.9"
      ]
     },
     "execution_count": 100,
     "metadata": {},
     "output_type": "execute_result"
    }
   ],
   "source": [
    "df.stb.freq(['Years in current job'], cum_cols = False)"
   ]
  },
  {
   "cell_type": "code",
   "execution_count": 116,
   "metadata": {
    "scrolled": true
   },
   "outputs": [
    {
     "data": {
      "image/png": "[encoded data removed]",
      "text/plain": [
       "<Figure size 1440x360 with 1 Axes>"
      ]
     },
     "metadata": {},
     "output_type": "display_data"
    }
   ],
   "source": [
    "plt.figure(figsize=(20,5))\n",
    "plt.style.use('seaborn-whitegrid')\n",
    "sns.countplot(y=df['Purpose'], orient = 'v', palette = 'rocket_r')\n",
    "plt.title('Purpose of Loan')\n",
    "plt.show()\n",
    "\n",
    "# kebanyakan tujuan dari pinjaman adalah untuk konsolidasi hutang (79,1%)"
   ]
  },
  {
   "cell_type": "code",
   "execution_count": 117,
   "metadata": {
    "scrolled": false
   },
   "outputs": [
    {
     "data": {
      "text/html": [
       "<div>\n",
       "<style scoped>\n",
       "    .dataframe tbody tr th:only-of-type {\n",
       "        vertical-align: middle;\n",
       "    }\n",
       "\n",
       "    .dataframe tbody tr th {\n",
       "        vertical-align: top;\n",
       "    }\n",
       "\n",
       "    .dataframe thead th {\n",
       "        text-align: right;\n",
       "    }\n",
       "</style>\n",
       "<table border=\"1\" class=\"dataframe\">\n",
       "  <thead>\n",
       "    <tr style=\"text-align: right;\">\n",
       "      <th></th>\n",
       "      <th>Purpose</th>\n",
       "      <th>count</th>\n",
       "      <th>percent</th>\n",
       "    </tr>\n",
       "  </thead>\n",
       "  <tbody>\n",
       "    <tr>\n",
       "      <th>0</th>\n",
       "      <td>Debt Consolidation</td>\n",
       "      <td>53473</td>\n",
       "      <td>79.1</td>\n",
       "    </tr>\n",
       "    <tr>\n",
       "      <th>1</th>\n",
       "      <td>Other</td>\n",
       "      <td>6045</td>\n",
       "      <td>8.9</td>\n",
       "    </tr>\n",
       "    <tr>\n",
       "      <th>2</th>\n",
       "      <td>Home Improvements</td>\n",
       "      <td>3944</td>\n",
       "      <td>5.8</td>\n",
       "    </tr>\n",
       "    <tr>\n",
       "      <th>3</th>\n",
       "      <td>Business Loan</td>\n",
       "      <td>1220</td>\n",
       "      <td>1.8</td>\n",
       "    </tr>\n",
       "    <tr>\n",
       "      <th>4</th>\n",
       "      <td>Buy a Car</td>\n",
       "      <td>871</td>\n",
       "      <td>1.3</td>\n",
       "    </tr>\n",
       "    <tr>\n",
       "      <th>5</th>\n",
       "      <td>Medical Bills</td>\n",
       "      <td>719</td>\n",
       "      <td>1.1</td>\n",
       "    </tr>\n",
       "    <tr>\n",
       "      <th>6</th>\n",
       "      <td>Buy House</td>\n",
       "      <td>431</td>\n",
       "      <td>0.6</td>\n",
       "    </tr>\n",
       "    <tr>\n",
       "      <th>7</th>\n",
       "      <td>vacation</td>\n",
       "      <td>429</td>\n",
       "      <td>0.6</td>\n",
       "    </tr>\n",
       "    <tr>\n",
       "      <th>8</th>\n",
       "      <td>major_purchase</td>\n",
       "      <td>247</td>\n",
       "      <td>0.4</td>\n",
       "    </tr>\n",
       "    <tr>\n",
       "      <th>9</th>\n",
       "      <td>moving</td>\n",
       "      <td>93</td>\n",
       "      <td>0.1</td>\n",
       "    </tr>\n",
       "    <tr>\n",
       "      <th>10</th>\n",
       "      <td>wedding</td>\n",
       "      <td>73</td>\n",
       "      <td>0.1</td>\n",
       "    </tr>\n",
       "    <tr>\n",
       "      <th>11</th>\n",
       "      <td>Educational Expenses</td>\n",
       "      <td>63</td>\n",
       "      <td>0.1</td>\n",
       "    </tr>\n",
       "    <tr>\n",
       "      <th>12</th>\n",
       "      <td>renewable_energy</td>\n",
       "      <td>7</td>\n",
       "      <td>0.0</td>\n",
       "    </tr>\n",
       "  </tbody>\n",
       "</table>\n",
       "</div>"
      ],
      "text/plain": [
       "                 Purpose  count  percent\n",
       "0     Debt Consolidation  53473     79.1\n",
       "1                  Other   6045      8.9\n",
       "2      Home Improvements   3944      5.8\n",
       "3          Business Loan   1220      1.8\n",
       "4              Buy a Car    871      1.3\n",
       "5          Medical Bills    719      1.1\n",
       "6              Buy House    431      0.6\n",
       "7               vacation    429      0.6\n",
       "8         major_purchase    247      0.4\n",
       "9                 moving     93      0.1\n",
       "10               wedding     73      0.1\n",
       "11  Educational Expenses     63      0.1\n",
       "12      renewable_energy      7      0.0"
      ]
     },
     "execution_count": 117,
     "metadata": {},
     "output_type": "execute_result"
    }
   ],
   "source": [
    "df.stb.freq(['Purpose'], cum_cols = False)"
   ]
  },
  {
   "cell_type": "code",
   "execution_count": 77,
   "metadata": {
    "scrolled": false
   },
   "outputs": [
    {
     "data": {
      "image/png": "[encoded data removed]",
      "text/plain": [
       "<Figure size 720x360 with 1 Axes>"
      ]
     },
     "metadata": {},
     "output_type": "display_data"
    }
   ],
   "source": [
    "plt.figure(figsize = (10,5))\n",
    "sns.distplot(df['Monthly Debt'], color = 'darkseagreen')\n",
    "plt.style.use('seaborn-whitegrid')\n",
    "plt.title('Monthly Debt Distribution')\n",
    "plt.show()\n",
    "\n",
    "# monthly debt customer tidak terdistribusi merata, terbanyak pada kisaran 10-20 ribu"
   ]
  },
  {
   "cell_type": "code",
   "execution_count": 76,
   "metadata": {},
   "outputs": [
    {
     "data": {
      "image/png": "[encoded data removed]",
      "text/plain": [
       "<Figure size 720x360 with 1 Axes>"
      ]
     },
     "metadata": {},
     "output_type": "display_data"
    }
   ],
   "source": [
    "plt.figure(figsize = (10,5))\n",
    "sns.distplot(df['Years of Credit History'], color = 'darkseagreen')\n",
    "plt.style.use('seaborn-whitegrid')\n",
    "plt.title('Years of Credit History Distribution')\n",
    "plt.show()\n",
    "\n",
    "# riwayat kredit customer terbanyak sekitar 15 tahun"
   ]
  },
  {
   "cell_type": "code",
   "execution_count": 85,
   "metadata": {},
   "outputs": [
    {
     "data": {
      "text/plain": [
       "count   67615\n",
       "mean       18\n",
       "std         7\n",
       "min         4\n",
       "25%        14\n",
       "50%        17\n",
       "75%        22\n",
       "max        70\n",
       "Name: Years of Credit History, dtype: float64"
      ]
     },
     "execution_count": 85,
     "metadata": {},
     "output_type": "execute_result"
    }
   ],
   "source": [
    "df['Years of Credit History'].describe()"
   ]
  },
  {
   "cell_type": "code",
   "execution_count": 69,
   "metadata": {},
   "outputs": [],
   "source": [
    "bins = [0,5,10,15,20,100]\n",
    "label = ['< 5','5 - 9','10 - 14','15 - 19','20 +']\n",
    "df['credit history bin']=pd.cut(df['Years of Credit History'],bins=bins,labels=label)\n",
    "\n",
    "# mengkategorikan years of credit history untuk analisa tiap range credit history"
   ]
  },
  {
   "cell_type": "code",
   "execution_count": 83,
   "metadata": {},
   "outputs": [
    {
     "data": {
      "image/png": "[encoded data removed]",
      "text/plain": [
       "<Figure size 720x360 with 1 Axes>"
      ]
     },
     "metadata": {},
     "output_type": "display_data"
    }
   ],
   "source": [
    "plt.figure(figsize = (10,5))\n",
    "sns.countplot(x = df['credit history bin'], palette = 'rocket_r')\n",
    "plt.show()"
   ]
  },
  {
   "cell_type": "code",
   "execution_count": 70,
   "metadata": {
    "scrolled": true
   },
   "outputs": [
    {
     "data": {
      "text/html": [
       "<div>\n",
       "<style scoped>\n",
       "    .dataframe tbody tr th:only-of-type {\n",
       "        vertical-align: middle;\n",
       "    }\n",
       "\n",
       "    .dataframe tbody tr th {\n",
       "        vertical-align: top;\n",
       "    }\n",
       "\n",
       "    .dataframe thead th {\n",
       "        text-align: right;\n",
       "    }\n",
       "</style>\n",
       "<table border=\"1\" class=\"dataframe\">\n",
       "  <thead>\n",
       "    <tr style=\"text-align: right;\">\n",
       "      <th></th>\n",
       "      <th>credit history bin</th>\n",
       "      <th>count</th>\n",
       "      <th>percent</th>\n",
       "    </tr>\n",
       "  </thead>\n",
       "  <tbody>\n",
       "    <tr>\n",
       "      <th>0</th>\n",
       "      <td>20 +</td>\n",
       "      <td>21969</td>\n",
       "      <td>32</td>\n",
       "    </tr>\n",
       "    <tr>\n",
       "      <th>1</th>\n",
       "      <td>15 - 19</td>\n",
       "      <td>21403</td>\n",
       "      <td>32</td>\n",
       "    </tr>\n",
       "    <tr>\n",
       "      <th>2</th>\n",
       "      <td>10 - 14</td>\n",
       "      <td>18270</td>\n",
       "      <td>27</td>\n",
       "    </tr>\n",
       "    <tr>\n",
       "      <th>3</th>\n",
       "      <td>5 - 9</td>\n",
       "      <td>5815</td>\n",
       "      <td>9</td>\n",
       "    </tr>\n",
       "    <tr>\n",
       "      <th>4</th>\n",
       "      <td>&lt; 5</td>\n",
       "      <td>158</td>\n",
       "      <td>0</td>\n",
       "    </tr>\n",
       "  </tbody>\n",
       "</table>\n",
       "</div>"
      ],
      "text/plain": [
       "  credit history bin  count  percent\n",
       "0               20 +  21969       32\n",
       "1            15 - 19  21403       32\n",
       "2            10 - 14  18270       27\n",
       "3              5 - 9   5815        9\n",
       "4                < 5    158        0"
      ]
     },
     "execution_count": 70,
     "metadata": {},
     "output_type": "execute_result"
    }
   ],
   "source": [
    "df.stb.freq(['credit history bin'], cum_cols = False)\n",
    "\n",
    "# mayoritas peminjam memiliki riwayat kredit diatas 15 tahun"
   ]
  },
  {
   "cell_type": "code",
   "execution_count": 81,
   "metadata": {},
   "outputs": [
    {
     "data": {
      "image/png": "[encoded data removed]",
      "text/plain": [
       "<Figure size 720x360 with 1 Axes>"
      ]
     },
     "metadata": {},
     "output_type": "display_data"
    }
   ],
   "source": [
    "plt.figure(figsize = (10,5))\n",
    "sns.distplot(df['Number of Open Accounts'], color = 'darkseagreen')\n",
    "plt.style.use('seaborn-whitegrid')\n",
    "plt.title('Open Accounts Distribution')\n",
    "plt.show()\n",
    "\n",
    "# jumlah akun customer terbanyak sekitar 10 akun"
   ]
  },
  {
   "cell_type": "code",
   "execution_count": 85,
   "metadata": {
    "scrolled": false
   },
   "outputs": [
    {
     "data": {
      "image/png": "[encoded data removed]",
      "text/plain": [
       "<Figure size 360x360 with 1 Axes>"
      ]
     },
     "metadata": {},
     "output_type": "display_data"
    }
   ],
   "source": [
    "plt.figure(figsize=(5,5))\n",
    "pie_cp = df['Credit Problems'].value_counts()\n",
    "name = ['No','Yes']\n",
    "colors = ['aquamarine','palegreen']\n",
    "explode = (0, 0.1)\n",
    "plt.pie(pie_cp, labels = name, autopct='%1.1f%%', startangle=150, shadow = True, colors=colors, explode=explode)\n",
    "plt.title('Credit Problem')\n",
    "plt.axis('equal')\n",
    "plt.show()\n",
    "\n",
    "# hanya 13,5% customer yang memiliki masalah kredit, 86,5% tidak"
   ]
  },
  {
   "cell_type": "code",
   "execution_count": 80,
   "metadata": {
    "scrolled": true
   },
   "outputs": [
    {
     "data": {
      "text/html": [
       "<div>\n",
       "<style scoped>\n",
       "    .dataframe tbody tr th:only-of-type {\n",
       "        vertical-align: middle;\n",
       "    }\n",
       "\n",
       "    .dataframe tbody tr th {\n",
       "        vertical-align: top;\n",
       "    }\n",
       "\n",
       "    .dataframe thead th {\n",
       "        text-align: right;\n",
       "    }\n",
       "</style>\n",
       "<table border=\"1\" class=\"dataframe\">\n",
       "  <thead>\n",
       "    <tr style=\"text-align: right;\">\n",
       "      <th></th>\n",
       "      <th>Credit Problems</th>\n",
       "      <th>count</th>\n",
       "      <th>percent</th>\n",
       "    </tr>\n",
       "  </thead>\n",
       "  <tbody>\n",
       "    <tr>\n",
       "      <th>0</th>\n",
       "      <td>0</td>\n",
       "      <td>58506</td>\n",
       "      <td>86.5</td>\n",
       "    </tr>\n",
       "    <tr>\n",
       "      <th>1</th>\n",
       "      <td>1</td>\n",
       "      <td>9109</td>\n",
       "      <td>13.5</td>\n",
       "    </tr>\n",
       "  </tbody>\n",
       "</table>\n",
       "</div>"
      ],
      "text/plain": [
       "   Credit Problems  count  percent\n",
       "0                0  58506     86.5\n",
       "1                1   9109     13.5"
      ]
     },
     "execution_count": 80,
     "metadata": {},
     "output_type": "execute_result"
    }
   ],
   "source": [
    "df.stb.freq(['Credit Problems'], cum_cols = False)"
   ]
  },
  {
   "cell_type": "code",
   "execution_count": 87,
   "metadata": {
    "scrolled": true
   },
   "outputs": [
    {
     "data": {
      "image/png": "[encoded data removed]",
      "text/plain": [
       "<Figure size 360x360 with 1 Axes>"
      ]
     },
     "metadata": {},
     "output_type": "display_data"
    }
   ],
   "source": [
    "plt.figure(figsize=(5,5))\n",
    "pie_b = df['Bankruptcies'].value_counts()\n",
    "name = ['No','Yes']\n",
    "colors = ['aquamarine','palegreen']\n",
    "explode = (0, 0.1)\n",
    "plt.pie(pie_b, labels = name, autopct='%1.1f%%', startangle=350, shadow = True, colors=colors, explode=explode)\n",
    "plt.title('Bankruptcies')\n",
    "plt.axis('equal')\n",
    "plt.show()\n",
    "\n",
    "# 10,7% customer pernah mengalami kebankrutan, 89,3% tidak"
   ]
  },
  {
   "cell_type": "code",
   "execution_count": 88,
   "metadata": {
    "scrolled": true
   },
   "outputs": [
    {
     "data": {
      "text/html": [
       "<div>\n",
       "<style scoped>\n",
       "    .dataframe tbody tr th:only-of-type {\n",
       "        vertical-align: middle;\n",
       "    }\n",
       "\n",
       "    .dataframe tbody tr th {\n",
       "        vertical-align: top;\n",
       "    }\n",
       "\n",
       "    .dataframe thead th {\n",
       "        text-align: right;\n",
       "    }\n",
       "</style>\n",
       "<table border=\"1\" class=\"dataframe\">\n",
       "  <thead>\n",
       "    <tr style=\"text-align: right;\">\n",
       "      <th></th>\n",
       "      <th>Bankruptcies</th>\n",
       "      <th>count</th>\n",
       "      <th>percent</th>\n",
       "    </tr>\n",
       "  </thead>\n",
       "  <tbody>\n",
       "    <tr>\n",
       "      <th>0</th>\n",
       "      <td>0</td>\n",
       "      <td>60392</td>\n",
       "      <td>89.3</td>\n",
       "    </tr>\n",
       "    <tr>\n",
       "      <th>1</th>\n",
       "      <td>1</td>\n",
       "      <td>7223</td>\n",
       "      <td>10.7</td>\n",
       "    </tr>\n",
       "  </tbody>\n",
       "</table>\n",
       "</div>"
      ],
      "text/plain": [
       "   Bankruptcies  count  percent\n",
       "0             0  60392     89.3\n",
       "1             1   7223     10.7"
      ]
     },
     "execution_count": 88,
     "metadata": {},
     "output_type": "execute_result"
    }
   ],
   "source": [
    "df.stb.freq(['Bankruptcies'], cum_cols = False)"
   ]
  },
  {
   "cell_type": "code",
   "execution_count": 82,
   "metadata": {
    "scrolled": true
   },
   "outputs": [
    {
     "data": {
      "image/png": "[encoded data removed]",
      "text/plain": [
       "<Figure size 360x360 with 1 Axes>"
      ]
     },
     "metadata": {},
     "output_type": "display_data"
    }
   ],
   "source": [
    "plt.figure(figsize=(5,5))\n",
    "pie_tl = df['Tax Liens'].value_counts()\n",
    "name = ['No','Yes']\n",
    "colors = ['aquamarine','palegreen']\n",
    "explode = (0, 0.1)\n",
    "plt.pie(pie_tl, labels = name, autopct='%1.1f%%', startangle=50, shadow = True, colors=colors, explode=explode)\n",
    "plt.title('Tax Liens')\n",
    "plt.axis('equal')\n",
    "plt.show()\n",
    "\n",
    "# hanya 1,8% customer dengan tax liens, 98,2% tidak"
   ]
  },
  {
   "cell_type": "code",
   "execution_count": 83,
   "metadata": {
    "scrolled": true
   },
   "outputs": [
    {
     "data": {
      "text/html": [
       "<div>\n",
       "<style scoped>\n",
       "    .dataframe tbody tr th:only-of-type {\n",
       "        vertical-align: middle;\n",
       "    }\n",
       "\n",
       "    .dataframe tbody tr th {\n",
       "        vertical-align: top;\n",
       "    }\n",
       "\n",
       "    .dataframe thead th {\n",
       "        text-align: right;\n",
       "    }\n",
       "</style>\n",
       "<table border=\"1\" class=\"dataframe\">\n",
       "  <thead>\n",
       "    <tr style=\"text-align: right;\">\n",
       "      <th></th>\n",
       "      <th>Tax Liens</th>\n",
       "      <th>count</th>\n",
       "      <th>percent</th>\n",
       "    </tr>\n",
       "  </thead>\n",
       "  <tbody>\n",
       "    <tr>\n",
       "      <th>0</th>\n",
       "      <td>0</td>\n",
       "      <td>66385</td>\n",
       "      <td>98.2</td>\n",
       "    </tr>\n",
       "    <tr>\n",
       "      <th>1</th>\n",
       "      <td>1</td>\n",
       "      <td>1230</td>\n",
       "      <td>1.8</td>\n",
       "    </tr>\n",
       "  </tbody>\n",
       "</table>\n",
       "</div>"
      ],
      "text/plain": [
       "   Tax Liens  count  percent\n",
       "0          0  66385     98.2\n",
       "1          1   1230      1.8"
      ]
     },
     "execution_count": 83,
     "metadata": {},
     "output_type": "execute_result"
    }
   ],
   "source": [
    "df.stb.freq(['Tax Liens'], cum_cols = False)"
   ]
  },
  {
   "cell_type": "markdown",
   "metadata": {},
   "source": [
    "### Multivariate"
   ]
  },
  {
   "cell_type": "code",
   "execution_count": 82,
   "metadata": {
    "scrolled": false
   },
   "outputs": [
    {
     "data": {
      "image/png": "[encoded data removed]",
      "text/plain": [
       "<Figure size 1440x1080 with 2 Axes>"
      ]
     },
     "metadata": {},
     "output_type": "display_data"
    }
   ],
   "source": [
    "# korelasi antar features numerik\n",
    "plt.figure(figsize=(20,15))\n",
    "sns.heatmap(df.corr(), annot=True)\n",
    "plt.show()\n",
    "\n",
    "# terdapat korelasi yang tinggi (0.88) antara bankruptcies dan credit problems\n",
    "# selain itu tidak ada korelasi yang lebih dari 0.5 (monthly debt dan annual income)"
   ]
  },
  {
   "cell_type": "code",
   "execution_count": 133,
   "metadata": {},
   "outputs": [],
   "source": [
    "plt.rcParams.update(plt.rcParamsDefault)"
   ]
  },
  {
   "cell_type": "code",
   "execution_count": 3,
   "metadata": {
    "scrolled": false
   },
   "outputs": [
    {
     "data": {
      "image/png": "[encoded data removed]",
      "text/plain": [
       "<Figure size 360x360 with 1 Axes>"
      ]
     },
     "metadata": {
      "needs_background": "light"
     },
     "output_type": "display_data"
    }
   ],
   "source": [
    "# membandingkan credit score terhadap loan status\n",
    "sns.catplot(x = 'Loan Status', y = 'Credit Score', kind = 'box', data = df)\n",
    "plt.show()\n",
    "\n",
    "# customer yang fully paid cenderung memiliki credit score yang lebih tinggi dibanding customer yang charged off"
   ]
  },
  {
   "cell_type": "code",
   "execution_count": 7,
   "metadata": {},
   "outputs": [
    {
     "data": {
      "image/png": "[encoded data removed]",
      "text/plain": [
       "<Figure size 720x360 with 1 Axes>"
      ]
     },
     "metadata": {
      "needs_background": "light"
     },
     "output_type": "display_data"
    }
   ],
   "source": [
    "plt.figure(figsize = (10,5))\n",
    "sns.countplot(x = df['credit score rating'], hue = df['Loan Status'], palette = 'viridis')\n",
    "plt.show()"
   ]
  },
  {
   "cell_type": "code",
   "execution_count": 8,
   "metadata": {},
   "outputs": [
    {
     "data": {
      "text/html": [
       "<div>\n",
       "<style scoped>\n",
       "    .dataframe tbody tr th:only-of-type {\n",
       "        vertical-align: middle;\n",
       "    }\n",
       "\n",
       "    .dataframe tbody tr th {\n",
       "        vertical-align: top;\n",
       "    }\n",
       "\n",
       "    .dataframe thead th {\n",
       "        text-align: right;\n",
       "    }\n",
       "</style>\n",
       "<table border=\"1\" class=\"dataframe\">\n",
       "  <thead>\n",
       "    <tr style=\"text-align: right;\">\n",
       "      <th>credit score rating</th>\n",
       "      <th>fair</th>\n",
       "      <th>good</th>\n",
       "      <th>very good</th>\n",
       "    </tr>\n",
       "    <tr>\n",
       "      <th>Loan Status</th>\n",
       "      <th></th>\n",
       "      <th></th>\n",
       "      <th></th>\n",
       "    </tr>\n",
       "  </thead>\n",
       "  <tbody>\n",
       "    <tr>\n",
       "      <th>Charged Off</th>\n",
       "      <td>1537</td>\n",
       "      <td>14823</td>\n",
       "      <td>1686</td>\n",
       "    </tr>\n",
       "    <tr>\n",
       "      <th>Fully Paid</th>\n",
       "      <td>2053</td>\n",
       "      <td>36909</td>\n",
       "      <td>10607</td>\n",
       "    </tr>\n",
       "  </tbody>\n",
       "</table>\n",
       "</div>"
      ],
      "text/plain": [
       "credit score rating  fair   good  very good\n",
       "Loan Status                                \n",
       "Charged Off          1537  14823       1686\n",
       "Fully Paid           2053  36909      10607"
      ]
     },
     "execution_count": 8,
     "metadata": {},
     "output_type": "execute_result"
    }
   ],
   "source": [
    "pd.crosstab(df['Loan Status'], df['credit score rating'])"
   ]
  },
  {
   "cell_type": "code",
   "execution_count": 11,
   "metadata": {},
   "outputs": [
    {
     "data": {
      "text/html": [
       "<div>\n",
       "<style scoped>\n",
       "    .dataframe tbody tr th:only-of-type {\n",
       "        vertical-align: middle;\n",
       "    }\n",
       "\n",
       "    .dataframe tbody tr th {\n",
       "        vertical-align: top;\n",
       "    }\n",
       "\n",
       "    .dataframe thead th {\n",
       "        text-align: right;\n",
       "    }\n",
       "</style>\n",
       "<table border=\"1\" class=\"dataframe\">\n",
       "  <thead>\n",
       "    <tr style=\"text-align: right;\">\n",
       "      <th>credit score rating</th>\n",
       "      <th>fair</th>\n",
       "      <th>good</th>\n",
       "      <th>very good</th>\n",
       "    </tr>\n",
       "    <tr>\n",
       "      <th>Loan Status</th>\n",
       "      <th></th>\n",
       "      <th></th>\n",
       "      <th></th>\n",
       "    </tr>\n",
       "  </thead>\n",
       "  <tbody>\n",
       "    <tr>\n",
       "      <th>Charged Off</th>\n",
       "      <td>43</td>\n",
       "      <td>29</td>\n",
       "      <td>14</td>\n",
       "    </tr>\n",
       "    <tr>\n",
       "      <th>Fully Paid</th>\n",
       "      <td>57</td>\n",
       "      <td>71</td>\n",
       "      <td>86</td>\n",
       "    </tr>\n",
       "  </tbody>\n",
       "</table>\n",
       "</div>"
      ],
      "text/plain": [
       "credit score rating  fair  good  very good\n",
       "Loan Status                               \n",
       "Charged Off            43    29         14\n",
       "Fully Paid             57    71         86"
      ]
     },
     "execution_count": 11,
     "metadata": {},
     "output_type": "execute_result"
    }
   ],
   "source": [
    "pd.crosstab(df['Loan Status'], df['credit score rating'], normalize = 'columns')*100\n",
    "\n",
    "# semakin baik kategori credit score, semakin rendah persentase charged off"
   ]
  },
  {
   "cell_type": "code",
   "execution_count": 123,
   "metadata": {
    "scrolled": false
   },
   "outputs": [
    {
     "data": {
      "image/png": "[encoded data removed]",
      "text/plain": [
       "<Figure size 476x360 with 1 Axes>"
      ]
     },
     "metadata": {
      "needs_background": "light"
     },
     "output_type": "display_data"
    }
   ],
   "source": [
    "# membandingkan credit score terhadap loan status di tiap jenis home ownership\n",
    "sns.catplot(x = 'Loan Status', y = 'Credit Score', hue = 'Home Ownership', kind = 'box', data = df)\n",
    "plt.show()\n",
    "\n",
    "# customer dengan home mortgage cenderung memiliki credit score lebih tinggi diikuti oleh own home dan rent"
   ]
  },
  {
   "cell_type": "code",
   "execution_count": 51,
   "metadata": {},
   "outputs": [
    {
     "data": {
      "image/png": "[encoded data removed]",
      "text/plain": [
       "<Figure size 720x360 with 1 Axes>"
      ]
     },
     "metadata": {
      "needs_background": "light"
     },
     "output_type": "display_data"
    }
   ],
   "source": [
    "plt.figure(figsize = (10,5))\n",
    "sns.countplot(x = df['Term'], hue = df['Loan Status'], palette = 'mako')\n",
    "plt.show()"
   ]
  },
  {
   "cell_type": "code",
   "execution_count": 84,
   "metadata": {},
   "outputs": [
    {
     "data": {
      "text/html": [
       "<div>\n",
       "<style scoped>\n",
       "    .dataframe tbody tr th:only-of-type {\n",
       "        vertical-align: middle;\n",
       "    }\n",
       "\n",
       "    .dataframe tbody tr th {\n",
       "        vertical-align: top;\n",
       "    }\n",
       "\n",
       "    .dataframe thead th {\n",
       "        text-align: right;\n",
       "    }\n",
       "</style>\n",
       "<table border=\"1\" class=\"dataframe\">\n",
       "  <thead>\n",
       "    <tr style=\"text-align: right;\">\n",
       "      <th>Term</th>\n",
       "      <th>Long Term</th>\n",
       "      <th>Short Term</th>\n",
       "    </tr>\n",
       "    <tr>\n",
       "      <th>Loan Status</th>\n",
       "      <th></th>\n",
       "      <th></th>\n",
       "    </tr>\n",
       "  </thead>\n",
       "  <tbody>\n",
       "    <tr>\n",
       "      <th>Charged Off</th>\n",
       "      <td>6654</td>\n",
       "      <td>11392</td>\n",
       "    </tr>\n",
       "    <tr>\n",
       "      <th>Fully Paid</th>\n",
       "      <td>10632</td>\n",
       "      <td>38937</td>\n",
       "    </tr>\n",
       "  </tbody>\n",
       "</table>\n",
       "</div>"
      ],
      "text/plain": [
       "Term         Long Term  Short Term\n",
       "Loan Status                       \n",
       "Charged Off       6654       11392\n",
       "Fully Paid       10632       38937"
      ]
     },
     "execution_count": 84,
     "metadata": {},
     "output_type": "execute_result"
    }
   ],
   "source": [
    "pd.crosstab(df['Loan Status'], df['Term'])"
   ]
  },
  {
   "cell_type": "code",
   "execution_count": 52,
   "metadata": {},
   "outputs": [
    {
     "data": {
      "text/html": [
       "<div>\n",
       "<style scoped>\n",
       "    .dataframe tbody tr th:only-of-type {\n",
       "        vertical-align: middle;\n",
       "    }\n",
       "\n",
       "    .dataframe tbody tr th {\n",
       "        vertical-align: top;\n",
       "    }\n",
       "\n",
       "    .dataframe thead th {\n",
       "        text-align: right;\n",
       "    }\n",
       "</style>\n",
       "<table border=\"1\" class=\"dataframe\">\n",
       "  <thead>\n",
       "    <tr style=\"text-align: right;\">\n",
       "      <th>Term</th>\n",
       "      <th>Long Term</th>\n",
       "      <th>Short Term</th>\n",
       "    </tr>\n",
       "    <tr>\n",
       "      <th>Loan Status</th>\n",
       "      <th></th>\n",
       "      <th></th>\n",
       "    </tr>\n",
       "  </thead>\n",
       "  <tbody>\n",
       "    <tr>\n",
       "      <th>Charged Off</th>\n",
       "      <td>38</td>\n",
       "      <td>23</td>\n",
       "    </tr>\n",
       "    <tr>\n",
       "      <th>Fully Paid</th>\n",
       "      <td>62</td>\n",
       "      <td>77</td>\n",
       "    </tr>\n",
       "  </tbody>\n",
       "</table>\n",
       "</div>"
      ],
      "text/plain": [
       "Term         Long Term  Short Term\n",
       "Loan Status                       \n",
       "Charged Off         38          23\n",
       "Fully Paid          62          77"
      ]
     },
     "execution_count": 52,
     "metadata": {},
     "output_type": "execute_result"
    }
   ],
   "source": [
    "pd.crosstab(df['Loan Status'], df['Term'], normalize = 'columns')*100\n",
    "\n",
    "# pinjaman berjangka panjang lebih tinggi kemungkinan charged off dibanding pinjaman jangka pandek"
   ]
  },
  {
   "cell_type": "code",
   "execution_count": 109,
   "metadata": {},
   "outputs": [
    {
     "data": {
      "text/html": [
       "<div>\n",
       "<style scoped>\n",
       "    .dataframe tbody tr th:only-of-type {\n",
       "        vertical-align: middle;\n",
       "    }\n",
       "\n",
       "    .dataframe tbody tr th {\n",
       "        vertical-align: top;\n",
       "    }\n",
       "\n",
       "    .dataframe thead th {\n",
       "        text-align: right;\n",
       "    }\n",
       "</style>\n",
       "<table border=\"1\" class=\"dataframe\">\n",
       "  <thead>\n",
       "    <tr style=\"text-align: right;\">\n",
       "      <th>Purpose</th>\n",
       "      <th>Business Loan</th>\n",
       "      <th>Buy House</th>\n",
       "      <th>Buy a Car</th>\n",
       "      <th>Debt Consolidation</th>\n",
       "      <th>Educational Expenses</th>\n",
       "      <th>Home Improvements</th>\n",
       "      <th>Medical Bills</th>\n",
       "      <th>Other</th>\n",
       "      <th>major_purchase</th>\n",
       "      <th>moving</th>\n",
       "      <th>renewable_energy</th>\n",
       "      <th>vacation</th>\n",
       "      <th>wedding</th>\n",
       "    </tr>\n",
       "    <tr>\n",
       "      <th>Term</th>\n",
       "      <th></th>\n",
       "      <th></th>\n",
       "      <th></th>\n",
       "      <th></th>\n",
       "      <th></th>\n",
       "      <th></th>\n",
       "      <th></th>\n",
       "      <th></th>\n",
       "      <th></th>\n",
       "      <th></th>\n",
       "      <th></th>\n",
       "      <th></th>\n",
       "      <th></th>\n",
       "    </tr>\n",
       "  </thead>\n",
       "  <tbody>\n",
       "    <tr>\n",
       "      <th>Long Term</th>\n",
       "      <td>28</td>\n",
       "      <td>27</td>\n",
       "      <td>22</td>\n",
       "      <td>26</td>\n",
       "      <td>10</td>\n",
       "      <td>28</td>\n",
       "      <td>17</td>\n",
       "      <td>19</td>\n",
       "      <td>24</td>\n",
       "      <td>15</td>\n",
       "      <td>29</td>\n",
       "      <td>8</td>\n",
       "      <td>16</td>\n",
       "    </tr>\n",
       "    <tr>\n",
       "      <th>Short Term</th>\n",
       "      <td>72</td>\n",
       "      <td>73</td>\n",
       "      <td>78</td>\n",
       "      <td>74</td>\n",
       "      <td>90</td>\n",
       "      <td>72</td>\n",
       "      <td>83</td>\n",
       "      <td>81</td>\n",
       "      <td>76</td>\n",
       "      <td>85</td>\n",
       "      <td>71</td>\n",
       "      <td>92</td>\n",
       "      <td>84</td>\n",
       "    </tr>\n",
       "  </tbody>\n",
       "</table>\n",
       "</div>"
      ],
      "text/plain": [
       "Purpose     Business Loan  Buy House  Buy a Car  Debt Consolidation  \\\n",
       "Term                                                                  \n",
       "Long Term              28         27         22                  26   \n",
       "Short Term             72         73         78                  74   \n",
       "\n",
       "Purpose     Educational Expenses  Home Improvements  Medical Bills  Other  \\\n",
       "Term                                                                        \n",
       "Long Term                     10                 28             17     19   \n",
       "Short Term                    90                 72             83     81   \n",
       "\n",
       "Purpose     major_purchase  moving  renewable_energy  vacation  wedding  \n",
       "Term                                                                     \n",
       "Long Term               24      15                29         8       16  \n",
       "Short Term              76      85                71        92       84  "
      ]
     },
     "execution_count": 109,
     "metadata": {},
     "output_type": "execute_result"
    }
   ],
   "source": [
    "pd.crosstab(df['Term'], df['Purpose'], normalize = 'columns')*100"
   ]
  },
  {
   "cell_type": "code",
   "execution_count": 18,
   "metadata": {
    "scrolled": true
   },
   "outputs": [
    {
     "data": {
      "image/png": "[encoded data removed]",
      "text/plain": [
       "<Figure size 720x360 with 1 Axes>"
      ]
     },
     "metadata": {
      "needs_background": "light"
     },
     "output_type": "display_data"
    }
   ],
   "source": [
    "plt.figure(figsize = (10,5))\n",
    "sns.countplot(x = df['Home Ownership'], hue = df['Loan Status'], palette = 'rocket_r')\n",
    "plt.show()"
   ]
  },
  {
   "cell_type": "code",
   "execution_count": 19,
   "metadata": {
    "scrolled": true
   },
   "outputs": [
    {
     "data": {
      "text/html": [
       "<div>\n",
       "<style scoped>\n",
       "    .dataframe tbody tr th:only-of-type {\n",
       "        vertical-align: middle;\n",
       "    }\n",
       "\n",
       "    .dataframe tbody tr th {\n",
       "        vertical-align: top;\n",
       "    }\n",
       "\n",
       "    .dataframe thead th {\n",
       "        text-align: right;\n",
       "    }\n",
       "</style>\n",
       "<table border=\"1\" class=\"dataframe\">\n",
       "  <thead>\n",
       "    <tr style=\"text-align: right;\">\n",
       "      <th>Home Ownership</th>\n",
       "      <th>Home Mortgage</th>\n",
       "      <th>Own Home</th>\n",
       "      <th>Rent</th>\n",
       "    </tr>\n",
       "    <tr>\n",
       "      <th>Loan Status</th>\n",
       "      <th></th>\n",
       "      <th></th>\n",
       "      <th></th>\n",
       "    </tr>\n",
       "  </thead>\n",
       "  <tbody>\n",
       "    <tr>\n",
       "      <th>Charged Off</th>\n",
       "      <td>7914</td>\n",
       "      <td>1663</td>\n",
       "      <td>8469</td>\n",
       "    </tr>\n",
       "    <tr>\n",
       "      <th>Fully Paid</th>\n",
       "      <td>25132</td>\n",
       "      <td>4490</td>\n",
       "      <td>19947</td>\n",
       "    </tr>\n",
       "  </tbody>\n",
       "</table>\n",
       "</div>"
      ],
      "text/plain": [
       "Home Ownership  Home Mortgage  Own Home   Rent\n",
       "Loan Status                                   \n",
       "Charged Off              7914      1663   8469\n",
       "Fully Paid              25132      4490  19947"
      ]
     },
     "execution_count": 19,
     "metadata": {},
     "output_type": "execute_result"
    }
   ],
   "source": [
    "pd.crosstab(df['Loan Status'], df['Home Ownership'])"
   ]
  },
  {
   "cell_type": "code",
   "execution_count": 20,
   "metadata": {
    "scrolled": true
   },
   "outputs": [
    {
     "data": {
      "text/html": [
       "<div>\n",
       "<style scoped>\n",
       "    .dataframe tbody tr th:only-of-type {\n",
       "        vertical-align: middle;\n",
       "    }\n",
       "\n",
       "    .dataframe tbody tr th {\n",
       "        vertical-align: top;\n",
       "    }\n",
       "\n",
       "    .dataframe thead th {\n",
       "        text-align: right;\n",
       "    }\n",
       "</style>\n",
       "<table border=\"1\" class=\"dataframe\">\n",
       "  <thead>\n",
       "    <tr style=\"text-align: right;\">\n",
       "      <th>Home Ownership</th>\n",
       "      <th>Home Mortgage</th>\n",
       "      <th>Own Home</th>\n",
       "      <th>Rent</th>\n",
       "    </tr>\n",
       "    <tr>\n",
       "      <th>Loan Status</th>\n",
       "      <th></th>\n",
       "      <th></th>\n",
       "      <th></th>\n",
       "    </tr>\n",
       "  </thead>\n",
       "  <tbody>\n",
       "    <tr>\n",
       "      <th>Charged Off</th>\n",
       "      <td>24</td>\n",
       "      <td>27</td>\n",
       "      <td>30</td>\n",
       "    </tr>\n",
       "    <tr>\n",
       "      <th>Fully Paid</th>\n",
       "      <td>76</td>\n",
       "      <td>73</td>\n",
       "      <td>70</td>\n",
       "    </tr>\n",
       "  </tbody>\n",
       "</table>\n",
       "</div>"
      ],
      "text/plain": [
       "Home Ownership  Home Mortgage  Own Home  Rent\n",
       "Loan Status                                  \n",
       "Charged Off                24        27    30\n",
       "Fully Paid                 76        73    70"
      ]
     },
     "execution_count": 20,
     "metadata": {},
     "output_type": "execute_result"
    }
   ],
   "source": [
    "pd.crosstab(df['Loan Status'], df['Home Ownership'], normalize = 'columns')*100\n",
    "\n",
    "# persentase charged off paling tinggi di kategori rent, terendah di home mortgage"
   ]
  },
  {
   "cell_type": "code",
   "execution_count": 110,
   "metadata": {
    "scrolled": false
   },
   "outputs": [
    {
     "data": {
      "text/html": [
       "<div>\n",
       "<style scoped>\n",
       "    .dataframe tbody tr th:only-of-type {\n",
       "        vertical-align: middle;\n",
       "    }\n",
       "\n",
       "    .dataframe tbody tr th {\n",
       "        vertical-align: top;\n",
       "    }\n",
       "\n",
       "    .dataframe thead th {\n",
       "        text-align: right;\n",
       "    }\n",
       "</style>\n",
       "<table border=\"1\" class=\"dataframe\">\n",
       "  <thead>\n",
       "    <tr style=\"text-align: right;\">\n",
       "      <th>Home Ownership</th>\n",
       "      <th>Home Mortgage</th>\n",
       "      <th>Own Home</th>\n",
       "      <th>Rent</th>\n",
       "    </tr>\n",
       "    <tr>\n",
       "      <th>Term</th>\n",
       "      <th></th>\n",
       "      <th></th>\n",
       "      <th></th>\n",
       "    </tr>\n",
       "  </thead>\n",
       "  <tbody>\n",
       "    <tr>\n",
       "      <th>Long Term</th>\n",
       "      <td>30</td>\n",
       "      <td>24</td>\n",
       "      <td>20</td>\n",
       "    </tr>\n",
       "    <tr>\n",
       "      <th>Short Term</th>\n",
       "      <td>70</td>\n",
       "      <td>76</td>\n",
       "      <td>80</td>\n",
       "    </tr>\n",
       "  </tbody>\n",
       "</table>\n",
       "</div>"
      ],
      "text/plain": [
       "Home Ownership  Home Mortgage  Own Home  Rent\n",
       "Term                                         \n",
       "Long Term                  30        24    20\n",
       "Short Term                 70        76    80"
      ]
     },
     "execution_count": 110,
     "metadata": {},
     "output_type": "execute_result"
    }
   ],
   "source": [
    "pd.crosstab(df['Term'], df['Home Ownership'], normalize = 'columns')*100"
   ]
  },
  {
   "cell_type": "code",
   "execution_count": 14,
   "metadata": {
    "scrolled": true
   },
   "outputs": [
    {
     "data": {
      "image/png": "[encoded data removed]",
      "text/plain": [
       "<Figure size 720x360 with 1 Axes>"
      ]
     },
     "metadata": {
      "needs_background": "light"
     },
     "output_type": "display_data"
    }
   ],
   "source": [
    "plt.figure(figsize = (10,5))\n",
    "sns.countplot(x = df['Years in current job'], hue = df['Loan Status'], palette = 'mako')\n",
    "plt.show()"
   ]
  },
  {
   "cell_type": "code",
   "execution_count": 15,
   "metadata": {},
   "outputs": [
    {
     "data": {
      "text/html": [
       "<div>\n",
       "<style scoped>\n",
       "    .dataframe tbody tr th:only-of-type {\n",
       "        vertical-align: middle;\n",
       "    }\n",
       "\n",
       "    .dataframe tbody tr th {\n",
       "        vertical-align: top;\n",
       "    }\n",
       "\n",
       "    .dataframe thead th {\n",
       "        text-align: right;\n",
       "    }\n",
       "</style>\n",
       "<table border=\"1\" class=\"dataframe\">\n",
       "  <thead>\n",
       "    <tr style=\"text-align: right;\">\n",
       "      <th>Years in current job</th>\n",
       "      <th>0</th>\n",
       "      <th>1</th>\n",
       "      <th>2</th>\n",
       "      <th>3</th>\n",
       "      <th>4</th>\n",
       "      <th>5</th>\n",
       "      <th>6</th>\n",
       "      <th>7</th>\n",
       "      <th>8</th>\n",
       "      <th>9</th>\n",
       "      <th>10</th>\n",
       "    </tr>\n",
       "    <tr>\n",
       "      <th>Loan Status</th>\n",
       "      <th></th>\n",
       "      <th></th>\n",
       "      <th></th>\n",
       "      <th></th>\n",
       "      <th></th>\n",
       "      <th></th>\n",
       "      <th></th>\n",
       "      <th></th>\n",
       "      <th></th>\n",
       "      <th></th>\n",
       "      <th></th>\n",
       "    </tr>\n",
       "  </thead>\n",
       "  <tbody>\n",
       "    <tr>\n",
       "      <th>Charged Off</th>\n",
       "      <td>28</td>\n",
       "      <td>27</td>\n",
       "      <td>26</td>\n",
       "      <td>25</td>\n",
       "      <td>27</td>\n",
       "      <td>27</td>\n",
       "      <td>27</td>\n",
       "      <td>27</td>\n",
       "      <td>27</td>\n",
       "      <td>29</td>\n",
       "      <td>27</td>\n",
       "    </tr>\n",
       "    <tr>\n",
       "      <th>Fully Paid</th>\n",
       "      <td>72</td>\n",
       "      <td>73</td>\n",
       "      <td>74</td>\n",
       "      <td>75</td>\n",
       "      <td>73</td>\n",
       "      <td>73</td>\n",
       "      <td>73</td>\n",
       "      <td>73</td>\n",
       "      <td>73</td>\n",
       "      <td>71</td>\n",
       "      <td>73</td>\n",
       "    </tr>\n",
       "  </tbody>\n",
       "</table>\n",
       "</div>"
      ],
      "text/plain": [
       "Years in current job  0   1   2   3   4   5   6   7   8   9   10\n",
       "Loan Status                                                     \n",
       "Charged Off           28  27  26  25  27  27  27  27  27  29  27\n",
       "Fully Paid            72  73  74  75  73  73  73  73  73  71  73"
      ]
     },
     "execution_count": 15,
     "metadata": {},
     "output_type": "execute_result"
    }
   ],
   "source": [
    "pd.crosstab(df['Loan Status'], df['Years in current job'], normalize = 'columns')*100\n",
    "\n",
    "# persentase charged off di tiap kategori tahun hampir sama"
   ]
  },
  {
   "cell_type": "code",
   "execution_count": 23,
   "metadata": {
    "scrolled": true
   },
   "outputs": [
    {
     "data": {
      "image/png": "[encoded data removed]",
      "text/plain": [
       "<Figure size 720x360 with 1 Axes>"
      ]
     },
     "metadata": {
      "needs_background": "light"
     },
     "output_type": "display_data"
    }
   ],
   "source": [
    "plt.figure(figsize = (10,5))\n",
    "sns.countplot(x = df['Credit Problems'], hue = df['Loan Status'], palette = 'mako')\n",
    "plt.show()"
   ]
  },
  {
   "cell_type": "code",
   "execution_count": 24,
   "metadata": {},
   "outputs": [
    {
     "data": {
      "text/html": [
       "<div>\n",
       "<style scoped>\n",
       "    .dataframe tbody tr th:only-of-type {\n",
       "        vertical-align: middle;\n",
       "    }\n",
       "\n",
       "    .dataframe tbody tr th {\n",
       "        vertical-align: top;\n",
       "    }\n",
       "\n",
       "    .dataframe thead th {\n",
       "        text-align: right;\n",
       "    }\n",
       "</style>\n",
       "<table border=\"1\" class=\"dataframe\">\n",
       "  <thead>\n",
       "    <tr style=\"text-align: right;\">\n",
       "      <th>Credit Problems</th>\n",
       "      <th>0</th>\n",
       "      <th>1</th>\n",
       "    </tr>\n",
       "    <tr>\n",
       "      <th>Loan Status</th>\n",
       "      <th></th>\n",
       "      <th></th>\n",
       "    </tr>\n",
       "  </thead>\n",
       "  <tbody>\n",
       "    <tr>\n",
       "      <th>Charged Off</th>\n",
       "      <td>15508</td>\n",
       "      <td>2538</td>\n",
       "    </tr>\n",
       "    <tr>\n",
       "      <th>Fully Paid</th>\n",
       "      <td>42998</td>\n",
       "      <td>6571</td>\n",
       "    </tr>\n",
       "  </tbody>\n",
       "</table>\n",
       "</div>"
      ],
      "text/plain": [
       "Credit Problems      0     1\n",
       "Loan Status                 \n",
       "Charged Off      15508  2538\n",
       "Fully Paid       42998  6571"
      ]
     },
     "execution_count": 24,
     "metadata": {},
     "output_type": "execute_result"
    }
   ],
   "source": [
    "pd.crosstab(df['Loan Status'], df['Credit Problems'])"
   ]
  },
  {
   "cell_type": "code",
   "execution_count": 25,
   "metadata": {},
   "outputs": [
    {
     "data": {
      "text/html": [
       "<div>\n",
       "<style scoped>\n",
       "    .dataframe tbody tr th:only-of-type {\n",
       "        vertical-align: middle;\n",
       "    }\n",
       "\n",
       "    .dataframe tbody tr th {\n",
       "        vertical-align: top;\n",
       "    }\n",
       "\n",
       "    .dataframe thead th {\n",
       "        text-align: right;\n",
       "    }\n",
       "</style>\n",
       "<table border=\"1\" class=\"dataframe\">\n",
       "  <thead>\n",
       "    <tr style=\"text-align: right;\">\n",
       "      <th>Credit Problems</th>\n",
       "      <th>0</th>\n",
       "      <th>1</th>\n",
       "    </tr>\n",
       "    <tr>\n",
       "      <th>Loan Status</th>\n",
       "      <th></th>\n",
       "      <th></th>\n",
       "    </tr>\n",
       "  </thead>\n",
       "  <tbody>\n",
       "    <tr>\n",
       "      <th>Charged Off</th>\n",
       "      <td>27</td>\n",
       "      <td>28</td>\n",
       "    </tr>\n",
       "    <tr>\n",
       "      <th>Fully Paid</th>\n",
       "      <td>73</td>\n",
       "      <td>72</td>\n",
       "    </tr>\n",
       "  </tbody>\n",
       "</table>\n",
       "</div>"
      ],
      "text/plain": [
       "Credit Problems  0  1\n",
       "Loan Status          \n",
       "Charged Off     27 28\n",
       "Fully Paid      73 72"
      ]
     },
     "execution_count": 25,
     "metadata": {},
     "output_type": "execute_result"
    }
   ],
   "source": [
    "pd.crosstab(df['Loan Status'], df['Credit Problems'], normalize = 'columns')*100\n",
    "\n",
    "# persentase charged off hampir sama antara customer yang memiliki masalah kredit dan tidak"
   ]
  },
  {
   "cell_type": "code",
   "execution_count": 33,
   "metadata": {},
   "outputs": [
    {
     "data": {
      "image/png": "[encoded data removed]",
      "text/plain": [
       "<Figure size 720x360 with 1 Axes>"
      ]
     },
     "metadata": {
      "needs_background": "light"
     },
     "output_type": "display_data"
    }
   ],
   "source": [
    "plt.figure(figsize = (10,5))\n",
    "sns.countplot(x = df['Bankruptcies'], hue = df['Loan Status'], palette = 'ocean_r')\n",
    "plt.show()"
   ]
  },
  {
   "cell_type": "code",
   "execution_count": 34,
   "metadata": {},
   "outputs": [
    {
     "data": {
      "text/html": [
       "<div>\n",
       "<style scoped>\n",
       "    .dataframe tbody tr th:only-of-type {\n",
       "        vertical-align: middle;\n",
       "    }\n",
       "\n",
       "    .dataframe tbody tr th {\n",
       "        vertical-align: top;\n",
       "    }\n",
       "\n",
       "    .dataframe thead th {\n",
       "        text-align: right;\n",
       "    }\n",
       "</style>\n",
       "<table border=\"1\" class=\"dataframe\">\n",
       "  <thead>\n",
       "    <tr style=\"text-align: right;\">\n",
       "      <th>Bankruptcies</th>\n",
       "      <th>0</th>\n",
       "      <th>1</th>\n",
       "    </tr>\n",
       "    <tr>\n",
       "      <th>Loan Status</th>\n",
       "      <th></th>\n",
       "      <th></th>\n",
       "    </tr>\n",
       "  </thead>\n",
       "  <tbody>\n",
       "    <tr>\n",
       "      <th>Charged Off</th>\n",
       "      <td>16110</td>\n",
       "      <td>1936</td>\n",
       "    </tr>\n",
       "    <tr>\n",
       "      <th>Fully Paid</th>\n",
       "      <td>44282</td>\n",
       "      <td>5287</td>\n",
       "    </tr>\n",
       "  </tbody>\n",
       "</table>\n",
       "</div>"
      ],
      "text/plain": [
       "Bankruptcies      0     1\n",
       "Loan Status              \n",
       "Charged Off   16110  1936\n",
       "Fully Paid    44282  5287"
      ]
     },
     "execution_count": 34,
     "metadata": {},
     "output_type": "execute_result"
    }
   ],
   "source": [
    "pd.crosstab(df['Loan Status'], df['Bankruptcies'])"
   ]
  },
  {
   "cell_type": "code",
   "execution_count": 36,
   "metadata": {},
   "outputs": [
    {
     "data": {
      "text/html": [
       "<div>\n",
       "<style scoped>\n",
       "    .dataframe tbody tr th:only-of-type {\n",
       "        vertical-align: middle;\n",
       "    }\n",
       "\n",
       "    .dataframe tbody tr th {\n",
       "        vertical-align: top;\n",
       "    }\n",
       "\n",
       "    .dataframe thead th {\n",
       "        text-align: right;\n",
       "    }\n",
       "</style>\n",
       "<table border=\"1\" class=\"dataframe\">\n",
       "  <thead>\n",
       "    <tr style=\"text-align: right;\">\n",
       "      <th>Bankruptcies</th>\n",
       "      <th>0</th>\n",
       "      <th>1</th>\n",
       "    </tr>\n",
       "    <tr>\n",
       "      <th>Loan Status</th>\n",
       "      <th></th>\n",
       "      <th></th>\n",
       "    </tr>\n",
       "  </thead>\n",
       "  <tbody>\n",
       "    <tr>\n",
       "      <th>Charged Off</th>\n",
       "      <td>27</td>\n",
       "      <td>27</td>\n",
       "    </tr>\n",
       "    <tr>\n",
       "      <th>Fully Paid</th>\n",
       "      <td>73</td>\n",
       "      <td>73</td>\n",
       "    </tr>\n",
       "  </tbody>\n",
       "</table>\n",
       "</div>"
      ],
      "text/plain": [
       "Bankruptcies  0  1\n",
       "Loan Status       \n",
       "Charged Off  27 27\n",
       "Fully Paid   73 73"
      ]
     },
     "execution_count": 36,
     "metadata": {},
     "output_type": "execute_result"
    }
   ],
   "source": [
    "pd.crosstab(df['Loan Status'], df['Bankruptcies'], normalize = 'columns')*100\n",
    "\n",
    "# persentase charged off sama antara customer yang pernah bangkrut dan tidak"
   ]
  },
  {
   "cell_type": "code",
   "execution_count": 40,
   "metadata": {},
   "outputs": [
    {
     "data": {
      "text/html": [
       "<div>\n",
       "<style scoped>\n",
       "    .dataframe tbody tr th:only-of-type {\n",
       "        vertical-align: middle;\n",
       "    }\n",
       "\n",
       "    .dataframe tbody tr th {\n",
       "        vertical-align: top;\n",
       "    }\n",
       "\n",
       "    .dataframe thead th {\n",
       "        text-align: right;\n",
       "    }\n",
       "</style>\n",
       "<table border=\"1\" class=\"dataframe\">\n",
       "  <thead>\n",
       "    <tr style=\"text-align: right;\">\n",
       "      <th>Tax Liens</th>\n",
       "      <th>0</th>\n",
       "      <th>1</th>\n",
       "    </tr>\n",
       "    <tr>\n",
       "      <th>Loan Status</th>\n",
       "      <th></th>\n",
       "      <th></th>\n",
       "    </tr>\n",
       "  </thead>\n",
       "  <tbody>\n",
       "    <tr>\n",
       "      <th>Charged Off</th>\n",
       "      <td>27</td>\n",
       "      <td>31</td>\n",
       "    </tr>\n",
       "    <tr>\n",
       "      <th>Fully Paid</th>\n",
       "      <td>73</td>\n",
       "      <td>69</td>\n",
       "    </tr>\n",
       "  </tbody>\n",
       "</table>\n",
       "</div>"
      ],
      "text/plain": [
       "Tax Liens    0  1\n",
       "Loan Status      \n",
       "Charged Off 27 31\n",
       "Fully Paid  73 69"
      ]
     },
     "execution_count": 40,
     "metadata": {},
     "output_type": "execute_result"
    }
   ],
   "source": [
    "pd.crosstab(df['Loan Status'], df['Tax Liens'], normalize = 'columns')*100\n",
    "\n",
    "# persentase charged off lebih tinggi pada kategori customer dengan tax liens"
   ]
  },
  {
   "cell_type": "code",
   "execution_count": 124,
   "metadata": {},
   "outputs": [
    {
     "data": {
      "image/png": "[encoded data removed]",
      "text/plain": [
       "<Figure size 360x360 with 1 Axes>"
      ]
     },
     "metadata": {
      "needs_background": "light"
     },
     "output_type": "display_data"
    }
   ],
   "source": [
    "# membandingkan current loan amount terhadap loan status\n",
    "sns.catplot(x = 'Loan Status', y = 'Current Loan Amount', kind = 'box', data = df)\n",
    "plt.show()\n",
    "\n",
    "# customer yang charged off cenderung memiliki loan amount yang lebih tinggi dibanding customer yang fully paid"
   ]
  },
  {
   "cell_type": "code",
   "execution_count": 122,
   "metadata": {
    "scrolled": false
   },
   "outputs": [
    {
     "data": {
      "image/png": "[encoded data removed]",
      "text/plain": [
       "<Figure size 447x360 with 1 Axes>"
      ]
     },
     "metadata": {
      "needs_background": "light"
     },
     "output_type": "display_data"
    }
   ],
   "source": [
    "# membandingkan current loan amount terhadap loan status dengan ada/tidak credit problems\n",
    "sns.catplot(x = 'Loan Status', y = 'Current Loan Amount', hue = 'Credit Problems', kind = 'box', data = df)\n",
    "plt.show()\n",
    "\n",
    "# customer dengan credit problems cenderung memiliki loan amount yang lebih rendah dibanding customer tanpa credit problems"
   ]
  },
  {
   "cell_type": "code",
   "execution_count": 126,
   "metadata": {
    "scrolled": false
   },
   "outputs": [
    {
     "data": {
      "image/png": "[encoded data removed]",
      "text/plain": [
       "<Figure size 360x360 with 1 Axes>"
      ]
     },
     "metadata": {
      "needs_background": "light"
     },
     "output_type": "display_data"
    }
   ],
   "source": [
    "# membandingkan years of credit history terhadap loan status\n",
    "sns.catplot(x = 'Loan Status', y = 'Years of Credit History', kind = 'box', data = df)\n",
    "plt.show()\n",
    "\n",
    "# perbandingan years of credit history terhadap loan status tidak banyak\n",
    "# years of credit history customer yang charged off cenderung sedikit lebih rendah"
   ]
  },
  {
   "cell_type": "code",
   "execution_count": 130,
   "metadata": {
    "scrolled": false
   },
   "outputs": [
    {
     "data": {
      "image/png": "[encoded data removed]",
      "text/plain": [
       "<Figure size 464.125x360 with 1 Axes>"
      ]
     },
     "metadata": {
      "needs_background": "light"
     },
     "output_type": "display_data"
    }
   ],
   "source": [
    "# membandingkan years of credit history terhadap loan status pada tiap years in current job\n",
    "sns.catplot(x = 'Loan Status', y = 'Years of Credit History', hue = 'Years in current job', kind = 'box', data = df)\n",
    "plt.show()\n",
    "\n",
    "# customer dengan years in current job 10 tahun atau lebih memiliki years of credit history paling tinggi"
   ]
  },
  {
   "cell_type": "code",
   "execution_count": 8,
   "metadata": {
    "scrolled": false
   },
   "outputs": [
    {
     "data": {
      "image/png": "[encoded data removed]",
      "text/plain": [
       "<Figure size 360x360 with 1 Axes>"
      ]
     },
     "metadata": {
      "needs_background": "light"
     },
     "output_type": "display_data"
    }
   ],
   "source": [
    "sns.catplot(x = 'Loan Status', y = 'Number of Open Accounts', kind = 'box', data = df)\n",
    "plt.show()\n",
    "\n",
    "# perbandingan number of open accounts terhadap loan status hampir sama antara fully paid dan charged off"
   ]
  },
  {
   "cell_type": "code",
   "execution_count": 67,
   "metadata": {
    "scrolled": true
   },
   "outputs": [
    {
     "data": {
      "image/png": "[encoded data removed]",
      "text/plain": [
       "<Figure size 720x360 with 1 Axes>"
      ]
     },
     "metadata": {
      "needs_background": "light"
     },
     "output_type": "display_data"
    }
   ],
   "source": [
    "plt.figure(figsize = (10,5))\n",
    "sns.countplot(x = df['loan amount bin'], hue = df['Loan Status'], palette = 'ocean_r')\n",
    "plt.show()"
   ]
  },
  {
   "cell_type": "code",
   "execution_count": 68,
   "metadata": {
    "scrolled": false
   },
   "outputs": [
    {
     "data": {
      "text/html": [
       "<div>\n",
       "<style scoped>\n",
       "    .dataframe tbody tr th:only-of-type {\n",
       "        vertical-align: middle;\n",
       "    }\n",
       "\n",
       "    .dataframe tbody tr th {\n",
       "        vertical-align: top;\n",
       "    }\n",
       "\n",
       "    .dataframe thead th {\n",
       "        text-align: right;\n",
       "    }\n",
       "</style>\n",
       "<table border=\"1\" class=\"dataframe\">\n",
       "  <thead>\n",
       "    <tr style=\"text-align: right;\">\n",
       "      <th>loan amount bin</th>\n",
       "      <th>&lt; 50k</th>\n",
       "      <th>50 - 100k</th>\n",
       "      <th>100 - 250k</th>\n",
       "      <th>250 - 500k</th>\n",
       "      <th>500k +</th>\n",
       "    </tr>\n",
       "    <tr>\n",
       "      <th>Loan Status</th>\n",
       "      <th></th>\n",
       "      <th></th>\n",
       "      <th></th>\n",
       "      <th></th>\n",
       "      <th></th>\n",
       "    </tr>\n",
       "  </thead>\n",
       "  <tbody>\n",
       "    <tr>\n",
       "      <th>Charged Off</th>\n",
       "      <td>21</td>\n",
       "      <td>23</td>\n",
       "      <td>25</td>\n",
       "      <td>28</td>\n",
       "      <td>30</td>\n",
       "    </tr>\n",
       "    <tr>\n",
       "      <th>Fully Paid</th>\n",
       "      <td>79</td>\n",
       "      <td>77</td>\n",
       "      <td>75</td>\n",
       "      <td>72</td>\n",
       "      <td>70</td>\n",
       "    </tr>\n",
       "  </tbody>\n",
       "</table>\n",
       "</div>"
      ],
      "text/plain": [
       "loan amount bin  < 50k  50 - 100k  100 - 250k  250 - 500k  500k +\n",
       "Loan Status                                                      \n",
       "Charged Off         21         23          25          28      30\n",
       "Fully Paid          79         77          75          72      70"
      ]
     },
     "execution_count": 68,
     "metadata": {},
     "output_type": "execute_result"
    }
   ],
   "source": [
    "pd.crosstab(df['Loan Status'], df['loan amount bin'], normalize = 'columns')*100\n",
    "\n",
    "# semakin besar loan amount, semakin besar kemungkinan charged off"
   ]
  },
  {
   "cell_type": "code",
   "execution_count": 60,
   "metadata": {},
   "outputs": [
    {
     "data": {
      "image/png": "[encoded data removed]",
      "text/plain": [
       "<Figure size 720x360 with 1 Axes>"
      ]
     },
     "metadata": {
      "needs_background": "light"
     },
     "output_type": "display_data"
    }
   ],
   "source": [
    "plt.figure(figsize = (10,5))\n",
    "sns.countplot(x = df['income bin'], hue = df['Loan Status'], palette = 'ocean_r')\n",
    "plt.show()"
   ]
  },
  {
   "cell_type": "code",
   "execution_count": 61,
   "metadata": {
    "scrolled": false
   },
   "outputs": [
    {
     "data": {
      "text/html": [
       "<div>\n",
       "<style scoped>\n",
       "    .dataframe tbody tr th:only-of-type {\n",
       "        vertical-align: middle;\n",
       "    }\n",
       "\n",
       "    .dataframe tbody tr th {\n",
       "        vertical-align: top;\n",
       "    }\n",
       "\n",
       "    .dataframe thead th {\n",
       "        text-align: right;\n",
       "    }\n",
       "</style>\n",
       "<table border=\"1\" class=\"dataframe\">\n",
       "  <thead>\n",
       "    <tr style=\"text-align: right;\">\n",
       "      <th>income bin</th>\n",
       "      <th>&lt; 0.5m</th>\n",
       "      <th>0.5 - 1m</th>\n",
       "      <th>1 - 1.5m</th>\n",
       "      <th>1.5 - 2m</th>\n",
       "      <th>2m +</th>\n",
       "    </tr>\n",
       "    <tr>\n",
       "      <th>Loan Status</th>\n",
       "      <th></th>\n",
       "      <th></th>\n",
       "      <th></th>\n",
       "      <th></th>\n",
       "      <th></th>\n",
       "    </tr>\n",
       "  </thead>\n",
       "  <tbody>\n",
       "    <tr>\n",
       "      <th>Charged Off</th>\n",
       "      <td>32</td>\n",
       "      <td>29</td>\n",
       "      <td>29</td>\n",
       "      <td>21</td>\n",
       "      <td>18</td>\n",
       "    </tr>\n",
       "    <tr>\n",
       "      <th>Fully Paid</th>\n",
       "      <td>68</td>\n",
       "      <td>71</td>\n",
       "      <td>71</td>\n",
       "      <td>79</td>\n",
       "      <td>82</td>\n",
       "    </tr>\n",
       "  </tbody>\n",
       "</table>\n",
       "</div>"
      ],
      "text/plain": [
       "income bin   < 0.5m  0.5 - 1m  1 - 1.5m  1.5 - 2m  2m +\n",
       "Loan Status                                            \n",
       "Charged Off      32        29        29        21    18\n",
       "Fully Paid       68        71        71        79    82"
      ]
     },
     "execution_count": 61,
     "metadata": {},
     "output_type": "execute_result"
    }
   ],
   "source": [
    "pd.crosstab(df['Loan Status'], df['income bin'], normalize = 'columns')*100\n",
    "\n",
    "# semakin besar annual income, semakin kecil kemungkinan charged off"
   ]
  },
  {
   "cell_type": "code",
   "execution_count": 71,
   "metadata": {
    "scrolled": true
   },
   "outputs": [
    {
     "data": {
      "image/png": "[encoded data removed]",
      "text/plain": [
       "<Figure size 720x360 with 1 Axes>"
      ]
     },
     "metadata": {
      "needs_background": "light"
     },
     "output_type": "display_data"
    }
   ],
   "source": [
    "plt.figure(figsize = (10,5))\n",
    "sns.countplot(x = df['credit history bin'], hue = df['Loan Status'], palette = 'ocean_r')\n",
    "plt.show()"
   ]
  },
  {
   "cell_type": "code",
   "execution_count": 72,
   "metadata": {
    "scrolled": false
   },
   "outputs": [
    {
     "data": {
      "text/html": [
       "<div>\n",
       "<style scoped>\n",
       "    .dataframe tbody tr th:only-of-type {\n",
       "        vertical-align: middle;\n",
       "    }\n",
       "\n",
       "    .dataframe tbody tr th {\n",
       "        vertical-align: top;\n",
       "    }\n",
       "\n",
       "    .dataframe thead th {\n",
       "        text-align: right;\n",
       "    }\n",
       "</style>\n",
       "<table border=\"1\" class=\"dataframe\">\n",
       "  <thead>\n",
       "    <tr style=\"text-align: right;\">\n",
       "      <th>credit history bin</th>\n",
       "      <th>&lt; 5</th>\n",
       "      <th>5 - 9</th>\n",
       "      <th>10 - 14</th>\n",
       "      <th>15 - 19</th>\n",
       "      <th>20 +</th>\n",
       "    </tr>\n",
       "    <tr>\n",
       "      <th>Loan Status</th>\n",
       "      <th></th>\n",
       "      <th></th>\n",
       "      <th></th>\n",
       "      <th></th>\n",
       "      <th></th>\n",
       "    </tr>\n",
       "  </thead>\n",
       "  <tbody>\n",
       "    <tr>\n",
       "      <th>Charged Off</th>\n",
       "      <td>23</td>\n",
       "      <td>32</td>\n",
       "      <td>28</td>\n",
       "      <td>27</td>\n",
       "      <td>25</td>\n",
       "    </tr>\n",
       "    <tr>\n",
       "      <th>Fully Paid</th>\n",
       "      <td>77</td>\n",
       "      <td>68</td>\n",
       "      <td>72</td>\n",
       "      <td>73</td>\n",
       "      <td>75</td>\n",
       "    </tr>\n",
       "  </tbody>\n",
       "</table>\n",
       "</div>"
      ],
      "text/plain": [
       "credit history bin  < 5  5 - 9  10 - 14  15 - 19  20 +\n",
       "Loan Status                                           \n",
       "Charged Off          23     32       28       27    25\n",
       "Fully Paid           77     68       72       73    75"
      ]
     },
     "execution_count": 72,
     "metadata": {},
     "output_type": "execute_result"
    }
   ],
   "source": [
    "pd.crosstab(df['Loan Status'], df['credit history bin'], normalize = 'columns')*100\n",
    "\n",
    "# semakin lama riwayat kredit, semakin kecil kemungkinan charged off"
   ]
  }
 ],
 "metadata": {
  "kernelspec": {
   "display_name": "Python 3",
   "language": "python",
   "name": "python3"
  },
  "language_info": {
   "codemirror_mode": {
    "name": "ipython",
    "version": 3
   },
   "file_extension": ".py",
   "mimetype": "text/x-python",
   "name": "python",
   "nbconvert_exporter": "python",
   "pygments_lexer": "ipython3",
   "version": "3.8.3"
  }
 },
 "nbformat": 4,
 "nbformat_minor": 4
}
